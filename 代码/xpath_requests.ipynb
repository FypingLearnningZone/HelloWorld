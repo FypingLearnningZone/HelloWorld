{
 "cells": [
  {
   "cell_type": "code",
   "execution_count": 2,
   "metadata": {},
   "outputs": [],
   "source": [
    "import requests\n",
    "import csv\n",
    "from lxml import etree"
   ]
  },
  {
   "cell_type": "code",
   "execution_count": 3,
   "metadata": {},
   "outputs": [],
   "source": [
    "r = requests.get('http://www.mtime.com/top/tv/top100/index.html')"
   ]
  },
  {
   "cell_type": "code",
   "execution_count": 4,
   "metadata": {},
   "outputs": [
    {
     "data": {
      "text/plain": [
       "<Response [200]>"
      ]
     },
     "execution_count": 4,
     "metadata": {},
     "output_type": "execute_result"
    }
   ],
   "source": [
    "r"
   ]
  },
  {
   "cell_type": "code",
   "execution_count": 5,
   "metadata": {},
   "outputs": [
    {
     "name": "stdout",
     "output_type": "stream",
     "text": [
      "<html xmlns=\"http://www.w3.org/1999/xhtml\" xmlns=\"http://www.w3.org/1999/xhtml\"><head id=\"head\">\t<meta http-equiv=\"content-type\" content=\"text/html; charset=UTF-8\" /> <meta http-equiv=\"X-UA-Compatible\" content=\"IE=7\" />\t<title>&#26102;&#20809;&#30005;&#35270;&#21095;TOP100 - &#26102;&#20809;&#28909;&#27036; - Mtime&#26102;&#20809;&#32593;</title>\t<meta name=\"Keywords\" content=\"&#30005;&#35270;&#21095;&#12289;&#28909;&#27036;&#12289;&#30005;&#35270;&#25351;&#21335;\" /><meta name=\"Description\" content=\"&#25552;&#20379;&#25490;&#21517;&#21069;100&#30340;&#28909;&#38376;&#30005;&#35270;&#21095;\" /> <link type=\"image/x-icon\" href=\"http://static1.mtime.cn/favicon.ico\" rel=\"icon\" />&#13;\n",
      "<link type=\"image/x-icon\" href=\"http://static1.mtime.cn/favicon.ico\" rel=\"shortcut icon\" />&#13;\n",
      "<link type=\"image/x-icon\" href=\"http://static1.mtime.cn/favicon.ico\" rel=\"bookmark\" />&#13;\n",
      "<link href=\"http://static1.mtime.cn/favicon.ico\" rel=\"apple-touch-icon\" />&#13;\n",
      "<link type=\"application/opensearchdescription+xml\" href=\"http://feed.mtime.com/opensearch.xml\" title=\"Mtime&#24433;&#35270;&#25628;&#32034;\" rel=\"search\" />&#13;\n",
      "<link rel=\"alternate\" type=\"application/rss+xml\" title=\"&#24433;&#35780;\" href=\"http://feed.mtime.com/comment.rss\" />&#13;\n",
      "<link rel=\"alternate\" type=\"application/rss+xml\" title=\"&#26085;&#24535;\" href=\"http://feed.mtime.com/blog.rss\" />&#13;\n",
      "<link rel=\"alternate\" type=\"application/rss+xml\" title=\"&#36164;&#35759;\" href=\"http://feed.mtime.com/news.rss\" />&#13;\n",
      "<link rel=\"alternate\" type=\"application/rss+xml\" title=\"&#35805;&#39064;\" href=\"http://feed.mtime.com/topic.rss\" />&#13;\n",
      "<link rel=\"alternate\" type=\"application/rss+xml\" title=\"&#21608;&#21002;\" href=\"http://feed.mtime.com/weekly.rss\" />&#13;\n",
      "<script type=\"text/javascript\">&#13;\n",
      "    var channelService = \"http://service.channel.mtime.com\";&#13;\n",
      "    var server = \"http://static1.mtime.cn/\";&#13;\n",
      "    var subServer = \"http://static1.mtime.cn/channel/\";&#13;\n",
      "    var version = \"20180308112746\";&#13;\n",
      "\tvar subVersion = \"20180305142624\";&#13;\n",
      "    var jsServer = server + version;&#13;\n",
      "    var cssServer = server + version;&#13;\n",
      "    var subJsServer = subServer + subVersion;&#13;\n",
      "    var subCssServer = subServer + subVersion;&#13;\n",
      "    var loginUrlPattern = \"http://my.mtime.com/member/signin/operation/?redirectUrl=\";&#13;\n",
      "</script>&#13;\n",
      "<script type=\"text/javascript\">&#13;\n",
      "  document.write(unescape(\"%3Clink href='\" + cssServer + \"/css/2014/publicpack.css' rel='stylesheet' media='all' type='text/css'%3E%3C/link%3E\"));&#13;\n",
      "</script> <script type=\"text/javascript\"> document.write( unescape( \"%3Clink href='\"+ cssServer +\"/css/2011/toplist.css' rel='stylesheet' media='all' type='text/css'%3E%3C/link%3E\" ) );</script><script type=\"text/javascript\"> document.write( unescape( \"%3Clink href='\"+ cssServer +\"/css/2014/toplist_replace.css' rel='stylesheet' media='all' type='text/css'%3E%3C/link%3E\" ) );</script></head><body id=\"bodyRegion\"> <script type=\"text/javascript\">var svNavigationData = {\"value\":{\"mainNavigationTypeName\":\"common\",\"mainNavigationType\":-1,\"subNavigationType\":-1},\"error\":null};</script> <div id=\"homeContentRegion\"> \t<map class=\"none\">&#13;\n",
      "  <dl>&#13;\n",
      "    <dt><a title=\"&#32593;&#31449;&#22320;&#22270;\" href=\"http://www.mtime.com/sitemap.htm\">&#32593;&#31449;&#22320;&#22270;</a></dt>&#13;\n",
      "    <dt><a title=\"&#39318;&#39029;\" href=\"http://www.mtime.com/\">&#39318;&#39029;</a></dt>&#13;\n",
      "    <dt><a title=\"&#26032;&#38395;\" href=\"http://news.mtime.com/\">&#26032;&#38395;</a></dt>&#13;\n",
      "     <dd><a title=\"&#30005;&#24433;&#26032;&#38395;\" href=\"http://news.mtime.com/movie/all/\">&#30005;&#24433;&#26032;&#38395;</a></dd>&#13;\n",
      "    <dd><a title=\"&#30005;&#35270;&#26032;&#38395;\" href=\"http://news.mtime.com/tv/all/\">&#30005;&#35270;&#26032;&#38395;</a></dd>&#13;\n",
      "<dd><a title=\"&#20154;&#29289;&#26032;&#38395;\" href=\"http://news.mtime.com/people/all/\">&#20154;&#29289;&#26032;&#38395;</a></dd>&#13;\n",
      "<dd><a title=\"&#19987;&#39064;&#31574;&#21010;\" href=\"http://news.mtime.com/features/\">&#19987;&#39064;&#31574;&#21010;</a></dd>&#13;\n",
      "    <dt><a title=\"&#24433;&#35780;\" href=\"http://www.mtime.com/review/\">&#24433;&#35780;</a></dt>&#13;\n",
      "     <dd><a title=\"&#26368;&#26032;&#24433;&#35780;\" href=\"http://www.mtime.com/review/newcomment/\">&#26368;&#26032;&#24433;&#35780;</a></dd>&#13;\n",
      "     <dd><a title=\"&#26032;&#29255;&#28909;&#35780;\" href=\"http://www.mtime.com/review/nowplaying/\">&#26032;&#29255;&#28909;&#35780;</a></dd>&#13;\n",
      "     <dd><a title=\"&#32463;&#20856;&#36175;&#26512;\" href=\"http://www.mtime.com/review/1/\">&#32463;&#20856;&#36175;&#26512;</a></dd>&#13;\n",
      "     <dd><a title=\"&#23186;&#20307;&#35780;&#35770;\" href=\"http://www.mtime.com/review/mediareview/\">&#23186;&#20307;&#35780;&#35770;</a></dd>&#13;\n",
      "<dt><a title=\"&#30005;&#24433;&#38498;\" href=\"http://theater.mtime.com/\">&#30005;&#24433;&#38498;</a></dt>&#13;\n",
      "     <dd><a title=\"&#21271;&#20140;&#24433;&#35759;\" href=\"http://theater.mtime.com/China_Beijing/\">&#21271;&#20140;&#24433;&#35759;</a></dd>&#13;\n",
      "     <dd><a title=\"&#19978;&#28023;&#24433;&#35759;\" href=\"http://theater.mtime.com/China_Shanghai/\">&#19978;&#28023;&#24433;&#35759;</a></dd>&#13;\n",
      "     <dd><a title=\"&#24191;&#24030;&#24433;&#35759;\" href=\"http://theater.mtime.com/China_Guangdong_Province_Guangzhou/\">&#24191;&#24030;&#24433;&#35759;</a></dd>&#13;\n",
      "     <dd><a title=\"&#28145;&#22323;&#24433;&#35759;\" href=\"http://theater.mtime.com/China_Guangdong_Province_Shenzen/\">&#28145;&#22323;&#24433;&#35759;</a></dd>&#13;\n",
      "     <dd><a title=\"&#25104;&#37117;&#24433;&#35759;\" href=\"http://theater.mtime.com/China_Sichuan_Province_Chengdu/\">&#25104;&#37117;&#24433;&#35759;</a></dd>&#13;\n",
      "    <dt><a title=\"&#36164;&#26009;&#24211;\" href=\"http://movie.mtime.com/\">&#36164;&#26009;&#24211;</a></dt>&#13;\n",
      "     <dd><a title=\"&#20856;&#34255;&#20339;&#29255;\" href=\"http://movie.mtime.com/classic/\">&#20856;&#34255;&#20339;&#29255;</a></dd>&#13;\n",
      "<dd><a title=\"&#20840;&#29699;&#26032;&#29255;\" href=\"http://movie.mtime.com/new/\">&#20840;&#29699;&#26032;&#29255;</a></dd>&#13;\n",
      "<dd><a title=\"&#21363;&#23558;&#19978;&#26144;\" href=\"http://movie.mtime.com/recent/index.html\">&#21363;&#23558;&#19978;&#26144;</a></dd>&#13;\n",
      "     <dd><a title=\"&#31080;&#25151;&#27036;\" href=\"http://movie.mtime.com/boxoffice/\">&#31080;&#25151;&#27036;</a></dd>&#13;\n",
      "    <dt><a title=\"&#31038;&#21306;\" href=\"http://www.mtime.com/community\">&#31038;&#21306;</a></dt>&#13;\n",
      "     <dd><a title=\"&#24433;&#35270;&#26434;&#35848;\" href=\"http://www.mtime.com/community/blog/movie/index.html\">&#24433;&#35270;&#26434;&#35848;</a></dd>&#13;\n",
      "     <dd><a title=\"&#26126;&#26143;&#26102;&#23578;\" href=\"http://www.mtime.com/community/blog/fashion/index.html\">&#26126;&#26143;&#26102;&#23578;</a></dd>&#13;\n",
      "     <dd><a title=\"&#25991;&#21270;&#20241;&#38386;\" href=\"http://www.mtime.com/community/blog/fallow/index.html\">&#25991;&#21270;&#20241;&#38386;</a></dd>&#13;\n",
      "     <dd><a title=\"&#32676;&#32452;\" href=\"http://www.mtime.com/community/group/?categoryId=1\">&#32676;&#32452;</a></dd>&#13;\n",
      "<dd><a title=\"&#35805;&#39064;\" href=\"http://www.mtime.com/community/topic_new/\">&#35805;&#39064;</a></dd>&#13;\n",
      "     <dd><a title=\"&#36798;&#20154;\" href=\"http://www.mtime.com/community/doyen/popularity/\">&#36798;&#20154;</a></dd>&#13;\n",
      "    <dt><a title=\"&#25490;&#34892;&#27036;\" href=\"http://www.mtime.com/top/movie/top100/\">&#25490;&#34892;&#27036;</a></dt>&#13;\n",
      "     <dd><a title=\"&#30005;&#24433;&#27036;\" href=\"http://www.mtime.com/top/movie/top100/\">&#30005;&#24433;&#27036;</a></dd>&#13;\n",
      "     <dd><a title=\"&#30005;&#35270;&#27036;\" href=\"http://www.mtime.com/top/tv/top100/\">&#30005;&#35270;&#27036;</a></dd>&#13;\n",
      "     <dd><a title=\"&#20154;&#29289;&#27036;\" href=\"http://www.mtime.com/top/people/rate/\">&#20154;&#29289;&#27036;</a></dd>&#13;\n",
      "     <dd><a title=\"&#26085;&#24535;&#27036;\" href=\"http://www.mtime.com/top/blog/hot_24h/\">&#26085;&#24535;&#27036;</a></dd>&#13;\n",
      "<dd><a title=\"&#35805;&#39064;&#27036;\" href=\"http:/www.mtime.com/top/topic/hot_24h/\">&#35805;&#39064;&#27036;</a></dd>&#13;\n",
      "     </dl>&#13;\n",
      "</map>&#13;\n",
      "<div id=\"top\"></div>&#13;\n",
      "<!--\r\n",
      "<script type=\"text/javascript\">\r\n",
      "\tdocument.write( unescape( \"%3Cscript src='http://static1.mtime.cn/\"+ version +\"/utility/channeltop2011/\" + svNavigationData.value.mainNavigationTypeName + \"/' type='text/javascript'%3E%3C/script%3E\" ) );\r\n",
      "</script>\r\n",
      "-->&#13;\n",
      "<script type=\"text/javascript\">&#13;\n",
      "\tvar navigationBarType = 1;document.writeln( \"&lt;div id=\\\"topbar\\\"&gt;&lt;/div&gt;&lt;div id=\\\"managerHistoryRegion\\\"&gt;&lt;/div&gt;\");var debug = false;var mtimeCookieDomain=\"mtime.com\";var siteLogUrl=\"http://log.mtime.cn\";var siteUrl=\"http://www.mtime.com\";var siteMcUrl=\"http://my.mtime.com\";var siteApiUrl=\"http://api.mtime.com\";var siteBlogUrl=\"http://i.mtime.com\";var siteGroupUrl=\"http://group.mtime.com\";var siteMovieUrl=\"http://movie.mtime.com\";var sitePeopleUrl=\"http://people.mtime.com\";var siteNewsUrl=\"http://news.mtime.com\";var siteServiceUrl=\"http://service.mtime.com\";var siteSearchUrl=\"http://search.mtime.com\";var siteGoodsListUrl=\"http://list.mall.mtime.com\";var theaterService=\"http://service.theater.mtime.com\";var siteLibraryServiceUrl=\"http://service.library.mtime.com\";var siteCommunityServiceUrl=\"http://service.community.mtime.com\";var siteChannelServiceUrl=\"http://service.channel.mtime.com\";var siteGoodsServiceUrl=\"http://service.mall.mtime.com\";var siteTradeServiceUrl=\"http://trade.mtime.com\";var siteFunUrl=\"\";var sitePassportUrl=\"http://passport.mtime.com\";var crossDomainUpload=\"http://upload3.mtime.com/Upload.ashx\";var topMenuValues={\"mainNavType\":\"Detail\",\"footer\":\"&lt;dt class=\\\"clearfix\\\"&gt;&lt;span class=\\\"fr\\\"&gt;&#31532;212&#26399;&lt;/span&gt;&lt;strong&gt;&#26102;&#20809;&#21608;&#21002;&lt;/strong&gt;&lt;/dt&gt;\\n                &lt;dd&gt;&lt;a href=\\\"http://www.mtime.com/weekly/\\\" target=\\\"_blank\\\" title=\\\"&#26102;&#20809;&#21608;&#21002;\\\"&gt;&lt;img src=\\\"http://img5.mtime.cn/mg/2018/06/26/155934.32319019.jpg\\\" width=\\\"170\\\" alt=\\\"&#26102;&#20809;&#21608;&#21002;\\\"&gt;&lt;/a&gt;&lt;/dd&gt;\"};&#13;\n",
      "</script>\t<style type=\"text/css\"> body{ font-family:\"&#24494;&#36719;&#38597;&#40657;\",\"microsoft yahei\",verdana,lucida,arial,sans-serif,\"&#40657;&#20307;\"; background:#fff;} .toplist_headout{background:#127bab; padding-bottom:60px; position:relative; z-index:1;} .toplist_head{ background:#127bab; width:960px; margin:0 auto; padding:100px 0 20px; color:#fff;} .toplist_head h3,.toplist_head h4{ position:relative; zoom:1; display:inline-block; *display:inline; margin-right:5px; vertical-align:baseline; } .toplist_head h3{ font-size:35px; line-height:1.2em;} .toplist_head h4{ font-size:26px; line-height:1em;} .c_out{ padding:0; margin:0; width:960px; position:relative; margin:0 auto; overflow:visible; background:transparent; z-index:3; } .c_out_h{ width:960px; margin:0 auto; position:relative ; z-index:5; margin-top:-60px;} .toplist_cont{ padding:0; box-shadow:0 0 3px #666;} .top_title h1{ font-size:18px; line-height:2.5em;} .per_point{ color:#d11438; font-size:18px; position:absolute; top:60px; left:20px; letter-spacing:-1px; line-height:18px; } .per_point i{ font-size:36px; font-weight:bold; line-height:36px;} </style> <div class=\"toplist_headout\">\t<div class=\"toplist_head\">\t<h3>&#26102;&#20809;&#28909;&#27036;</h3>\t<h4>MTIME TOP LIST</h4>\t</div></div><div class=\"c_out\">\t<div class=\"c_out_h\">\t<div class=\"toplist_cont\">\t<div class=\"o_h zoom\">\t<div class=\"grid fix\">\t<div class=\"cols\">\t<div class=\"top_menu\">\t<ul id=\"verticalMenuRegion\">\t<li><strong><a href=\"#\" onclick=\"return false;\">&#30005;&#24433;&#27036;</a></strong>\t<ul style=\"display: none;\">\t<li><a href=\"http://www.mtime.com/top/movie/top100/\">&#26102;&#20809;&#32593;TOP100<em></em></a></li>\t<li><a href=\"http://www.mtime.com/top/movie/top100_chinese/\">&#21326;&#35821;&#30005;&#24433;TOP100<em></em></a></li>\t<li><a href=\"http://www.mtime.com/top/movie/top100_japan/\">&#26085;&#26412;&#30005;&#24433;TOP100<em></em></a></li>\t<li><a href=\"http://www.mtime.com/top/movie/top100_south_korea/\">&#38889;&#22269;&#30005;&#24433;TOP100<em></em></a></li>\t<li><a href=\"http://www.mtime.com/top/movie/hot_top10/\">&#26412;&#21608;&#28909;&#38376;TOP10<em></em></a></li>\t<li><a href=\"http://www.mtime.com/top/movie/anticipate/\">&#20250;&#21592;&#26368;&#26399;&#24453;&#26032;&#29255;<em></em></a></li>\t<li><a href=\"http://www.mtime.com/top/movie/favorite/\">&#28909;&#38376;&#25910;&#34255;&#30005;&#24433;<em></em></a></li> <li><a href=\"http://movie.mtime.com/comingsoon/#hottest \" target=\"_blank\">&#26102;&#20809;&#28909;&#24230;&#25490;&#21517;<em></em></a></li> <li><a href=\"http://movie.mtime.com/boxoffice#CN/daily\" target=\"_blank\">&#31080;&#25151;&#27036;<em></em></a></li> <li><a href=\"http://movie.mtime.com/movie/list/\" target=\"_blank\">&#30005;&#24433;&#29305;&#33394;&#27036;&#21333;<em></em></a></li>\t</ul>\t</li>\t<li class=\"selected\"><strong><a href=\"#\" onclick=\"return false;\">&#30005;&#35270;&#27036;</a></strong>\t<ul style=\"display: block;\">\t<li><a class=\"on\" href=\"http://www.mtime.com/top/tv/top100/\">&#26102;&#20809;&#30005;&#35270;&#21095;TOP100<em></em></a></li>\t<li><a href=\"http://www.mtime.com/top/tv/week/1/\">&#26412;&#21608;&#28909;&#38376;&#21095;&#38598;TOP10<em></em></a></li>\t<li><a href=\"http://www.mtime.com/top/tv/month/1/\">&#26412;&#26376;&#28909;&#38376;&#21095;&#38598;TOP10<em></em></a></li>\t<li><a href=\"http://www.mtime.com/top/tv/classic/1/\">&#32463;&#20856;&#21095;&#38598;TOP50<em></em></a></li> <li><a href=\"http://movie.mtime.com/tv/list/\" target=\"_blank\">&#30005;&#35270;&#29305;&#33394;&#27036;&#21333;<em></em></a></li>\t</ul>\t</li>\t<li><strong><a href=\"#\" onclick=\"return false;\">&#20154;&#29289;&#27036;</a></strong>\t<ul style=\"display: none;\">\t<li><a href=\"http://www.mtime.com/top/people/rate/\">&#26102;&#20809;&#20154;&#29289;&#35780;&#20998;&#27036;<em></em></a></li>\t<li><a href=\"http://www.mtime.com/top/people/favorite/\">&#26102;&#20809;&#20154;&#29289;&#25910;&#34255;&#27036;<em></em></a></li>\t<li><a href=\"http://www.mtime.com/top/people/hot_top10/\">&#28909;&#38376;&#20154;&#29289;TOP10<em></em></a></li>\t<li><a href=\"http://www.mtime.com/top/people/bestactors/\">&#23454;&#21147;&#27966;&#24433;&#26143;TOP10<em></em></a></li>\t<li><a href=\"http://www.mtime.com/top/people/masters/\">&#30005;&#24433;&#22823;&#24072;TOP10<em></em></a></li>\t<li><a href=\"http://movie.mtime.com/people/list/index.html\" target=\"_blank\">&#20154;&#29289;&#29305;&#33394;&#27036;&#21333;<em></em></a></li> </ul>\t\t</li>\t<li><strong><a href=\"#\" onclick=\"return false;\">&#26085;&#24535;&#27036;</a></strong>\t<ul style=\"display: none;\">\t<li><a href=\"http://www.mtime.com/top/blog/hot_24h/\">24&#23567;&#26102;&#28909;&#38376;&#26085;&#24535;<em></em></a></li>\t<li><a href=\"http://www.mtime.com/top/blog/hot_7d/\">7&#22825;&#28909;&#38376;&#26085;&#24535;<em></em></a></li>\t<li><a href=\"http://www.mtime.com/top/blog/hot_30d/\">30&#22825;&#28909;&#38376;&#26085;&#24535;<em></em></a></li>\t</ul>\t</li>\t<li><strong><a href=\"#\" onclick=\"return false;\">&#35805;&#39064;&#27036;</a></strong>\t<ul style=\"display: none;\">\t<li><a href=\"http://www.mtime.com/top/topic/hot_24h/\">24&#23567;&#26102;&#28909;&#38376;&#35805;&#39064;<em></em></a></li>\t<li><a href=\"http://www.mtime.com/top/topic/hot_7d/\">7&#22825;&#28909;&#38376;&#35805;&#39064;<em></em></a></li>\t<li><a href=\"http://www.mtime.com/top/topic/hot_30d/\">30&#22825;&#28909;&#38376;&#35805;&#39064;<em></em></a></li>\t</ul>\t</li>\t</ul></div>\t</div>\t<div class=\"colm\"> <div class=\"top_title clearfix\"> <div id=\"shareButton\" class=\"fr ml6 new_share\"></div> \t<h1>&#26102;&#20809;&#30005;&#35270;&#21095;TOP100</h1>\t</div>\t<div class=\"top_list\">\t<ul id=\"asyncRatingRegion\">\t\t<li class=\"one\">\t<div class=\"number\"><em>1</em></div>\t<div class=\"mov_pic\">\t<a href=\"http://movie.mtime.com/15167/\" target=\"_blank\" title=\"&#32769;&#21451;&#35760;/Friends\"><img alt=\"&#32769;&#21451;&#35760;/Friends\" width=\"96\" height=\"128\" class=\"img_box\" src=\"http://img21.mtime.cn/mt/2011/06/29/181841.93867591_96X128.jpg\" /></a>\t</div>\t<div class=\"mov_con\">\t<h2 class=\"px14 pb6\"><a class=\"c_fff\" href=\"http://movie.mtime.com/15167/\" target=\"_blank\">&#32769;&#21451;&#35760;&#160;Friends (1994)</a></h2>\t\t<p>&#23548;&#28436;&#65306; <a class=\"c_fff\" href=\"http://people.mtime.com/900523/\" target=\"_blank\">&#20975;&#25991;&#183;&#24067;&#36182;&#29305;</a></p>\t\t<p>&#20027;&#28436;&#65306; <a class=\"c_fff\" href=\"http://people.mtime.com/913613/\" target=\"_blank\">&#35449;&#22958;&#24343;&#183;&#23433;&#22958;&#26031;&#39039;</a>\t\t&#160;<a class=\"c_fff\" href=\"http://people.mtime.com/900540/\" target=\"_blank\">&#22823;&#21355;&#183;&#20241;&#40664;</a>\t\t</p>\t\t<p class=\"mt3\">&#25925;&#20107;&#20027;&#35201;&#25551;&#36848;&#20102;&#20303;&#22312;&#32445;&#32422;&#30340;&#20845;&#20010;&#22909;&#26379;&#21451;&#20174;&#30456;&#35782;&#21040;&#21518;&#26469;&#19968;&#36215;&#32463;&#21382;&#20102;9&#24180;&#30340;&#29983;&#27963;&#20013;&#21457;&#29983;&#30340;&#19968;&#31995;&#21015;&#30340;&#25925;&#20107;&#65292;&#26379;&#21451;&#38388;&#30340;&#29983;&#27963;&#12289;&#21451;&#35850;&#12289;&#40635;&#28902;&#12289;&#27426;&#31505;..</p>\t\t</div>\t<div class=\"mov_point\">  <b class=\"point\"><span class=\"total\">9</span><span class=\"total2\">.6</span></b>  <p> 6037&#20154;&#35780;&#20998;  </p></div>\t</li>\t\t<li class=\"two\">\t<div class=\"number\"><em>2</em></div>\t<div class=\"mov_pic\">\t<a href=\"http://movie.mtime.com/15374/\" target=\"_blank\" title=\"&#28023;&#36156;&#29579;/One Piece\"><img alt=\"&#28023;&#36156;&#29579;/One Piece\" width=\"96\" height=\"128\" class=\"img_box\" src=\"http://img31.mtime.cn/mt/2014/02/22/234427.64833137_96X128.jpg\" /></a>\t</div>\t<div class=\"mov_con\">\t<h2 class=\"px14 pb6\"><a class=\"c_fff\" href=\"http://movie.mtime.com/15374/\" target=\"_blank\">&#28023;&#36156;&#29579;&#160;One Piece (1999)</a></h2>\t\t<p>&#23548;&#28436;&#65306; <a class=\"c_fff\" href=\"http://people.mtime.com/903908/\" target=\"_blank\">&#23431;&#30000;&#38050;&#20043;&#21161;</a></p>\t\t<p>&#20027;&#28436;&#65306; <a class=\"c_fff\" href=\"http://people.mtime.com/990425/\" target=\"_blank\">&#30000;&#20013;&#30495;&#24339;</a>\t\t&#160;<a class=\"c_fff\" href=\"http://people.mtime.com/990418/\" target=\"_blank\">&#20013;&#20117;&#21644;&#21705;</a>\t\t</p>\t\t<p class=\"mt3\">&#25925;&#20107;&#22260;&#32469;&#30528;&#26790;&#24819;&#21644;&#21516;&#20276;&#30340;&#21451;&#35850;&#20004;&#20010;&#20027;&#39064;&#23637;&#24320;&#12290;&#25972;&#20010;&#20316;&#21697;&#25317;&#26377;&#33258;&#24049;&#24222;&#22823;&#30340;&#19990;&#30028;&#35266;&#12290;</p>\t\t</div>\t<div class=\"mov_point\">  <b class=\"point\"><span class=\"total\">9</span><span class=\"total2\">.5</span></b>  <p> 2643&#20154;&#35780;&#20998;  </p></div>\t</li>\t\t<li class=\"three\">\t<div class=\"number\"><em>3</em></div>\t<div class=\"mov_pic\">\t<a href=\"http://movie.mtime.com/58244/\" target=\"_blank\" title=\"&#22320;&#29699;&#33033;&#21160;/Planet Earth\"><img alt=\"&#22320;&#29699;&#33033;&#21160;/Planet Earth\" width=\"96\" height=\"128\" class=\"img_box\" src=\"http://img31.mtime.cn/mt/2015/10/22/103030.68493848_96X128.jpg\" /></a>\t</div>\t<div class=\"mov_con\">\t<h2 class=\"px14 pb6\"><a class=\"c_fff\" href=\"http://movie.mtime.com/58244/\" target=\"_blank\">&#22320;&#29699;&#33033;&#21160;&#160;Planet Earth (2006)</a></h2>\t\t<p>&#23548;&#28436;&#65306; <a class=\"c_fff\" href=\"http://people.mtime.com/907456/\" target=\"_blank\">&#33406;&#38647;&#26031;&#27888;&#183;&#27861;&#29791;&#21513;&#23572;</a></p>\t\t<p>&#20027;&#28436;&#65306; <a class=\"c_fff\" href=\"http://people.mtime.com/900262/\" target=\"_blank\">&#22823;&#21355;&#183;&#33406;&#30331;&#22561;</a>\t\t&#160;<a class=\"c_fff\" href=\"http://people.mtime.com/919112/\" target=\"_blank\">&#35199;&#26684;&#22958;&#183;&#38886;&#24343;</a>\t\t</p>\t\t<p class=\"mt3\">&#12298;&#22320;&#29699;&#33033;&#21160;&#12299;&#30001;&#24471;&#36807;&#22810;&#39033;&#22823;&#22870;&#30340;&#12298;&#34013;&#33394;&#26143;&#29699;&#12299;&#21407;&#29677;&#20154;&#39532;&#25293;&#25668;&#21046;&#20316;&#65292;&#26159;&#23545;&#22320;&#29699;&#31354;&#21069;&#32477;&#21518;&#30340;&#31036;&#36190;&#65292;&#25317;&#25265;&#22320;&#29699;&#19978;&#19981;&#21487;&#24605;&#35758;&#30340;&#32654;&#26223;&#21644;&#33258;&#28982;&#29983;&#29289;&#12290;..</p>\t\t</div>\t<div class=\"mov_point\">  <b class=\"point\"><span class=\"total\">9</span><span class=\"total2\">.5</span></b>  <p> 490&#20154;&#35780;&#20998;  </p></div>\t</li>\t\t<li>\t<div class=\"number\"><em>4</em></div>\t<div class=\"mov_pic\">\t<a href=\"http://movie.mtime.com/147142/\" target=\"_blank\" title=\"&#37326;&#22806;&#27714;&#29983;/Man vs. Wild\"><img alt=\"&#37326;&#22806;&#27714;&#29983;/Man vs. Wild\" width=\"96\" height=\"128\" class=\"img_box\" src=\"http://img21.mtime.cn/mt/2011/03/25/185512.17037614_96X128.jpg\" /></a>\t</div>\t<div class=\"mov_con\">\t<h2 class=\"px14 pb6\"><a class=\"c_blue\" href=\"http://movie.mtime.com/147142/\" target=\"_blank\">&#37326;&#22806;&#27714;&#29983;&#160;Man vs. Wild (2006)</a></h2>\t\t<p>&#23548;&#28436;&#65306; <a class=\"c_blue\" href=\"http://people.mtime.com/1833459/\" target=\"_blank\">Mike Warner</a></p>\t\t<p>&#20027;&#28436;&#65306; <a class=\"c_blue\" href=\"http://people.mtime.com/1719630/\" target=\"_blank\">&#36125;&#23572;&#183;&#26684;&#37324;&#23572;&#26031;</a>\t\t</p>\t\t</div>\t<div class=\"mov_point\">  <b class=\"point\"><span class=\"total\">9</span><span class=\"total2\">.5</span></b>  <p> 204&#20154;&#35780;&#20998;  </p></div>\t</li>\t\t<li>\t<div class=\"number\"><em>5</em></div>\t<div class=\"mov_pic\">\t<a href=\"http://movie.mtime.com/148428/\" target=\"_blank\" title=\"&#20154;&#31867;&#26143;&#29699;/Human Planet\"><img alt=\"&#20154;&#31867;&#26143;&#29699;/Human Planet\" width=\"96\" height=\"128\" class=\"img_box\" src=\"http://img21.mtime.cn/mt/2011/12/31/184515.89517614_96X128.jpg\" /></a>\t</div>\t<div class=\"mov_con\">\t<h2 class=\"px14 pb6\"><a class=\"c_blue\" href=\"http://movie.mtime.com/148428/\" target=\"_blank\">&#20154;&#31867;&#26143;&#29699;&#160;Human Planet (2011)</a></h2>\t\t<p>&#23548;&#28436;&#65306; <a class=\"c_blue\" href=\"http://people.mtime.com/1224153/\" target=\"_blank\">Nicolas Brown</a></p>\t\t<p>&#20027;&#28436;&#65306; <a class=\"c_blue\" href=\"http://people.mtime.com/914343/\" target=\"_blank\">&#32422;&#32752;&#183;&#36203;&#29305;</a>\t\t</p>\t\t</div>\t<div class=\"mov_point\">  <b class=\"point\"><span class=\"total\">9</span><span class=\"total2\">.5</span></b>  <p> 138&#20154;&#35780;&#20998;  </p></div>\t</li>\t\t<li>\t<div class=\"number\"><em>6</em></div>\t<div class=\"mov_pic\">\t<a href=\"http://movie.mtime.com/21581/\" target=\"_blank\" title=\"&#29483;&#21644;&#32769;&#40736;/Tom and Jerry\"><img alt=\"&#29483;&#21644;&#32769;&#40736;/Tom and Jerry\" width=\"96\" height=\"128\" class=\"img_box\" src=\"http://img31.mtime.cn/mt/2014/02/23/010319.82463440_96X128.jpg\" /></a>\t</div>\t<div class=\"mov_con\">\t<h2 class=\"px14 pb6\"><a class=\"c_blue\" href=\"http://movie.mtime.com/21581/\" target=\"_blank\">&#29483;&#21644;&#32769;&#40736;&#160;Tom and Jerry (1965)</a></h2>\t\t<p>&#23548;&#28436;&#65306; <a class=\"c_blue\" href=\"http://people.mtime.com/910325/\" target=\"_blank\">&#29305;&#20811;&#26031;&#183;&#33406;&#24343;&#37324;</a></p>\t\t<p>&#20027;&#28436;&#65306; <a class=\"c_blue\" href=\"http://people.mtime.com/910325/\" target=\"_blank\">&#29305;&#20811;&#26031;&#183;&#33406;&#24343;&#37324;</a>\t\t&#160;<a class=\"c_blue\" href=\"http://people.mtime.com/903287/\" target=\"_blank\">&#32422;&#29791;&#22827;&#183;&#24052;&#20271;&#25289;</a>\t\t</p>\t\t<p class=\"mt3\">&#29483;&#21644;&#32769;&#40736;&#65288;&#33521;&#25991;&#65306;Tom and Jerry&#65292;&#21488;&#28286;&#30005;&#35270;&#20844;&#21496;1970&#24180;&#20195;&#25773;&#20986;&#26102;&#26366;&#32463;&#31216;&#20316;&#8220;&#22937;&#22937;&#22937;&#8221;&#65292;&#21326;&#32435;&#23478;&#24237;&#23089;&#20048;&#22312;&#21488;&#28286;&#21457;&#34892;&#30340;DVD&#31216;&#20026;&#8220;&#27748;&#22982;&#29483;&#19982;..</p>\t\t</div>\t<div class=\"mov_point\">  <b class=\"point\"><span class=\"total\">9</span><span class=\"total2\">.4</span></b>  <p> 959&#20154;&#35780;&#20998;  </p></div>\t</li>\t\t<li>\t<div class=\"number\"><em>7</em></div>\t<div class=\"mov_pic\">\t<a href=\"http://movie.mtime.com/13786/\" target=\"_blank\" title=\"&#20804;&#24351;&#36830;/Band of Brothers\"><img alt=\"&#20804;&#24351;&#36830;/Band of Brothers\" width=\"96\" height=\"128\" class=\"img_box\" src=\"http://img31.mtime.cn/mt/2014/02/22/232452.57069732_96X128.jpg\" /></a>\t</div>\t<div class=\"mov_con\">\t<h2 class=\"px14 pb6\"><a class=\"c_blue\" href=\"http://movie.mtime.com/13786/\" target=\"_blank\">&#20804;&#24351;&#36830;&#160;Band of Brothers (2001)</a></h2>\t\t<p>&#23548;&#28436;&#65306; <a class=\"c_blue\" href=\"http://people.mtime.com/902239/\" target=\"_blank\">&#22823;&#21355;&#183;&#24343;&#20848;&#31185;&#23572;</a></p>\t\t<p>&#20027;&#28436;&#65306; <a class=\"c_blue\" href=\"http://people.mtime.com/917996/\" target=\"_blank\">&#25140;&#31859;&#24681;&#183;&#21016;&#26131;&#26031;</a>\t\t&#160;<a class=\"c_blue\" href=\"http://people.mtime.com/919894/\" target=\"_blank\">&#26391;&#183;&#37324;&#32500;&#26031;&#39039;</a>\t\t</p>\t\t<p class=\"mt3\">&#35813;&#21095;&#25551;&#20889;&#32654;&#22269;101&#31354;&#20891;&#37096;&#38431;&#30340;&#19968;&#20010;&#23567;&#25903;&#38431;Easy Company&#30340;&#30495;&#23454;&#25925;&#20107;&#65292;&#20182;&#20204;&#21442;&#19982;&#20102;&#30431;&#20891;&#31354;&#38477;&#27861;&#22269;&#30340;&#20219;&#21153;&#65292;&#20197;&#21450;&#20854;&#21518;&#25972;&#20010;&#27431;&#27954;&#30340;&#25112;&#20107;&#12290;1942..</p>\t\t</div>\t<div class=\"mov_point\">  <b class=\"point\"><span class=\"total\">9</span><span class=\"total2\">.3</span></b>  <p> 2928&#20154;&#35780;&#20998;  </p></div>\t</li>\t\t<li>\t<div class=\"number\"><em>8</em></div>\t<div class=\"mov_pic\">\t<a href=\"http://movie.mtime.com/23594/\" target=\"_blank\" title=\"&#25104;&#38271;&#30340;&#28902;&#24700;/Growing Pains\"><img alt=\"&#25104;&#38271;&#30340;&#28902;&#24700;/Growing Pains\" width=\"96\" height=\"128\" class=\"img_box\" src=\"http://img5.mtime.cn/mt/2016/12/14/103515.10437589_96X128.jpg\" /></a>\t</div>\t<div class=\"mov_con\">\t<h2 class=\"px14 pb6\"><a class=\"c_blue\" href=\"http://movie.mtime.com/23594/\" target=\"_blank\">&#25104;&#38271;&#30340;&#28902;&#24700;&#160;Growing Pains (1985)</a></h2>\t\t<p>&#23548;&#28436;&#65306; <a class=\"c_blue\" href=\"http://people.mtime.com/905618/\" target=\"_blank\">&#23433;&#36842;&#183;&#21345;&#36842;&#22827;</a></p>\t\t<p>&#20027;&#28436;&#65306; <a class=\"c_blue\" href=\"http://people.mtime.com/901290/\" target=\"_blank\">&#20052;&#23433;&#23068;&#183;&#31185;&#24681;&#26031;</a>\t\t&#160;<a class=\"c_blue\" href=\"http://people.mtime.com/965651/\" target=\"_blank\">&#29305;&#37324;&#33564;&#183;&#21476;&#24503;</a>\t\t</p>\t\t<p class=\"mt3\">&#12298;&#25104;&#38271;&#30340;&#28902;&#24700;&#12299;&#35762;&#36848;&#30340;&#26159;&#20851;&#20110;&#23621;&#20303;&#22312;&#32654;&#22269;&#37066;&#21306;&#65288;&#20063;&#35768;&#29992;&#8220;&#22478;&#24066;&#36828;&#37066;&#8221;&#36825;&#20010;&#35789;&#26356;&#24688;&#24403;&#65289;&#30340;&#35199;&#32500;&#23572;&#65288;Seaver&#65289;&#19968;&#23478;&#30340;&#25925;&#20107;&#12290;&#20182;&#20204;&#29983;&#27963;&#22312;&#32445;&#32422;..</p>\t\t</div>\t<div class=\"mov_point\">  <b class=\"point\"><span class=\"total\">9</span><span class=\"total2\">.3</span></b>  <p> 1901&#20154;&#35780;&#20998;  </p></div>\t</li>\t\t<li>\t<div class=\"number\"><em>9</em></div>\t<div class=\"mov_pic\">\t<a href=\"http://movie.mtime.com/67296/\" target=\"_blank\" title=\"&#28748;&#31726;&#39640;&#25163;/Slam Dunk\"><img alt=\"&#28748;&#31726;&#39640;&#25163;/Slam Dunk\" width=\"96\" height=\"128\" class=\"img_box\" src=\"http://img31.mtime.cn/mt/2014/05/22/154047.35651449_96X128.jpg\" /></a>\t</div>\t<div class=\"mov_con\">\t<h2 class=\"px14 pb6\"><a class=\"c_blue\" href=\"http://movie.mtime.com/67296/\" target=\"_blank\">&#28748;&#31726;&#39640;&#25163;&#160;Slam Dunk (1993)</a></h2>\t\t<p>&#23548;&#28436;&#65306; <a class=\"c_blue\" href=\"http://people.mtime.com/1280053/\" target=\"_blank\">&#22338;&#26412;&#20449;&#20154;</a></p>\t\t<p>&#20027;&#28436;&#65306; <a class=\"c_blue\" href=\"http://people.mtime.com/990413/\" target=\"_blank\">&#33609;&#23614;&#27589;</a>\t\t&#160;<a class=\"c_blue\" href=\"http://people.mtime.com/976131/\" target=\"_blank\">&#32511;&#24029;&#20809;</a>\t\t</p>\t\t<p class=\"mt3\">&#12298;&#28748;&#31726;&#39640;&#25163;&#12299;&#26159;&#19968;&#37096;&#22260;&#32469;&#38738;&#23569;&#24180;&#31726;&#29699;&#36816;&#21160;&#30340;&#26085;&#26412;&#24189;&#40664;&#21345;&#36890;&#24040;&#29255;&#12290; &#35813;&#29255;&#21345;&#36890;&#20154;&#29289;&#24418;&#35937;&#24189;&#40664;&#12289;&#35821;&#35328;&#39118;&#36259;&#65292;&#26159;&#19968;&#37096;&#19981;&#21487;&#22810;&#24471;&#30340;&#21345;&#36890;&#30005;&#35270;&#31934;&#21697;&#12290;</p>\t\t</div>\t<div class=\"mov_point\">  <b class=\"point\"><span class=\"total\">9</span><span class=\"total2\">.3</span></b>  <p> 1876&#20154;&#35780;&#20998;  </p></div>\t</li>\t\t<li>\t<div class=\"number\"><em>10</em></div>\t<div class=\"mov_pic\">\t<a href=\"http://movie.mtime.com/65620/\" target=\"_blank\" title=\"&#38134;&#39746;/Gintama\"><img alt=\"&#38134;&#39746;/Gintama\" width=\"96\" height=\"128\" class=\"img_box\" src=\"http://img31.mtime.cn/mt/2014/05/26/104859.41905397_96X128.jpg\" /></a>\t</div>\t<div class=\"mov_con\">\t<h2 class=\"px14 pb6\"><a class=\"c_blue\" href=\"http://movie.mtime.com/65620/\" target=\"_blank\">&#38134;&#39746;&#160;Gintama (2006)</a></h2>\t\t<p>&#23548;&#28436;&#65306; <a class=\"c_blue\" href=\"http://people.mtime.com/1357671/\" target=\"_blank\">&#39640;&#26494;&#20449;&#21496;</a></p>\t\t<p>&#20027;&#28436;&#65306; <a class=\"c_blue\" href=\"http://people.mtime.com/949417/\" target=\"_blank\">&#38442;&#21475;&#22823;&#21161;</a>\t\t&#160;<a class=\"c_blue\" href=\"http://people.mtime.com/949410/\" target=\"_blank\">&#38025;&#23467;&#29702;&#24800;</a>\t\t</p>\t\t<p class=\"mt3\">&#8220;&#38134;&#39746;&#8221;&#26159;1919&#24180;&#21171;&#26031;&#33713;&#26031;&#25512;&#20986;&#30340;&#19968;&#31181;&#36710;&#30340;&#22411;&#21495;&#12290;&#12298;&#38134;&#39746;&#12299;&#26159;&#12298;&#21608;&#21002;&#23569;&#24180;JUMP&#12299;&#36830;&#36733;&#20013;&#30340;&#20154;&#27668;&#28459;&#30011;&#12290;&#23427;&#30340;&#25925;&#20107;&#32972;&#26223;&#21462;&#33258;&#27743;&#25143;&#12290;&#20174;&#23431;&#23449;&#26469;..</p>\t\t</div>\t<div class=\"mov_point\">  <b class=\"point\"><span class=\"total\">9</span><span class=\"total2\">.3</span></b>  <p> 1018&#20154;&#35780;&#20998;  </p></div>\t</li>\t\t</ul></div><div id=\"PageNavigator\" class=\"pagenav tc\"><a class=\"on\">1-10</a><a class=\"num\" href=\"http://www.mtime.com/top/tv/top100/index-2.html\">11-20</a><a class=\"num\" href=\"http://www.mtime.com/top/tv/top100/index-3.html\">21-30</a><a class=\"num\" href=\"http://www.mtime.com/top/tv/top100/index-4.html\">31-40</a><a class=\"num\" href=\"http://www.mtime.com/top/tv/top100/index-5.html\">41-50</a><a class=\"num\" href=\"http://www.mtime.com/top/tv/top100/index-6.html\">51-60</a><a class=\"num\" href=\"http://www.mtime.com/top/tv/top100/index-7.html\">61-70</a><a class=\"num\" href=\"http://www.mtime.com/top/tv/top100/index-8.html\">71-80</a><a class=\"num\" href=\"http://www.mtime.com/top/tv/top100/index-9.html\">81-90</a><a class=\"num\" href=\"http://www.mtime.com/top/tv/top100/index-10.html\">91-100</a></div>\t</div>\t</div>\t</div>\t</div>\t</div></div> <div id=\"bottom\"></div> <div id=\"contentEnd\"></div>\t<script type=\"text/javascript\">\t\t</script>\t <script type=\"text/javascript\">document.write( unescape( \"%3Cscript src='\"+ jsServer +\"/js/systemall2014.js' type='text/javascript'%3E%3C/script%3E\" ) );</script>&#13;\n",
      "<script type=\"text/javascript\">document.write( unescape( \"%3Cscript src='\"+ subJsServer +\"/js/channelpack2014.js' type='text/javascript'%3E%3C/script%3E\" ) );</script>&#13;\n",
      "<script type=\"text/javascript\">&#13;\n",
      "    //&#39029;&#23614; &#23548;&#33322;&#13;\n",
      "    new StaticManager( {&#13;\n",
      "        //&#20027;&#23548;&#33322;&#31867;&#22411;&#13;\n",
      "        mainNavigaionType: svNavigationData.value.mainNavigationType,&#13;\n",
      "        //&#20108;&#32423;&#23548;&#33322;&#31867;&#22411;&#13;\n",
      "        subNavigaionType: svNavigationData.value.subNavigationType,&#13;\n",
      "        //&#39029;&#23614;&#31867;&#22411;&#13;\n",
      "        isChannelFooter: true&#13;\n",
      "    } );&#13;\n",
      "//IE9 Pin &#36339;&#36716;&#21015;&#34920;_&#26102;&#20809;&#31934;&#36873;&#13;\n",
      "    if ($(\"taskBarSelectedListRegion\")) {&#13;\n",
      "      try {&#13;\n",
      "        if (window.external.msIsSiteMode()) {&#13;\n",
      "          window.external.msSiteModeClearJumpList();&#13;\n",
      "          window.external.msSiteModeCreateJumpList(\"&#26102;&#20809;&#31934;&#36873;\");&#13;\n",
      "          var taskBarSelectedListRegion = $(\"taskBarSelectedListRegion\");&#13;\n",
      "          var array = taskBarSelectedListRegion.getElementsByTagName(\"a\");&#13;\n",
      "          var title, url;&#13;\n",
      "          var faviconUrl = \"http://static1.mtime.cn/favicon.ico\";&#13;\n",
      "          for (var i = array.length - 1; i &gt;= 0; i--) {&#13;\n",
      "            title = array[i].innerHTML;&#13;\n",
      "            url = array[i].href;&#13;\n",
      "            window.external.msSiteModeAddJumpListItem(title, url, faviconUrl);&#13;\n",
      "          }&#13;\n",
      "          window.external.msSiteModeShowJumplist();&#13;\n",
      "        }&#13;\n",
      "      }&#13;\n",
      "      catch (ex) {&#13;\n",
      "      }&#13;\n",
      "    }&#13;\n",
      "</script>\t<script type=\"text/javascript\">var shareVariables = {\"imageUrl\":\"http://img5.mtime.cn/mg/2018/07/16/112733.80196053.jpg\",\"shareName\":\"&#26102;&#20809;&#32593;&#30005;&#35270;&#21095;TOP100\",\"url\":\"http://www.mtime.com/top/tv/top100/\",\"dateString\":\"2018&#24180;7&#26376;16&#26085;\"};$loadSubJs( \"/js/TopMenuControl.js\", function() { $loadSubJs( \"/top/TopDefault.js\", function() { new TopDefaultPageClient(); } );});</script> <div style=\"display: none\">&#13;\n",
      "<script type=\"text/javascript\">&#13;\n",
      "var tracker = new Tracker();&#13;\n",
      "tracker.trackPageView();&#13;\n",
      "</script>&#13;\n",
      "</div>\t </div> </body></html>\n"
     ]
    }
   ],
   "source": [
    "html_text = r.text\n",
    "html = etree.HTML(html_text)\n",
    "result = etree.tostring(html)\n",
    "print(result.decode('utf-8'))"
   ]
  },
  {
   "cell_type": "code",
   "execution_count": 4,
   "metadata": {},
   "outputs": [
    {
     "ename": "SyntaxError",
     "evalue": "invalid syntax (<ipython-input-4-0724e98a8c43>, line 1)",
     "output_type": "error",
     "traceback": [
      "\u001b[0;36m  File \u001b[0;32m\"<ipython-input-4-0724e98a8c43>\"\u001b[0;36m, line \u001b[0;32m1\u001b[0m\n\u001b[0;31m    (/h2/text())\u001b[0m\n\u001b[0m     ^\u001b[0m\n\u001b[0;31mSyntaxError\u001b[0m\u001b[0;31m:\u001b[0m invalid syntax\n"
     ]
    }
   ],
   "source": [
    "//h2text()"
   ]
  },
  {
   "cell_type": "code",
   "execution_count": 22,
   "metadata": {},
   "outputs": [],
   "source": [
    "res = html.xpath('//h2//text()')"
   ]
  },
  {
   "cell_type": "code",
   "execution_count": 23,
   "metadata": {},
   "outputs": [
    {
     "data": {
      "text/plain": [
       "['老友记\\xa0Friends (1994)',\n",
       " '海贼王\\xa0One Piece (1999)',\n",
       " '地球脉动\\xa0Planet Earth (2006)',\n",
       " '野外求生\\xa0Man vs. Wild (2006)',\n",
       " '人类星球\\xa0Human Planet (2011)',\n",
       " '猫和老鼠\\xa0Tom and Jerry (1965)',\n",
       " '兄弟连\\xa0Band of Brothers (2001)',\n",
       " '成长的烦恼\\xa0Growing Pains (1985)',\n",
       " '灌篮高手\\xa0Slam Dunk (1993)',\n",
       " '银魂\\xa0Gintama (2006)']"
      ]
     },
     "execution_count": 23,
     "metadata": {},
     "output_type": "execute_result"
    }
   ],
   "source": [
    "res"
   ]
  },
  {
   "cell_type": "code",
   "execution_count": 18,
   "metadata": {
    "scrolled": true
   },
   "outputs": [
    {
     "data": {
      "text/plain": [
       "10"
      ]
     },
     "execution_count": 18,
     "metadata": {},
     "output_type": "execute_result"
    }
   ],
   "source": [
    "len(res)"
   ]
  },
  {
   "cell_type": "code",
   "execution_count": 24,
   "metadata": {},
   "outputs": [
    {
     "data": {
      "text/plain": [
       "'海贼王\\xa0One Piece (1999)'"
      ]
     },
     "execution_count": 24,
     "metadata": {},
     "output_type": "execute_result"
    }
   ],
   "source": [
    "res[1]"
   ]
  },
  {
   "cell_type": "code",
   "execution_count": 34,
   "metadata": {},
   "outputs": [],
   "source": [
    "res2 = html.xpath('//*[@class=\"mov_con\"]/h2/a/text()')"
   ]
  },
  {
   "cell_type": "code",
   "execution_count": 35,
   "metadata": {},
   "outputs": [
    {
     "data": {
      "text/plain": [
       "10"
      ]
     },
     "execution_count": 35,
     "metadata": {},
     "output_type": "execute_result"
    }
   ],
   "source": [
    "len(res2)"
   ]
  },
  {
   "cell_type": "code",
   "execution_count": 36,
   "metadata": {
    "scrolled": true
   },
   "outputs": [
    {
     "data": {
      "text/plain": [
       "['老友记\\xa0Friends (1994)',\n",
       " '海贼王\\xa0One Piece (1999)',\n",
       " '地球脉动\\xa0Planet Earth (2006)',\n",
       " '野外求生\\xa0Man vs. Wild (2006)',\n",
       " '人类星球\\xa0Human Planet (2011)',\n",
       " '猫和老鼠\\xa0Tom and Jerry (1965)',\n",
       " '兄弟连\\xa0Band of Brothers (2001)',\n",
       " '成长的烦恼\\xa0Growing Pains (1985)',\n",
       " '灌篮高手\\xa0Slam Dunk (1993)',\n",
       " '银魂\\xa0Gintama (2006)']"
      ]
     },
     "execution_count": 36,
     "metadata": {},
     "output_type": "execute_result"
    }
   ],
   "source": [
    "res2"
   ]
  },
  {
   "cell_type": "code",
   "execution_count": 67,
   "metadata": {},
   "outputs": [
    {
     "data": {
      "text/plain": [
       "[<Element div at 0x108ba9548>,\n",
       " <Element div at 0x108bc1088>,\n",
       " <Element div at 0x108bc1248>,\n",
       " <Element div at 0x108bc11c8>,\n",
       " <Element div at 0x108bc1208>,\n",
       " <Element div at 0x108bc12c8>,\n",
       " <Element div at 0x108bc1308>,\n",
       " <Element div at 0x108bc1348>,\n",
       " <Element div at 0x108bc1388>,\n",
       " <Element div at 0x108bc1288>]"
      ]
     },
     "execution_count": 67,
     "metadata": {},
     "output_type": "execute_result"
    }
   ],
   "source": [
    "desc = html.xpath('//*[@class=\"mov_con\"]')\n",
    "desc"
   ]
  },
  {
   "cell_type": "code",
   "execution_count": 68,
   "metadata": {},
   "outputs": [
    {
     "data": {
      "text/plain": [
       "10"
      ]
     },
     "execution_count": 68,
     "metadata": {},
     "output_type": "execute_result"
    }
   ],
   "source": [
    "len(desc)"
   ]
  },
  {
   "cell_type": "code",
   "execution_count": 102,
   "metadata": {},
   "outputs": [
    {
     "ename": "SyntaxError",
     "evalue": "invalid syntax (<ipython-input-102-90f2b0ccce12>, line 4)",
     "output_type": "error",
     "traceback": [
      "\u001b[0;36m  File \u001b[0;32m\"<ipython-input-102-90f2b0ccce12>\"\u001b[0;36m, line \u001b[0;32m4\u001b[0m\n\u001b[0;31m    print(e.string(.))\u001b[0m\n\u001b[0m                   ^\u001b[0m\n\u001b[0;31mSyntaxError\u001b[0m\u001b[0;31m:\u001b[0m invalid syntax\n"
     ]
    }
   ],
   "source": [
    "a=0\n",
    "for e in html.xpath('//*[@class=\"mov_con\"]/p[3]'):\n",
    "    print(a)\n",
    "    print(e.string(.))\n",
    "    a=a+1"
   ]
  },
  {
   "cell_type": "code",
   "execution_count": 88,
   "metadata": {},
   "outputs": [],
   "source": [
    "a = html.xpath('//*[@class=\"mov_con\"]/h2/a')"
   ]
  },
  {
   "cell_type": "code",
   "execution_count": 91,
   "metadata": {},
   "outputs": [
    {
     "data": {
      "text/plain": [
       "'海贼王\\xa0One Piece (1999)'"
      ]
     },
     "execution_count": 91,
     "metadata": {},
     "output_type": "execute_result"
    }
   ],
   "source": [
    "a[1].text"
   ]
  },
  {
   "cell_type": "code",
   "execution_count": 7,
   "metadata": {},
   "outputs": [
    {
     "name": "stdout",
     "output_type": "stream",
     "text": [
      "<class 'lxml.etree._Element'>\n",
      "<class 'lxml.etree._Element'>\n",
      "<class 'lxml.etree._Element'>\n",
      "<class 'lxml.etree._Element'>\n",
      "<class 'lxml.etree._Element'>\n",
      "<class 'lxml.etree._Element'>\n",
      "<class 'lxml.etree._Element'>\n",
      "<class 'lxml.etree._Element'>\n"
     ]
    }
   ],
   "source": [
    "for element in html.xpath('//*[@class=\"mov_con\"]/p[3]'):\n",
    "    print(type(element))"
   ]
  },
  {
   "cell_type": "code",
   "execution_count": 111,
   "metadata": {},
   "outputs": [],
   "source": [
    "name = html.xpath('//*[@class=\"mov_con\"]/h2/a/text()')\n",
    "aur = html.xpath('//*[@class=\"mov_con\"]/p[1]//text()')\n",
    "actor = html.xpath('//*[@class=\"mov_con\"]/p[2]//a/text()')\n",
    "desc = html.xpath('//*[@class=\"mov_con\"]/p[3]/text()')"
   ]
  },
  {
   "cell_type": "code",
   "execution_count": null,
   "metadata": {},
   "outputs": [],
   "source": []
  }
 ],
 "metadata": {
  "kernelspec": {
   "display_name": "Python 3",
   "language": "python",
   "name": "python3"
  },
  "language_info": {
   "codemirror_mode": {
    "name": "ipython",
    "version": 3
   },
   "file_extension": ".py",
   "mimetype": "text/x-python",
   "name": "python",
   "nbconvert_exporter": "python",
   "pygments_lexer": "ipython3",
   "version": "3.7.0"
  }
 },
 "nbformat": 4,
 "nbformat_minor": 2
}
