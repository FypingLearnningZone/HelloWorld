{
 "cells": [
  {
   "cell_type": "code",
   "execution_count": 1,
   "metadata": {},
   "outputs": [
    {
     "name": "stdout",
     "output_type": "stream",
     "text": [
      "bfs:\n"
     ]
    },
    {
     "data": {
      "text/plain": [
       "<generator object bfs at 0x7f34a01d2eb8>"
      ]
     },
     "execution_count": 1,
     "metadata": {},
     "output_type": "execute_result"
    }
   ],
   "source": [
    "from collections import deque\n",
    "\n",
    "\n",
    "GRAPH = {\n",
    "    'A': ['B', 'F'],\n",
    "    'B': ['C', 'I', 'G'],\n",
    "    'C': ['B', 'I', 'D'],\n",
    "    'D': ['C', 'I', 'G', 'H', 'E'],\n",
    "    'E': ['D', 'H', 'F'],\n",
    "    'F': ['A', 'G', 'E'],\n",
    "    'G': ['B', 'F', 'H', 'D'],\n",
    "    'H': ['G', 'D', 'E'],\n",
    "    'I': ['B', 'C', 'D'],\n",
    "}\n",
    "\n",
    "\n",
    "class Queue(object):\n",
    "    def __init__(self):\n",
    "        self._deque = deque()\n",
    "\n",
    "    def push(self, value):\n",
    "        return self._deque.append(value)\n",
    "\n",
    "    def pop(self):\n",
    "        return self._deque.popleft()\n",
    "\n",
    "    def __len__(self):\n",
    "        return len(self._deque)\n",
    "\n",
    "\n",
    "def bfs(graph, start):\n",
    "    search_queue = Queue()  \n",
    "    search_queue.push(start)\n",
    "    searched = set()\n",
    "    while search_queue:   # 队列不为空就继续\n",
    "        cur_node = search_queue.pop()\n",
    "        if cur_node not in searched:\n",
    "            yield cur_node\n",
    "            searched.add(cur_node)\n",
    "            for node in graph[cur_node]:\n",
    "                search_queue.push(node)\n",
    "\n"
   ]
  },
  {
   "cell_type": "code",
   "execution_count": 6,
   "metadata": {},
   "outputs": [
    {
     "name": "stdout",
     "output_type": "stream",
     "text": [
      "bfs:\n"
     ]
    }
   ],
   "source": [
    "print('bfs:')\n",
    "a = bfs(GRAPH, 'A')"
   ]
  },
  {
   "cell_type": "code",
   "execution_count": 5,
   "metadata": {},
   "outputs": [
    {
     "ename": "TypeError",
     "evalue": "object of type 'generator' has no len()",
     "output_type": "error",
     "traceback": [
      "\u001b[0;31m---------------------------------------------------------------------------\u001b[0m",
      "\u001b[0;31mTypeError\u001b[0m                                 Traceback (most recent call last)",
      "\u001b[0;32m<ipython-input-5-1a2e6ec5f1e3>\u001b[0m in \u001b[0;36m<module>\u001b[0;34m()\u001b[0m\n\u001b[0;32m----> 1\u001b[0;31m \u001b[0mlen\u001b[0m\u001b[0;34m(\u001b[0m\u001b[0ma\u001b[0m\u001b[0;34m)\u001b[0m\u001b[0;34m\u001b[0m\u001b[0m\n\u001b[0m",
      "\u001b[0;31mTypeError\u001b[0m: object of type 'generator' has no len()"
     ]
    }
   ],
   "source": [
    "len(a)"
   ]
  },
  {
   "cell_type": "code",
   "execution_count": 7,
   "metadata": {},
   "outputs": [
    {
     "name": "stdout",
     "output_type": "stream",
     "text": [
      "A\n",
      "B\n",
      "F\n",
      "C\n",
      "I\n",
      "G\n",
      "E\n",
      "D\n",
      "H\n"
     ]
    }
   ],
   "source": [
    "for i in a:\n",
    "    print(i)"
   ]
  },
  {
   "cell_type": "code",
   "execution_count": 8,
   "metadata": {},
   "outputs": [],
   "source": [
    "def Fibonacci(n):\n",
    "        # write code here\n",
    "        res = [0,1]\n",
    "        while len(res) <= n:\n",
    "            res.append(res[-1]+res[-2])\n",
    "        return res[n]"
   ]
  },
  {
   "cell_type": "code",
   "execution_count": 9,
   "metadata": {},
   "outputs": [
    {
     "data": {
      "text/plain": [
       "55"
      ]
     },
     "execution_count": 9,
     "metadata": {},
     "output_type": "execute_result"
    }
   ],
   "source": [
    "Fibonacci(10)"
   ]
  },
  {
   "cell_type": "code",
   "execution_count": 10,
   "metadata": {},
   "outputs": [],
   "source": [
    "fib = lambda n: n if n <= 2 else fib(n - 1) + fib(n - 2)"
   ]
  },
  {
   "cell_type": "code",
   "execution_count": 11,
   "metadata": {},
   "outputs": [
    {
     "data": {
      "text/plain": [
       "89"
      ]
     },
     "execution_count": 11,
     "metadata": {},
     "output_type": "execute_result"
    }
   ],
   "source": [
    "fib(10)"
   ]
  },
  {
   "cell_type": "code",
   "execution_count": 12,
   "metadata": {},
   "outputs": [
    {
     "data": {
      "text/plain": [
       "range(1, 10)"
      ]
     },
     "execution_count": 12,
     "metadata": {},
     "output_type": "execute_result"
    }
   ],
   "source": [
    "range(1,10)"
   ]
  },
  {
   "cell_type": "code",
   "execution_count": 14,
   "metadata": {},
   "outputs": [
    {
     "name": "stdout",
     "output_type": "stream",
     "text": [
      "0\n",
      "1\n",
      "2\n",
      "3\n",
      "4\n",
      "5\n",
      "6\n",
      "7\n",
      "8\n",
      "9\n"
     ]
    }
   ],
   "source": [
    "for i in range(10):print(i)"
   ]
  },
  {
   "cell_type": "code",
   "execution_count": 9,
   "metadata": {},
   "outputs": [],
   "source": [
    "class Solution:\n",
    "    # matrix类型为二维列表，需要返回列表\n",
    "    def printMatrix(self, matrix):\n",
    "        res = []\n",
    "        while (matrix):\n",
    "            res += matrix.pop(0)\n",
    "            if not matrix:\n",
    "                break\n",
    "            matrix = self.turn(matrix)\n",
    "        return res\n",
    "        \n",
    "    def turn(self, matrix): \n",
    "        new = []\n",
    "        row = len(matrix)\n",
    "        col = len(matrix[0])\n",
    "        for i in range(col):\n",
    "            new_c = []\n",
    "            for j in range(row):\n",
    "                \n",
    "                new_c.append(matrix[j][i])\n",
    "            new.append(new_c)\n",
    "        return new.reverse()"
   ]
  },
  {
   "cell_type": "code",
   "execution_count": 10,
   "metadata": {},
   "outputs": [],
   "source": [
    "a = Solution()"
   ]
  },
  {
   "cell_type": "code",
   "execution_count": 11,
   "metadata": {},
   "outputs": [
    {
     "data": {
      "text/plain": [
       "[1]"
      ]
     },
     "execution_count": 11,
     "metadata": {},
     "output_type": "execute_result"
    }
   ],
   "source": [
    "a.printMatrix([[1]])"
   ]
  },
  {
   "cell_type": "code",
   "execution_count": 4,
   "metadata": {},
   "outputs": [
    {
     "data": {
      "text/plain": [
       "<__main__.Solution at 0x7f392834a978>"
      ]
     },
     "execution_count": 4,
     "metadata": {},
     "output_type": "execute_result"
    }
   ],
   "source": [
    "a"
   ]
  },
  {
   "cell_type": "code",
   "execution_count": 12,
   "metadata": {},
   "outputs": [],
   "source": [
    "class Solution:\n",
    "    def __init__(self):\n",
    "        self.stack = []\n",
    "        self.minstack = []\n",
    "    def push(self, node):\n",
    "        # write code here\n",
    "        self.stack.append(node)\n",
    "        if self.minstack == [] or node < self.min():\n",
    "            self.minstack.append(node)\n",
    "        else:\n",
    "            self.minstack.append(self.min())\n",
    "            \n",
    "    def pop(self):\n",
    "        # write code here\n",
    "        if self.minstack == [] or self.stack == []:\n",
    "            return None\n",
    "        self.minstack.pop()\n",
    "        self.stack.pop()\n",
    "        \n",
    "    def top(self):\n",
    "        # write code here\n",
    "        res = self.stack[-1]\n",
    "        return res\n",
    "    def min(self):\n",
    "        # write code here\n",
    "        return self.minstack[-1]"
   ]
  },
  {
   "cell_type": "code",
   "execution_count": 13,
   "metadata": {},
   "outputs": [],
   "source": [
    "n = Solution()"
   ]
  },
  {
   "cell_type": "code",
   "execution_count": 14,
   "metadata": {},
   "outputs": [],
   "source": [
    "n.push(1)"
   ]
  },
  {
   "cell_type": "code",
   "execution_count": 19,
   "metadata": {},
   "outputs": [
    {
     "data": {
      "text/plain": [
       "[]"
      ]
     },
     "execution_count": 19,
     "metadata": {},
     "output_type": "execute_result"
    }
   ],
   "source": [
    "n.stack"
   ]
  },
  {
   "cell_type": "code",
   "execution_count": 16,
   "metadata": {},
   "outputs": [
    {
     "data": {
      "text/plain": [
       "[1]"
      ]
     },
     "execution_count": 16,
     "metadata": {},
     "output_type": "execute_result"
    }
   ],
   "source": [
    "n.minstack"
   ]
  },
  {
   "cell_type": "code",
   "execution_count": 17,
   "metadata": {},
   "outputs": [
    {
     "data": {
      "text/plain": [
       "1"
      ]
     },
     "execution_count": 17,
     "metadata": {},
     "output_type": "execute_result"
    }
   ],
   "source": [
    "n.min()"
   ]
  },
  {
   "cell_type": "code",
   "execution_count": 18,
   "metadata": {},
   "outputs": [],
   "source": [
    "n.pop()"
   ]
  },
  {
   "cell_type": "code",
   "execution_count": null,
   "metadata": {},
   "outputs": [],
   "source": []
  }
 ],
 "metadata": {
  "kernelspec": {
   "display_name": "Python 3",
   "language": "python",
   "name": "python3"
  },
  "language_info": {
   "codemirror_mode": {
    "name": "ipython",
    "version": 3
   },
   "file_extension": ".py",
   "mimetype": "text/x-python",
   "name": "python",
   "nbconvert_exporter": "python",
   "pygments_lexer": "ipython3",
   "version": "3.5.4rc1"
  }
 },
 "nbformat": 4,
 "nbformat_minor": 2
}
