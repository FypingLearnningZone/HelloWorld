{
 "cells": [
  {
   "cell_type": "code",
   "execution_count": 38,
   "metadata": {},
   "outputs": [
    {
     "name": "stdout",
     "output_type": "stream",
     "text": [
      "邮件发送失败\n"
     ]
    }
   ],
   "source": [
    "import smtplib\n",
    "from email.mime.text import MIMEText\n",
    "from email.utils import formataddr\n",
    " \n",
    "my_sender='1614056450@qq.com'    # 发件人邮箱账号\n",
    "my_pass = 'ojtgvmklizembafi'              # 发件人邮箱密码\n",
    "my_user='1614056450@qq.com'     # 收件人邮箱账号，我这边发送给自己\n",
    "my_user2 = '3302271680@qq.com'\n",
    "my_users=[my_user,my_user2]\n",
    "def mail():\n",
    "    ret=True\n",
    "    try:\n",
    "        msg=MIMEText('填写邮件内容','plain','utf-8')\n",
    "        msg['From']=formataddr([\"FromPython\",my_sender])  # 括号里的对应发件人邮箱昵称、发件人邮箱账号\n",
    "        msg['To']=formataddr([\"FK\",my_user])              # 括号里的对应收件人邮箱昵称、收件人邮箱账号\n",
    "        msg['Subject']=\"群发发送邮件测试\"                # 邮件的主题，也可以说是标题\n",
    " \n",
    "        server=smtplib.SMTP_SSL(\"smtp.qq.com\", 465)  # 发件人邮箱中的SMTP服务器，端口是25\n",
    "        server.login(my_sender, my_pass)  # 括号中对应的是发件人邮箱账号、邮箱密码\n",
    "        server.sendmail(my_sender,my_users,msg.as_string())  # 括号中对应的是发件人邮箱账号、收件人邮箱账号、发送邮件\n",
    "        server.quit()  # 关闭连接\n",
    "    except Exception:  # 如果 try 中的语句没有执行，则会执行下面的 ret=False\n",
    "        ret=False\n",
    "    return ret\n",
    " \n",
    "ret=mail()\n",
    "if ret:\n",
    "    print(\"邮件发送成功\")\n",
    "else:\n",
    "    print(\"邮件发送失败\")"
   ]
  },
  {
   "cell_type": "code",
   "execution_count": 10,
   "metadata": {},
   "outputs": [],
   "source": [
    "y_user='1614056450@qq.com'     # 收件人邮箱账号，我这边发送给自己\n",
    "y_user2 = '3302271680@qq.com'"
   ]
  },
  {
   "cell_type": "code",
   "execution_count": 26,
   "metadata": {},
   "outputs": [],
   "source": [
    "a = [my_user,my_user2]"
   ]
  },
  {
   "cell_type": "code",
   "execution_count": 27,
   "metadata": {},
   "outputs": [
    {
     "data": {
      "text/plain": [
       "['1614056450@qq.com', '3302271680@qq.com']"
      ]
     },
     "execution_count": 27,
     "metadata": {},
     "output_type": "execute_result"
    }
   ],
   "source": [
    "a"
   ]
  },
  {
   "cell_type": "code",
   "execution_count": 18,
   "metadata": {},
   "outputs": [
    {
     "data": {
      "text/plain": [
       "['1614056450@qq.com', '3302271680@qq.com']"
      ]
     },
     "execution_count": 18,
     "metadata": {},
     "output_type": "execute_result"
    }
   ],
   "source": [
    "my_user"
   ]
  },
  {
   "cell_type": "code",
   "execution_count": 31,
   "metadata": {},
   "outputs": [],
   "source": [
    "def pri():\n",
    "    print(\"he\")"
   ]
  },
  {
   "cell_type": "code",
   "execution_count": 32,
   "metadata": {},
   "outputs": [
    {
     "name": "stdout",
     "output_type": "stream",
     "text": [
      "he\n"
     ]
    }
   ],
   "source": [
    "pri()"
   ]
  },
  {
   "cell_type": "code",
   "execution_count": 33,
   "metadata": {},
   "outputs": [
    {
     "name": "stdout",
     "output_type": "stream",
     "text": [
      "he\n"
     ]
    }
   ],
   "source": [
    "v = pri()"
   ]
  },
  {
   "cell_type": "code",
   "execution_count": 37,
   "metadata": {},
   "outputs": [
    {
     "name": "stdout",
     "output_type": "stream",
     "text": [
      "邮件发送失败\n"
     ]
    }
   ],
   "source": [
    "ret=mail()\n",
    "if ret:\n",
    "    print(\"邮件发送成功\")\n",
    "else:\n",
    "    print(\"邮件发送失败\")"
   ]
  },
  {
   "cell_type": "code",
   "execution_count": 35,
   "metadata": {},
   "outputs": [
    {
     "name": "stdout",
     "output_type": "stream",
     "text": [
      "邮件发送成功 1\n",
      "邮件发送成功 2\n",
      "邮件发送成功 3\n",
      "邮件发送成功 4\n",
      "邮件发送成功 5\n",
      "邮件发送成功 6\n",
      "邮件发送成功 7\n",
      "邮件发送成功 8\n",
      "邮件发送成功 9\n",
      "邮件发送成功 10\n",
      "邮件发送成功 11\n",
      "邮件发送成功 12\n",
      "邮件发送成功 13\n",
      "邮件发送成功 14\n",
      "邮件发送成功 15\n",
      "邮件发送成功 16\n",
      "邮件发送成功 17\n",
      "邮件发送成功 18\n",
      "邮件发送成功 19\n",
      "邮件发送成功 20\n",
      "邮件发送成功 21\n",
      "邮件发送成功 22\n",
      "邮件发送成功 23\n",
      "邮件发送成功 24\n",
      "邮件发送成功 25\n",
      "邮件发送成功 26\n",
      "邮件发送成功 27\n",
      "邮件发送成功 28\n",
      "邮件发送成功 29\n",
      "邮件发送成功 30\n",
      "邮件发送成功 31\n",
      "邮件发送成功 32\n",
      "邮件发送成功 33\n",
      "邮件发送成功 34\n",
      "邮件发送成功 35\n",
      "邮件发送成功 36\n",
      "邮件发送成功 37\n",
      "邮件发送成功 38\n",
      "邮件发送成功 39\n",
      "邮件发送成功 40\n",
      "邮件发送成功 41\n",
      "邮件发送成功 42\n",
      "邮件发送成功 43\n",
      "邮件发送成功 44\n",
      "邮件发送成功 45\n",
      "邮件发送成功 46\n",
      "邮件发送成功 47\n",
      "邮件发送成功 48\n",
      "邮件发送成功 49\n",
      "邮件发送成功 50\n",
      "邮件发送成功 51\n",
      "邮件发送成功 52\n",
      "邮件发送成功 53\n",
      "邮件发送成功 54\n",
      "邮件发送成功 55\n",
      "邮件发送成功 56\n",
      "邮件发送成功 57\n",
      "邮件发送成功 58\n",
      "邮件发送成功 59\n",
      "邮件发送成功 60\n",
      "邮件发送成功 61\n",
      "邮件发送成功 62\n",
      "邮件发送成功 63\n",
      "邮件发送成功 64\n",
      "邮件发送成功 65\n",
      "邮件发送成功 66\n",
      "邮件发送成功 67\n",
      "邮件发送成功 68\n",
      "邮件发送成功 69\n",
      "邮件发送成功 70\n",
      "邮件发送成功 71\n",
      "邮件发送成功 72\n",
      "邮件发送成功 73\n",
      "邮件发送成功 74\n",
      "邮件发送成功 75\n",
      "邮件发送成功 76\n",
      "邮件发送成功 77\n",
      "邮件发送成功 78\n",
      "邮件发送成功 79\n",
      "邮件发送成功 80\n",
      "邮件发送成功 81\n",
      "邮件发送成功 82\n",
      "邮件发送成功 83\n",
      "邮件发送成功 84\n",
      "邮件发送成功 85\n",
      "邮件发送成功 86\n",
      "邮件发送成功 87\n",
      "邮件发送成功 88\n",
      "邮件发送成功 89\n",
      "邮件发送成功 90\n",
      "邮件发送成功 91\n",
      "邮件发送成功 92\n",
      "邮件发送成功 93\n",
      "邮件发送成功 94\n",
      "邮件发送成功 95\n",
      "邮件发送成功 96\n",
      "邮件发送成功 97\n",
      "邮件发送成功 98\n",
      "邮件发送成功 99\n",
      "邮件发送失败\n"
     ]
    }
   ],
   "source": [
    "count = 0\n",
    "for i in range(100):\n",
    "    ret=mail()\n",
    "    if ret:\n",
    "        count += 1\n",
    "        print(\"邮件发送成功\",count)\n",
    "    else:\n",
    "        print(\"邮件发送失败\")"
   ]
  },
  {
   "cell_type": "code",
   "execution_count": null,
   "metadata": {},
   "outputs": [],
   "source": []
  }
 ],
 "metadata": {
  "kernelspec": {
   "display_name": "Python 3",
   "language": "python",
   "name": "python3"
  },
  "language_info": {
   "codemirror_mode": {
    "name": "ipython",
    "version": 3
   },
   "file_extension": ".py",
   "mimetype": "text/x-python",
   "name": "python",
   "nbconvert_exporter": "python",
   "pygments_lexer": "ipython3",
   "version": "3.5.4rc1"
  }
 },
 "nbformat": 4,
 "nbformat_minor": 2
}
