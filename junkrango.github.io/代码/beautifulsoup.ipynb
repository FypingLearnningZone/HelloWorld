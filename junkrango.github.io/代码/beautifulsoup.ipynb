{
 "cells": [
  {
   "cell_type": "code",
   "execution_count": 1,
   "metadata": {},
   "outputs": [],
   "source": [
    "from bs4 import BeautifulSoup"
   ]
  },
  {
   "cell_type": "code",
   "execution_count": 5,
   "metadata": {},
   "outputs": [],
   "source": [
    "import lxml"
   ]
  },
  {
   "cell_type": "code",
   "execution_count": 5,
   "metadata": {},
   "outputs": [],
   "source": [
    "html_doc = \"\"\"\n",
    "<html><head><title>The Dormouse's story</title></head>\n",
    "<body>\n",
    "<p class=\"title\"><b>the Dormouse's story</b></p>\n",
    "\n",
    "<p class=\"story\">Once upon a time there were three little sisters; and their names were\n",
    "<a href=\"http://example.com/elsie\" class=\"sister\" id=\"link1\">Elsie</a>,\n",
    "<a href=\"http://example.com/lacie\" class=\"sister\" id=\"link2\">Lacie</a> and\n",
    "<a href=\"http://example.com/tillie\" class=\"sister\" id=\"link3\">Tillie</a>;\n",
    "and they lived at the bottom of a well.</p>\n",
    "\n",
    "<p class=\"story\">...</p>\n",
    "\"\"\""
   ]
  },
  {
   "cell_type": "code",
   "execution_count": 6,
   "metadata": {},
   "outputs": [],
   "source": [
    "soup = BeautifulSoup(html_doc,'html5lib')"
   ]
  },
  {
   "cell_type": "code",
   "execution_count": 11,
   "metadata": {},
   "outputs": [
    {
     "data": {
      "text/plain": [
       "bs4.element.Tag"
      ]
     },
     "execution_count": 11,
     "metadata": {},
     "output_type": "execute_result"
    }
   ],
   "source": [
    "type(soup.title)"
   ]
  },
  {
   "cell_type": "code",
   "execution_count": 12,
   "metadata": {},
   "outputs": [
    {
     "data": {
      "text/plain": [
       "\"The Dormouse's story\\n\\nThe Dormouse's story\\n\\nOnce upon a time there were three little sisters; and their names were\\nElsie,\\nLacie and\\nTillie;\\nand they lived at the bottom of a well.\\n\\n...\\n\""
      ]
     },
     "execution_count": 12,
     "metadata": {},
     "output_type": "execute_result"
    }
   ],
   "source": [
    "soup.get_text()"
   ]
  },
  {
   "cell_type": "code",
   "execution_count": 9,
   "metadata": {},
   "outputs": [
    {
     "data": {
      "text/plain": [
       "\"The Dormouse's story\""
      ]
     },
     "execution_count": 9,
     "metadata": {},
     "output_type": "execute_result"
    }
   ],
   "source": [
    "soup.title.string"
   ]
  },
  {
   "cell_type": "code",
   "execution_count": 10,
   "metadata": {},
   "outputs": [
    {
     "data": {
      "text/plain": [
       "bs4.element.NavigableString"
      ]
     },
     "execution_count": 10,
     "metadata": {},
     "output_type": "execute_result"
    }
   ],
   "source": [
    "type(soup.title.string)"
   ]
  },
  {
   "cell_type": "code",
   "execution_count": 11,
   "metadata": {},
   "outputs": [
    {
     "name": "stdout",
     "output_type": "stream",
     "text": [
      "{'class': ['title']}\n"
     ]
    },
    {
     "ename": "KeyError",
     "evalue": "'name'",
     "output_type": "error",
     "traceback": [
      "\u001b[0;31m---------------------------------------------------------------------------\u001b[0m",
      "\u001b[0;31mKeyError\u001b[0m                                  Traceback (most recent call last)",
      "\u001b[0;32m<ipython-input-11-26d5cd7f7de9>\u001b[0m in \u001b[0;36m<module>\u001b[0;34m()\u001b[0m\n\u001b[1;32m      1\u001b[0m \u001b[0mprint\u001b[0m\u001b[0;34m(\u001b[0m\u001b[0msoup\u001b[0m\u001b[0;34m.\u001b[0m\u001b[0mp\u001b[0m\u001b[0;34m.\u001b[0m\u001b[0mattrs\u001b[0m\u001b[0;34m)\u001b[0m\u001b[0;34m\u001b[0m\u001b[0m\n\u001b[0;32m----> 2\u001b[0;31m \u001b[0mprint\u001b[0m\u001b[0;34m(\u001b[0m\u001b[0msoup\u001b[0m\u001b[0;34m.\u001b[0m\u001b[0mp\u001b[0m\u001b[0;34m.\u001b[0m\u001b[0mattrs\u001b[0m\u001b[0;34m[\u001b[0m\u001b[0;34m'name'\u001b[0m\u001b[0;34m]\u001b[0m\u001b[0;34m)\u001b[0m\u001b[0;34m\u001b[0m\u001b[0m\n\u001b[0m",
      "\u001b[0;31mKeyError\u001b[0m: 'name'"
     ]
    }
   ],
   "source": [
    "print(soup.p.attrs)\n",
    "print(soup.p.attrs['name'])"
   ]
  },
  {
   "cell_type": "code",
   "execution_count": 14,
   "metadata": {},
   "outputs": [
    {
     "data": {
      "text/plain": [
       "7"
      ]
     },
     "execution_count": 14,
     "metadata": {},
     "output_type": "execute_result"
    }
   ],
   "source": [
    "len(soup.body.contents)"
   ]
  },
  {
   "cell_type": "code",
   "execution_count": 23,
   "metadata": {},
   "outputs": [
    {
     "name": "stdout",
     "output_type": "stream",
     "text": [
      "<generator object Tag.descendants at 0x10ca14f48>\n",
      "0 xxxx\n",
      "xxxxx\n",
      "1 xxxx<p class=\"title\"><b>the Dormouse's story</b></p>xxxxx\n",
      "2 xxxx<b>the Dormouse's story</b>xxxxx\n",
      "3 xxxxthe Dormouse's storyxxxxx\n",
      "4 xxxx\n",
      "\n",
      "xxxxx\n",
      "5 xxxx<p class=\"story\">Once upon a time there were three little sisters; and their names were\n",
      "<a class=\"sister\" href=\"http://example.com/elsie\" id=\"link1\">Elsie</a>,\n",
      "<a class=\"sister\" href=\"http://example.com/lacie\" id=\"link2\">Lacie</a> and\n",
      "<a class=\"sister\" href=\"http://example.com/tillie\" id=\"link3\">Tillie</a>;\n",
      "and they lived at the bottom of a well.</p>xxxxx\n",
      "6 xxxxOnce upon a time there were three little sisters; and their names were\n",
      "xxxxx\n",
      "7 xxxx<a class=\"sister\" href=\"http://example.com/elsie\" id=\"link1\">Elsie</a>xxxxx\n",
      "8 xxxxElsiexxxxx\n",
      "9 xxxx,\n",
      "xxxxx\n",
      "10 xxxx<a class=\"sister\" href=\"http://example.com/lacie\" id=\"link2\">Lacie</a>xxxxx\n",
      "11 xxxxLaciexxxxx\n",
      "12 xxxx and\n",
      "xxxxx\n",
      "13 xxxx<a class=\"sister\" href=\"http://example.com/tillie\" id=\"link3\">Tillie</a>xxxxx\n",
      "14 xxxxTilliexxxxx\n",
      "15 xxxx;\n",
      "and they lived at the bottom of a well.xxxxx\n",
      "16 xxxx\n",
      "\n",
      "xxxxx\n",
      "17 xxxx<p class=\"story\">...</p>xxxxx\n",
      "18 xxxx...xxxxx\n",
      "19 xxxx\n",
      "xxxxx\n"
     ]
    }
   ],
   "source": [
    "print(soup.body.descendants)\n",
    "for i, child in enumerate(soup.body.descendants):\n",
    "    print(i, \"xxxx\"+str(child)+\"xxxxx\")"
   ]
  },
  {
   "cell_type": "code",
   "execution_count": 19,
   "metadata": {},
   "outputs": [
    {
     "data": {
      "text/plain": [
       "list_iterator"
      ]
     },
     "execution_count": 19,
     "metadata": {},
     "output_type": "execute_result"
    }
   ],
   "source": [
    "soup.body.children"
   ]
  },
  {
   "cell_type": "code",
   "execution_count": 24,
   "metadata": {},
   "outputs": [],
   "source": [
    "html = \"\"\"\n",
    "<!DOCTYPE html>\n",
    "<html class=\"client-nojs\" lang=\"zh-CN\" dir=\"ltr\">\n",
    "<head>\n",
    "<meta charset=\"UTF-8\"/>\n",
    "<title>扎古一世 - 萌娘百科 万物皆可萌的百科全书</title>\n",
    "<script>document.documentElement.className = document.documentElement.className.replace( /(^|\\s)client-nojs(\\s|$)/, \"$1client-js$2\" );</script>\n",
    "<script>(window.RLQ=window.RLQ||[]).push(function(){mw.config.set({\"wgCanonicalNamespace\":\"\",\"wgCanonicalSpecialPageName\":false,\"wgNamespaceNumber\":0,\"wgPageName\":\"扎古一世\",\"wgTitle\":\"扎古一世\",\"wgCurRevisionId\":987399,\"wgRevisionId\":987399,\"wgArticleId\":41905,\"wgIsArticle\":true,\"wgIsRedirect\":false,\"wgAction\":\"view\",\"wgUserName\":null,\"wgUserGroups\":[\"*\"],\"wgCategories\":[\"不完整\",\"人物\",\"MS少女\",\"机动战士高达\"],\"wgBreakFrames\":true,\"wgPageContentLanguage\":\"zh-cn\",\"wgPageContentModel\":\"wikitext\",\"wgSeparatorTransformTable\":[\"\",\"\"],\"wgDigitTransformTable\":[\"\",\"\"],\"wgDefaultDateFormat\":\"zh\",\"wgMonthNames\":[\"\",\"1月\",\"2月\",\"3月\",\"4月\",\"5月\",\"6月\",\"7月\",\"8月\",\"9月\",\"10月\",\"11月\",\"12月\"],\"wgMonthNamesShort\":[\"\",\"1月\",\"2月\",\"3月\",\"4月\",\"5月\",\"6月\",\"7月\",\"8月\",\"9月\",\"10月\",\"11月\",\"12月\"],\"wgRelevantPageName\":\"扎古一世\",\"wgRelevantArticleId\":41905,\"wgRequestId\":\"8e43d0599fae5b92626b10a3\",\"wgUserVariant\":\"zh-cn\",\"wgIsProbablyEditable\":false,\"wgRelevantPageIsProbablyEditable\":false,\"wgRestrictionEdit\":[],\"wgRestrictionMove\":[],\"wgWikiEditorEnabledModules\":{\"toolbar\":true,\"preview\":true,\"publish\":false},\"wgMediaViewerOnClick\":true,\"wgMediaViewerEnabledByDefault\":true,\"wgPreferredVariant\":\"zh-cn\",\"wgMFExpandAllSectionsUserOption\":false,\"wgMFDisplayWikibaseDescriptions\":{\"search\":false,\"nearby\":false,\"watchlist\":false,\"tagline\":false},\"wgRelatedArticles\":null,\"wgRelatedArticlesUseCirrusSearch\":true,\"wgRelatedArticlesOnlyUseCirrusSearch\":false,\"wgCategoryTreePageCategoryOptions\":\"{\\\"mode\\\":0,\\\"hideprefix\\\":20,\\\"showcount\\\":true,\\\"namespaces\\\":false}\",\"wgFlowThreadConfig\":{\"Avatar\":\"https://commons.moegirl.org/extensions/Avatar/avatar.php?user=${username}\",\"AnonymousAvatar\":\"https://static.mengniang.org/moehime.jpg\",\"CantPostNotice\":\"您没有权限发表评论。如果您尚未登录，可以先尝试 \\u003Ca href=\\\"/Special:%E7%94%A8%E6%88%B7%E7%99%BB%E5%BD%95\\\" title=\\\"Special:用户登录\\\"\\u003E登录\\u003C/a\\u003E。\"}});mw.loader.state({\"site.styles\":\"ready\",\"noscript\":\"ready\",\"user.styles\":\"ready\",\"user\":\"ready\",\"user.options\":\"loading\",\"user.tokens\":\"loading\",\"mediawiki.legacy.shared\":\"ready\",\"mediawiki.legacy.commonPrint\":\"ready\",\"mediawiki.sectionAnchor\":\"ready\",\"mediawiki.skinning.interface\":\"ready\",\"skins.vector.styles\":\"ready\"});mw.loader.implement(\"user.options@0mqu3n9\",function($,jQuery,require,module){mw.user.options.set({\"language\":\"zh-cn\",\"variant\":\"zh-cn\"});});mw.loader.implement(\"user.tokens@1pbk8fh\",function ( $, jQuery, require, module ) {\n",
    "mw.user.tokens.set({\"editToken\":\"+\\\\\",\"patrolToken\":\"+\\\\\",\"watchToken\":\"+\\\\\",\"csrfToken\":\"+\\\\\"});/*@nomin*/\n",
    "\n",
    "});mw.loader.load([\"site\",\"mediawiki.page.startup\",\"mediawiki.user\",\"mediawiki.hidpi\",\"mediawiki.page.ready\",\"jquery.makeCollapsible\",\"mediawiki.toc\",\"mediawiki.searchSuggest\",\"ext.gadget.ShowAvatar\",\"ext.gadget.UserLinkAvatar\",\"ext.gadget.Backtotop\",\"ext.gadget.FlowthreadTOC\",\"ext.gadget.FlowThreadCheck\",\"ext.gadget.Force_preview\",\"ext.flowthread\",\"mmv.head\",\"mmv.bootstrap.autostart\",\"skins.vector.js\"]);});</script>\n",
    "<link rel=\"stylesheet\" href=\"/load.php?debug=false&amp;lang=zh-cn&amp;modules=mediawiki.legacy.commonPrint%2Cshared%7Cmediawiki.sectionAnchor%7Cmediawiki.skinning.interface%7Cskins.vector.styles&amp;only=styles&amp;skin=vector\"/>\n",
    "<script async=\"\" src=\"/load.php?debug=false&amp;lang=zh-cn&amp;modules=startup&amp;only=scripts&amp;skin=vector\"></script>\n",
    "<meta name=\"ResourceLoaderDynamicStyles\" content=\"\"/>\n",
    "<link rel=\"stylesheet\" href=\"/load.php?debug=false&amp;lang=zh-cn&amp;modules=site.styles&amp;only=styles&amp;skin=vector\"/>\n",
    "<meta name=\"generator\" content=\"MediaWiki 1.30.0\"/>\n",
    "<meta property=\"og:image\" content=\"https://img.moegirl.org/common/3/3a/MS-05B.jpg\"/>\n",
    "<link rel=\"alternate\" media=\"only screen and (max-width: 720px)\" href=\"https://m.moegirl.org/%E6%89%8E%E5%8F%A4%E4%B8%80%E4%B8%96\"/>\n",
    "<link rel=\"shortcut icon\" href=\"/favicon.ico\"/>\n",
    "<link rel=\"search\" type=\"application/opensearchdescription+xml\" href=\"/opensearch_desc.php\" title=\"萌娘百科 (zh)\"/>\n",
    "<link rel=\"EditURI\" type=\"application/rsd+xml\" href=\"https://zh.moegirl.org/api.php?action=rsd\"/>\n",
    "<link rel=\"alternate\" hreflang=\"zh\" href=\"/zh/%E6%89%8E%E5%8F%A4%E4%B8%80%E4%B8%96\"/>\n",
    "<link rel=\"alternate\" hreflang=\"zh-Hans\" href=\"/zh-hans/%E6%89%8E%E5%8F%A4%E4%B8%80%E4%B8%96\"/>\n",
    "<link rel=\"alternate\" hreflang=\"zh-Hant\" href=\"/zh-hant/%E6%89%8E%E5%8F%A4%E4%B8%80%E4%B8%96\"/>\n",
    "<link rel=\"alternate\" hreflang=\"zh-CN\" href=\"/zh-cn/%E6%89%8E%E5%8F%A4%E4%B8%80%E4%B8%96\"/>\n",
    "<link rel=\"alternate\" hreflang=\"zh-TW\" href=\"/zh-tw/%E6%89%8E%E5%8F%A4%E4%B8%80%E4%B8%96\"/>\n",
    "<link rel=\"alternate\" hreflang=\"x-default\" href=\"/%E6%89%8E%E5%8F%A4%E4%B8%80%E4%B8%96\"/>\n",
    "<link rel=\"license\" href=\"/%E8%90%8C%E5%A8%98%E7%99%BE%E7%A7%91:%E7%89%88%E6%9D%83%E4%BF%A1%E6%81%AF\"/>\n",
    "<link rel=\"canonical\" href=\"https://zh.moegirl.org/%E6%89%8E%E5%8F%A4%E4%B8%80%E4%B8%96\"/>\n",
    "<meta name=\"keywords\" content=\"萌娘,百科,软妹,萌妹,萝莉,拟人,萌化,娘化,ACG,Anime,动画,漫画,动漫,动漫音乐,Gal,GalGame,游戏,宅腐\"/>\n",
    "<script src=\"https://dup.baidustatic.com/js/ds.js\"></script>\n",
    "<!--[if lt IE 9]><script src=\"/resources/lib/html5shiv/html5shiv.min.js?40bd4\"></script><![endif]-->\n",
    "</head>\n",
    "<body class=\"mediawiki ltr sitedir-ltr mw-hide-empty-elt ns-0 ns-subject page-扎古一世 rootpage-扎古一世 skin-vector action-view\">\t\t<div id=\"mw-page-base\" class=\"noprint\"></div>\n",
    "\t\t<div id=\"mw-head-base\" class=\"noprint\"></div>\n",
    "\t\t<div id=\"content\" class=\"mw-body\" role=\"main\">\n",
    "\t\t\t<a id=\"top\"></a>\n",
    "\n",
    "\t\t\t\t\t\t\t<div id=\"siteNotice\" class=\"mw-body-content\">\n",
    "<div class='please-donate'>\n",
    "\n",
    "\t<a href='//zh.moegirl.org/%E8%90%8C%E5%A8%98%E7%99%BE%E7%A7%91:%E6%8D%90%E6%AC%BE'>\n",
    "\t\t<img src='https://img.moegirl.org/donate-help.png' height='90' width='728'>\n",
    "\t</a>\n",
    "\t<div class='ads-main'>\n",
    "\t\t<!-- 广告位：萌娘百科顶部 -->\n",
    "\t\t<script>\n",
    "\t\t(function() {\n",
    "\t\t\tvar s = '_' + Math.random().toString(36).slice(2);\n",
    "\t\t\tdocument.write('<div id=\"' + s + '\"></div>');\n",
    "\t\t\t(window.slotbydup=window.slotbydup || []).push({\n",
    "\t\t\t\tid: '3876343',\n",
    "\t\t\t\tcontainer: s,\n",
    "\t\t\t\tsize: '728,90',\n",
    "\t\t\t\tdisplay: 'inlay-fix'\n",
    "\t\t\t});\n",
    "\t\t})();\n",
    "\t\t</script>\n",
    "\t</div>\n",
    "</div><div id=\"localNotice\" lang=\"zh\" dir=\"ltr\"><div class=\"mw-parser-output\"><div id=\"scrollDiv\">\n",
    "<ul>\n",
    "<li><b>你好～！欢迎来到萌娘百科！</b>如果您是第一次来到这里，点这里<a href=\"/Special:%E7%94%A8%E6%88%B7%E7%99%BB%E5%BD%95\" title=\"Special:用户登录\">加入萌娘百科!</a></li>\n",
    "<li><b>欢迎具有翻译能力的同学～有意者请点→<a href=\"/Category:%E9%9C%80%E8%A6%81%E7%BF%BB%E8%AF%91%E7%9A%84%E6%9D%A1%E7%9B%AE\" title=\"Category:需要翻译的条目\">Category:需要翻译的条目</a>←</b></li>\n",
    "<li><span style=\"font-style:bold;color:red\">如果您在萌娘百科上发现某些内容<b>错误/空缺</b>，请<b>勇于</b>修正/添加！<b>编辑萌娘百科其实很容易！</b></span></li>\n",
    "<li>觉得萌娘百科有趣的话，请推荐给朋友哦～</li>\n",
    "<li><a target=\"_blank\" rel=\"nofollow noreferrer noopener\" class=\"external text\" href=\"http://jq.qq.com/?_wv=1027&amp;k=cBtm01\">萌娘百科群</a>119170500欢迎加入，加入时请写明【<b>萌娘百科+自己的ID</b>】～</li>\n",
    "<li>萌娘百科Discord群组已经建立，<a target=\"_blank\" rel=\"nofollow noreferrer noopener\" class=\"external text\" href=\"https://discord.gg/fXc69qH\">请点此加入！</a></li>\n",
    "</ul>\n",
    "</div>\n",
    "</div></div></div>\n",
    "\t\t\t\t\t\t<div class=\"mw-indicators mw-body-content\">\n",
    "</div>\n",
    "\t\t\t<h1 id=\"firstHeading\" class=\"firstHeading\" lang=\"zh-CN\">扎古一世</h1>\n",
    "\t\t\t\t\t\t\t\t\t<div id=\"bodyContent\" class=\"mw-body-content\">\n",
    "\t\t\t\t\t\t\t\t\t<div id=\"siteSub\" class=\"noprint\">萌娘百科，万物皆可萌的百科全书！ 转载请以URL链接形式标注源地址，并写明转自萌娘百科。</div>\n",
    "\t\t\t\t\t\t\t\t<div id=\"contentSub\" lang=\"zh-CN\" dir=\"ltr\"></div>\n",
    "\t\t\t\t\t\t\t\t\t\t\t\t<div id=\"jump-to-nav\" class=\"mw-jump\">\n",
    "\t\t\t\t\t跳转至：\t\t\t\t\t<a href=\"#mw-head\">导航</a>、\t\t\t\t\t<a href=\"#p-search\">搜索</a>\n",
    "\t\t\t\t</div>\n",
    "\t\t\t\t<div id=\"mw-content-text\" lang=\"zh-CN\" dir=\"ltr\" class=\"mw-content-ltr\"><div class=\"mw-parser-output\"><div class=\"infoBox infobox-incompleted\" style=\"width:80%;border-left: 10px solid green;\"><div class=\"infoBoxContent\">\n",
    "<div class=\"infoBoxIcon\" style=\"\"><a href=\"/%E8%90%8C%E5%A8%98%E7%99%BE%E7%A7%91%E7%BC%96%E8%BE%91%E8%A7%84%E8%8C%83\" title=\"萌娘百科编辑规范\"><img alt=\"大萌字.png\" src=\"https://img.moegirl.org/common/thumb/d/d1/%E5%A4%A7%E8%90%8C%E5%AD%97.png/50px-%E5%A4%A7%E8%90%8C%E5%AD%97.png\" width=\"50\" height=\"57\" srcset=\"https://img.moegirl.org/common/thumb/d/d1/%E5%A4%A7%E8%90%8C%E5%AD%97.png/75px-%E5%A4%A7%E8%90%8C%E5%AD%97.png 1.5x, https://img.moegirl.org/common/thumb/d/d1/%E5%A4%A7%E8%90%8C%E5%AD%97.png/100px-%E5%A4%A7%E8%90%8C%E5%AD%97.png 2x\" data-file-width=\"174\" data-file-height=\"198\" /></a></div><div class=\"infoBoxText\" style=\"color: green;\"><b>萌娘百科欢迎您参与完善本条目☆Kira~</b> <br />\n",
    "欢迎正在阅读这个条目的您协助<span class=\"plainlinks\"><a target=\"_blank\" rel=\"nofollow noreferrer noopener\" class=\"external text\" href=\"https://zh.moegirl.org/index.php?title=%E6%89%8E%E5%8F%A4%E4%B8%80%E4%B8%96&amp;action=edit\">编辑本条目</a></span>。编辑前请阅读<a href=\"/Help:Wiki%E5%85%A5%E9%97%A8\" title=\"Help:Wiki入门\">Wiki入门</a>或<a href=\"/%E8%90%8C%E5%A8%98%E7%99%BE%E7%A7%91%E7%BC%96%E8%BE%91%E8%A7%84%E8%8C%83\" class=\"mw-redirect\" title=\"萌娘百科编辑规范\">条目编辑规范</a>，并查找相关资料。萌娘百科祝您在本站度过愉快的时光。</div>\n",
    "</div></div><div itemscope=\"\" itemtype=\"http&#58;//data-vocabulary.org/Person\" class=\"infotemplatebox\">\n",
    "<table border=\"0\" cellpadding=\"0\" cellspacing=\"0\" style=\"width:100%;\">\n",
    "<tr>\n",
    "<td colspan=\"2\" style=\"text-align:center\"><span itemprop=\"photo\"><a href=\"/File:MS-05B.jpg\" class=\"image\"><img alt=\"MS-05B.jpg\" src=\"https://img.moegirl.org/common/thumb/3/3a/MS-05B.jpg/250px-MS-05B.jpg\" width=\"250\" height=\"353\" srcset=\"https://img.moegirl.org/common/thumb/3/3a/MS-05B.jpg/375px-MS-05B.jpg 1.5x, https://img.moegirl.org/common/thumb/3/3a/MS-05B.jpg/500px-MS-05B.jpg 2x\" data-file-width=\"600\" data-file-height=\"847\" /></a></span>\n",
    "</td></tr>\n",
    "<tr>\n",
    "<td colspan=\"2\" style=\"text-align:center;background-color:#deede0\"><b>基本资料</b>\n",
    "</td></tr>\n",
    "<tr>\n",
    "<th style=\"min-width: 4em;\">姓名\n",
    "</th>\n",
    "<td style=\"text-align:center\"> <span itemprop=\"name\">扎古一世</span>\n",
    "</td></tr>\n",
    "<tr>\n",
    "<th> 别号\n",
    "</th>\n",
    "<td style=\"text-align:center\"> <span itemprop=\"nickname\">旧扎古</span>\n",
    "</td></tr>\n",
    "\n",
    "\n",
    "\n",
    "\n",
    "\n",
    "\n",
    "\n",
    "\n",
    "\n",
    "\n",
    "\n",
    "\n",
    "\n",
    "\n",
    "\n",
    "\n",
    "\n",
    "\n",
    "\n",
    "\n",
    "\n",
    "\n",
    "\n",
    "\n",
    "\n",
    "\n",
    "\n",
    "\n",
    "\n",
    "\n",
    "\n",
    "\n",
    "\n",
    "\n",
    "<tr>\n",
    "<th> 所属团体\n",
    "</th>\n",
    "<td style=\"text-align:center\"> <span itemprop=\"affiliation\">吉翁公国军</span>\n",
    "</td></tr>\n",
    "\n",
    "\n",
    "<tr>\n",
    "<th colspan=\"2\" style=\"background-color:#E0FFFF\">  <b>亲属或相关人</b>\n",
    "</th></tr>\n",
    "<tr>\n",
    "<th colspan=\"2\"> <a href=\"/%E7%8B%99%E5%87%BB%E5%9E%8B%E6%89%8E%E5%8F%A4%E4%B8%80%E4%B8%96\" title=\"狙击型扎古一世\">狙击型扎古一世</a>，<a href=\"/%E6%89%8E%E5%8F%A4%E4%BA%8C%E4%B8%96\" title=\"扎古二世\">扎古二世</a>\n",
    "</th></tr>\n",
    "\n",
    "</table></div>\n",
    "<p><b>扎古一世</b>是《机动战士高达》及其衍生作品中<b>扎古Ⅰ</b>的<a href=\"/%E6%8B%9F%E4%BA%BA%E5%8C%96\" class=\"mw-redirect\" title=\"拟人化\">拟人化</a>萌娘。\n",
    "</p><p><br />\n",
    "</p>\n",
    "<div id=\"toc\" class=\"toc\"><div class=\"toctitle\"><h2>目录</h2></div>\n",
    "<ul>\n",
    "<li class=\"toclevel-1 tocsection-1\"><a href=\"#.E6.9C.BA.E5.A8.98.E7.AE.80.E4.BB.8B\"><span class=\"tocnumber\">1</span> <span class=\"toctext\">机娘简介</span></a></li>\n",
    "<li class=\"toclevel-1 tocsection-2\"><a href=\"#.E6.9C.BA.E5.A8.98.E5.8F.82.E6.95.B0\"><span class=\"tocnumber\">2</span> <span class=\"toctext\">机娘参数</span></a></li>\n",
    "<li class=\"toclevel-1 tocsection-3\"><a href=\"#.E6.AD.A6.E5.99.A8.E8.A3.85.E5.A4.87\"><span class=\"tocnumber\">3</span> <span class=\"toctext\">武器装备</span></a></li>\n",
    "<li class=\"toclevel-1 tocsection-4\"><a href=\"#.E5.A4.96.E9.83.A8.E9.93.BE.E6.8E.A5.E4.B8.8E.E6.B3.A8.E9.87.8A\"><span class=\"tocnumber\">4</span> <span class=\"toctext\">外部链接与注释</span></a></li>\n",
    "</ul>\n",
    "</div>\n",
    "\n",
    "<h2><span class=\"mw-headline\" id=\".E6.9C.BA.E5.A8.98.E7.AE.80.E4.BB.8B\">机娘简介</span></h2>\n",
    "<p>该机娘为吉翁公国军最初的泛用量产型MS少女，也是人类历史上最初的量产型MS少女，是一代名姬MS-06“<a href=\"/%E6%89%8E%E5%8F%A4%E4%BA%8C%E4%B8%96\" title=\"扎古二世\">扎古二世</a>”的原型姬。虽然与之后开发的扎古二世相比，该机娘的动力传达系统和推进剂容量等方面存在着诸多的问题，但作为一款战斗用MS少女已经具备了足够高的完成度。\n",
    "</p><p>“一年战争”初期，扎古一世被作为吉翁军的主力MS少女使用并投入到“大不列颠作战”中，取得了极大的战果。不过随着扎古二世的研发和生产，逐渐成为旧式MS少女退出了前线。大战中后期则主要被使用在运输资源等后勤工作上。至大战末期时，仍有部分扎古一世留存并被用于据点防御等军事任务。\n",
    "</p>\n",
    "<h2><span class=\"mw-headline\" id=\".E6.9C.BA.E5.A8.98.E5.8F.82.E6.95.B0\">机娘参数</span></h2>\n",
    "<ul><li>军方编号：MS-05B</li>\n",
    "<li>内部环境：未完成型标准式驾驶舱</li>\n",
    "<li>头顶高：17.5米</li>\n",
    "<li>本体重量：50.3吨</li>\n",
    "<li>全备重量：65.0吨</li>\n",
    "<li>装甲材料及结构：超高张力钢（超硬钢合金）</li>\n",
    "<li>发电机出力：899KW</li>\n",
    "<li>推进力：40700KG</li>\n",
    "<li>加速度： -</li>\n",
    "<li>传感器探测有效半径：2900米</li></ul>\n",
    "<table class=\"mw-collapsible mw-collapsed wikitable\">\n",
    "<tr>\n",
    "<th>机体原型</th>\n",
    "</tr>\n",
    "<tr>\n",
    "<td>\n",
    "<p><a href=\"/File:MS-05%E5%8E%9F%E7%94%BB.jpg\" class=\"image\"><img alt=\"MS-05原画.jpg\" src=\"https://img.moegirl.org/common/thumb/b/b0/MS-05%E5%8E%9F%E7%94%BB.jpg/500px-MS-05%E5%8E%9F%E7%94%BB.jpg\" width=\"500\" height=\"354\" srcset=\"https://img.moegirl.org/common/thumb/b/b0/MS-05%E5%8E%9F%E7%94%BB.jpg/750px-MS-05%E5%8E%9F%E7%94%BB.jpg 1.5x, https://img.moegirl.org/common/thumb/b/b0/MS-05%E5%8E%9F%E7%94%BB.jpg/1000px-MS-05%E5%8E%9F%E7%94%BB.jpg 2x\" data-file-width=\"1483\" data-file-height=\"1050\" /></a>\n",
    "</p>\n",
    "</td>\n",
    "</tr>\n",
    "</table>\n",
    "<h2><span class=\"mw-headline\" id=\".E6.AD.A6.E5.99.A8.E8.A3.85.E5.A4.87\">武器装备</span></h2>\n",
    "<p>固定武装：\n",
    "</p>\n",
    "<ul><li>热能战斧（收纳于侧面裙甲上）</li></ul>\n",
    "<p>选用武装： \n",
    "</p>\n",
    "<ul><li>105mm机枪（弹鼓供弹，100发1弹鼓，备用弹鼓收纳于后方裙甲上）</li>\n",
    "<li>120mm机枪（弹鼓供弹，100发1弹鼓，备用弹鼓收纳于后方裙甲上）</li>\n",
    "<li>280mm火箭筒（4发1弹舱，收纳于后腰装甲上）</li></ul>\n",
    "<table class=\"navbox\" cellspacing=\"0\" style=\";\"><tr><td style=\"padding:2px;\"><table cellspacing=\"0\" class=\"nowraplinks mw-collapsible mw-collapsible mw-collapsed\" style=\"display:table;width:100%;background:transparent;color:inherit;;\"><tr><th style=\";background:#AEC8EE;fint-size:15px;\" colspan=\"2\" class=\"navbox-title\"><div style=\"float:left; width:6em;text-align:left;\"><div class=\"noprint plainlinks hlist navbar nomobile\" style=\"\"><a href=\"/Template:%E6%9C%BA%E5%8A%A8%E6%88%98%E5%A3%AB%E9%AB%98%E8%BE%BE\" title=\"Template:机动战士高达\"><span style=\";background:#AEC8EE;fint-size:15px;;border:none;\" title=\"查看这个模板\">查</span></a><span style=\"white-space:nowrap; font-weight:bold;\">&#160;· </span><a href=\"/index.php?title=Template_talk:%E6%9C%BA%E5%8A%A8%E6%88%98%E5%A3%AB%E9%AB%98%E8%BE%BE&amp;action=edit&amp;redlink=1\" class=\"new\" title=\"Template talk:机动战士高达（页面不存在）\"><span style=\";background:#AEC8EE;fint-size:15px;;border:none;\" title=\"关于这个模板的讨论页面\">论</span></a><span style=\"white-space:nowrap; font-weight:bold;\">&#160;· </span><a target=\"_blank\" rel=\"nofollow noreferrer noopener\" class=\"external text\" href=\"https://zh.moegirl.org/index.php?title=Template:%E6%9C%BA%E5%8A%A8%E6%88%98%E5%A3%AB%E9%AB%98%E8%BE%BE&amp;action=edit\"><span style=\";background:#AEC8EE;fint-size:15px;;border:none;\" title=\"您可以编辑这个模板。请在储存变更之前先预览\">编</span></a></div></div><span style=\"font-size:110%;\">《<a href=\"/%E6%9C%BA%E5%8A%A8%E6%88%98%E5%A3%AB%E9%AB%98%E8%BE%BE%E7%B3%BB%E5%88%97\" title=\"机动战士高达系列\">机动战士高达系列</a>》（《Mobile Suit Gundam Series》）</span></th></tr><tr style=\"height:2px;\"><td></td></tr><tr><td colspan=\"2\" style=\"width:100%;padding:0px;;;\" class=\"navbox-list navbox-odd\"><div style=\"padding:0em 0.25em\"></div><table cellspacing=\"0\" class=\"nowraplinks mw-collapsible mw-collapsible mw-uncollapsed navbox-subgroup\" style=\"display:table;width:100%;;;;\"><tr><th style=\";\" colspan=\"2\" class=\"navbox-title\"><div style=\"float:left; width:6em;text-align:left;\">&#160;</div><span style=\"font-size:100%;\">作品列表</span></th></tr><tr style=\"height:2px;\"><td></td></tr><tr><td class=\"navbox-group\" style=\";width:3em;\">TV版</td><td style=\"text-align:left;border-left:2px solid #fdfdfd;width:100%;padding:0px;width: auto;;;\" class=\"navbox-list navbox-odd\"><div style=\"padding:0em 0.25em\"><a href=\"/%E6%9C%BA%E5%8A%A8%E6%88%98%E5%A3%AB%E9%AB%98%E8%BE%BE0079\" title=\"机动战士高达0079\">机动战士高达0079</a> • <a href=\"/%E6%9C%BA%E5%8A%A8%E6%88%98%E5%A3%ABZ%E9%AB%98%E8%BE%BE\" title=\"机动战士Z高达\">机动战士Z高达</a> • <a href=\"/index.php?title=%E6%9C%BA%E5%8A%A8%E6%88%98%E5%A3%AB%E9%AB%98%E8%BE%BEZZ&amp;action=edit&amp;redlink=1\" class=\"new\" title=\"机动战士高达ZZ（页面不存在）\">机动战士高达ZZ</a> • <a href=\"/index.php?title=%E6%9C%BA%E5%8A%A8%E6%88%98%E5%A3%AB%E9%AB%98%E8%BE%BEV&amp;action=edit&amp;redlink=1\" class=\"new\" title=\"机动战士高达V（页面不存在）\">机动战士高达V</a> • <a href=\"/index.php?title=%E6%9C%BA%E5%8A%A8%E6%88%98%E5%A3%AB%E6%AD%A6%E6%96%97%E4%BC%A0G%E9%AB%98%E8%BE%BE&amp;action=edit&amp;redlink=1\" class=\"new\" title=\"机动战士武斗传G高达（页面不存在）\">机动战士武斗传G高达</a> • <a href=\"/%E6%9C%BA%E5%8A%A8%E6%88%98%E5%A3%AB%E9%AB%98%E8%BE%BEW\" class=\"mw-redirect\" title=\"机动战士高达W\">机动战士高达W</a> • <a href=\"/index.php?title=%E6%9C%BA%E5%8A%A8%E6%88%98%E5%A3%AB%E9%AB%98%E8%BE%BEX&amp;action=edit&amp;redlink=1\" class=\"new\" title=\"机动战士高达X（页面不存在）\">机动战士高达X</a> • <a href=\"/index.php?title=%E2%88%80%E9%AB%98%E9%81%94&amp;action=edit&amp;redlink=1\" class=\"new\" title=\"∀高达（页面不存在）\">机动战士高达TurnA</a> • <a href=\"/%E6%9C%BA%E5%8A%A8%E6%88%98%E5%A3%AB%E9%AB%98%E8%BE%BESEED\" title=\"机动战士高达SEED\">机动战士高达SEED</a> • <a href=\"/index.php?title=%E6%9C%BA%E5%8A%A8%E6%88%98%E5%A3%AB%E9%AB%98%E8%BE%BESEED_DESTINY&amp;action=edit&amp;redlink=1\" class=\"new\" title=\"机动战士高达SEED DESTINY（页面不存在）\">机动战士高达SEED DESTINY</a> • <a href=\"/%E6%9C%BA%E5%8A%A8%E6%88%98%E5%A3%AB%E9%AB%98%E8%BE%BE00\" title=\"机动战士高达00\">机动战士高达00</a> • <a href=\"/%E6%9C%BA%E5%8A%A8%E6%88%98%E5%A3%AB%E9%AB%98%E8%BE%BEAGE\" title=\"机动战士高达AGE\">机动战士高达AGE</a> • <a href=\"/index.php?title=%E9%AB%98%E9%81%94%E5%89%B5%E6%88%B0%E8%80%85&amp;action=edit&amp;redlink=1\" class=\"new\" title=\"高达创战者（页面不存在）\">高达创战者</a> • <a href=\"/index.php?title=%E9%AB%98%E9%81%94%E5%89%B5%E6%88%B0%E8%80%85TRY&amp;action=edit&amp;redlink=1\" class=\"new\" title=\"高达创战者TRY（页面不存在）\">高达创战者TRY</a> • <a href=\"/index.php?title=%E6%9C%BA%E5%8A%A8%E6%88%98%E5%A3%AB%E9%AB%98%E8%BE%BEG%E5%A4%8D%E5%9B%BD%E8%BF%90%E5%8A%A8&amp;action=edit&amp;redlink=1\" class=\"new\" title=\"机动战士高达G复国运动（页面不存在）\">机动战士高达G复国运动</a> • <a href=\"/%E6%9C%BA%E5%8A%A8%E6%88%98%E5%A3%AB%E9%AB%98%E8%BE%BE_%E9%93%81%E8%A1%80%E7%9A%84%E5%AD%A4%E5%84%BF\" title=\"机动战士高达 铁血的孤儿\">机动战士高达 铁血的孤儿</a></div></td></tr><tr style=\"height:2px\"><td></td></tr><tr><td class=\"navbox-group\" style=\";width:3em;\">OVA版</td><td style=\"text-align:left;border-left:2px solid #fdfdfd;width:100%;padding:0px;width: auto;;;\" class=\"navbox-list navbox-even\"><div style=\"padding:0em 0.25em\"><a href=\"/%E6%9C%BA%E5%8A%A8%E6%88%98%E5%A3%AB%E9%AB%98%E8%BE%BE%E7%AC%AC08MS%E5%B0%8F%E9%98%9F\" class=\"mw-redirect\" title=\"机动战士高达第08MS小队\">机动战士高达第08MS小队</a> • <a href=\"/index.php?title=%E6%9C%BA%E5%8A%A8%E6%88%98%E5%A3%AB%E9%AB%98%E8%BE%BE0080%EF%BD%9E%E5%8F%A3%E8%A2%8B%E4%B8%AD%E7%9A%84%E6%88%98%E4%BA%89&amp;action=edit&amp;redlink=1\" class=\"new\" title=\"机动战士高达0080～口袋中的战争（页面不存在）\">机动战士高达0080～口袋中的战争</a> • <a href=\"/%E6%9C%BA%E5%8A%A8%E6%88%98%E5%A3%AB%E9%AB%98%E8%BE%BE0083%EF%BD%9E%E6%98%9F%E5%B0%98%E7%9A%84%E5%9B%9E%E5%BF%86\" title=\"机动战士高达0083～星尘的回忆\">机动战士高达0083～星尘的回忆</a> • <a href=\"/index.php?title=%E6%9C%BA%E5%8A%A8%E6%88%98%E5%A3%AB%E9%AB%98%E8%BE%BEW%EF%BD%9E%E6%88%98%E5%9C%BA%E5%9B%9E%E5%BF%86%E5%BD%95&amp;action=edit&amp;redlink=1\" class=\"new\" title=\"机动战士高达W～战场回忆录（页面不存在）\">机动战士高达W～战场回忆录</a> • <a href=\"/index.php?title=%E6%9C%BA%E5%8A%A8%E6%88%98%E5%A3%AB%E9%AB%98%E8%BE%BEW%EF%BD%9E%E6%97%A0%E5%B0%BD%E7%9A%84%E5%8D%8E%E5%B0%94%E5%85%B9&amp;action=edit&amp;redlink=1\" class=\"new\" title=\"机动战士高达W～无尽的华尔兹（页面不存在）\">机动战士高达W～无尽的华尔兹</a> • <a href=\"/index.php?title=%E6%9C%BA%E5%8A%A8%E6%88%98%E5%A3%AB%E9%AB%98%E8%BE%BESEED_C.E_73_%E8%A7%82%E6%98%9F%E8%80%85&amp;action=edit&amp;redlink=1\" class=\"new\" title=\"机动战士高达SEED C.E 73 观星者（页面不存在）\">机动战士高达SEED C.E 73 观星者</a> • <a href=\"/index.php?title=%E6%9C%BA%E5%8A%A8%E6%88%98%E5%A3%AB%E9%AB%98%E8%BE%BEMS_IGLOO%E4%B8%80%E5%B9%B4%E6%88%98%E4%BA%89%E5%AF%86%E5%BD%95&amp;action=edit&amp;redlink=1\" class=\"new\" title=\"机动战士高达MS IGLOO一年战争密录（页面不存在）\">机动战士高达MS IGLOO一年战争密录</a> • <a href=\"/index.php?title=%E6%9C%BA%E5%8A%A8%E6%88%98%E5%A3%AB%E9%AB%98%E8%BE%BEMS_IGLOO%E4%B8%80%E5%B9%B4%E6%88%98%E4%BA%89%E9%BB%98%E7%A4%BA%E5%BD%95&amp;action=edit&amp;redlink=1\" class=\"new\" title=\"机动战士高达MS IGLOO一年战争默示录（页面不存在）\">机动战士高达MS IGLOO一年战争默示录</a> • <a href=\"/index.php?title=%E6%9C%BA%E5%8A%A8%E6%88%98%E5%A3%AB%E9%AB%98%E8%BE%BEMS_IGLOO2_%E9%87%8D%E5%8A%9B%E6%88%98%E7%BA%BF&amp;action=edit&amp;redlink=1\" class=\"new\" title=\"机动战士高达MS IGLOO2 重力战线（页面不存在）\">机动战士高达MS IGLOO2 重力战线</a> • <a href=\"/index.php?title=%E6%9C%BA%E5%8A%A8%E6%88%98%E5%A3%AB%E9%AB%98%E8%BE%BE%E7%8B%AC%E8%A7%92%E5%85%BD&amp;action=edit&amp;redlink=1\" class=\"new\" title=\"机动战士高达独角兽（页面不存在）\">机动战士高达独角兽</a> • <a href=\"/%E6%9C%BA%E5%8A%A8%E6%88%98%E5%A3%AB%E9%AB%98%E8%BE%BEAGE\" title=\"机动战士高达AGE\">机动战士高达AGE MEMORY OF EDEN</a></div></td></tr><tr style=\"height:2px\"><td></td></tr><tr><td class=\"navbox-group\" style=\";width:3em;\">剧场版</td><td style=\"text-align:left;border-left:2px solid #fdfdfd;width:100%;padding:0px;width: auto;;;\" class=\"navbox-list navbox-odd\"><div style=\"padding:0em 0.25em\"><a href=\"/index.php?title=%E6%9C%BA%E5%8A%A8%E6%88%98%E5%A3%AB%E9%AB%98%E8%BE%BE%EF%BD%9E%E9%AB%98%E8%BE%BE%E7%AB%99%E7%AB%8B%E5%9C%A8%E5%A4%A7%E5%9C%B0%E4%B8%8A&amp;action=edit&amp;redlink=1\" class=\"new\" title=\"机动战士高达～高达站立在大地上（页面不存在）\">机动战士高达～高达站立在大地上</a> • <a href=\"/index.php?title=%E6%9C%BA%E5%8A%A8%E6%88%98%E5%A3%AB%E9%AB%98%E8%BE%BE%EF%BD%9E%E5%93%80%E6%88%98%E5%A3%AB&amp;action=edit&amp;redlink=1\" class=\"new\" title=\"机动战士高达～哀战士（页面不存在）\">机动战士高达～哀战士</a> • <a href=\"/index.php?title=%E6%9C%BA%E5%8A%A8%E6%88%98%E5%A3%AB%E9%AB%98%E8%BE%BE%EF%BD%9E%E7%9B%B8%E9%80%A2%E5%9C%A8%E5%AE%87%E5%AE%99&amp;action=edit&amp;redlink=1\" class=\"new\" title=\"机动战士高达～相逢在宇宙（页面不存在）\">机动战士高达～相逢在宇宙</a> • <a href=\"/index.php?title=%E6%9C%BA%E5%8A%A8%E6%88%98%E5%A3%AB%E9%AB%98%E8%BE%BE%E7%AC%AC08MS%E5%B0%8F%E9%98%9F%EF%BD%9E%E7%B1%B3%E6%8B%89%E7%9A%84%E6%8A%A5%E5%91%8A&amp;action=edit&amp;redlink=1\" class=\"new\" title=\"机动战士高达第08MS小队～米拉的报告（页面不存在）\">机动战士高达第08MS小队～米拉的报告</a> • <a href=\"/index.php?title=%E6%9C%BA%E5%8A%A8%E6%88%98%E5%A3%AB%E9%AB%98%E8%BE%BE%E7%AC%AC08MS%E5%B0%8F%E9%98%9F%EF%BD%9E%E5%AE%8C%E7%BB%93%E7%AF%87&amp;action=edit&amp;redlink=1\" class=\"new\" title=\"机动战士高达第08MS小队～完结篇（页面不存在）\">机动战士高达第08MS小队～完结篇</a> • <a href=\"/index.php?title=%E6%9C%BA%E5%8A%A8%E6%88%98%E5%A3%AB%E9%AB%98%E8%BE%BE0083%EF%BD%9E%E5%90%89%E6%81%A9%E7%9A%84%E6%AE%8B%E5%85%89&amp;action=edit&amp;redlink=1\" class=\"new\" title=\"机动战士高达0083～吉恩的残光（页面不存在）\">机动战士高达0083～吉恩的残光</a> • <a href=\"/index.php?title=%E9%AB%98%E8%BE%BE%E6%96%B0%E4%BD%93%E9%AA%8C0087%EF%BD%9EGREEN_DIVERS&amp;action=edit&amp;redlink=1\" class=\"new\" title=\"高达新体验0087～GREEN DIVERS（页面不存在）\">高达新体验0087～GREEN DIVERS</a> • <a href=\"/index.php?title=%E6%9C%BA%E5%8A%A8%E6%88%98%E5%A3%ABZ%E9%AB%98%E8%BE%BE%E2%85%A0%EF%BD%9E%E6%98%9F%E4%B9%8B%E7%BB%A7%E6%89%BF%E8%80%85&amp;action=edit&amp;redlink=1\" class=\"new\" title=\"机动战士Z高达Ⅰ～星之继承者（页面不存在）\">机动战士Z高达Ⅰ～星之继承者</a> • <a href=\"/index.php?title=%E6%9C%BA%E5%8A%A8%E6%88%98%E5%A3%ABZ%E9%AB%98%E8%BE%BE%E2%85%A1%EF%BD%9E%E6%81%8B%E4%BA%BA%E4%BB%AC&amp;action=edit&amp;redlink=1\" class=\"new\" title=\"机动战士Z高达Ⅱ～恋人们（页面不存在）\">机动战士Z高达Ⅱ～恋人们</a> • <a href=\"/index.php?title=%E6%9C%BA%E5%8A%A8%E6%88%98%E5%A3%ABZ%E9%AB%98%E8%BE%BE%E2%85%A2%EF%BD%9E%E6%98%9F%E8%BE%B0%E7%9A%84%E9%BC%93%E5%8A%A8%E5%B0%B1%E6%98%AF%E7%88%B1&amp;action=edit&amp;redlink=1\" class=\"new\" title=\"机动战士Z高达Ⅲ～星辰的鼓动就是爱（页面不存在）\">机动战士Z高达Ⅲ～星辰的鼓动就是爱</a> • <a href=\"/%E6%9C%BA%E5%8A%A8%E6%88%98%E5%A3%AB%E9%AB%98%E8%BE%BE%EF%BD%9E%E9%80%86%E8%A2%AD%E7%9A%84%E5%A4%8F%E4%BA%9A\" title=\"机动战士高达～逆袭的夏亚\">机动战士高达～逆袭的夏亚</a> • <a href=\"/index.php?title=%E6%9C%BA%E5%8A%A8%E6%88%98%E5%A3%AB%E9%AB%98%E8%BE%BEF91&amp;action=edit&amp;redlink=1\" class=\"new\" title=\"机动战士高达F91（页面不存在）\">机动战士高达F91</a> • <a href=\"/index.php?title=%E6%9C%BA%E5%8A%A8%E6%88%98%E5%A3%AB%E9%AB%98%E8%BE%BE%EF%BD%9EG-SAVIOUR&amp;action=edit&amp;redlink=1\" class=\"new\" title=\"机动战士高达～G-SAVIOUR（页面不存在）\">机动战士高达～G-SAVIOUR</a> • <a href=\"/index.php?title=%E6%96%B0%E6%9C%BA%E5%8A%A8%E6%88%98%E8%AE%B0%E9%AB%98%E8%BE%BEW%EF%BD%9E%E6%97%A0%E5%B0%BD%E7%9A%84%E5%8D%8E%E5%B0%94%E5%85%B9%C2%B7%E7%89%B9%E5%88%AB%E7%AF%87&amp;action=edit&amp;redlink=1\" class=\"new\" title=\"新机动战记高达W～无尽的华尔兹·特别篇（页面不存在）\">新机动战记高达W～无尽的华尔兹·特别篇</a> • <a href=\"/index.php?title=TURN_A%E9%AB%98%E8%BE%BE%EF%BD%9E%E5%9C%B0%E7%90%83%E5%85%89&amp;action=edit&amp;redlink=1\" class=\"new\" title=\"TURN A高达～地球光（页面不存在）\">TURN A高达～地球光</a> • <a href=\"/index.php?title=TURN_A%E9%AB%98%E8%BE%BE%EF%BD%9E%E6%9C%88%E5%85%89%E8%9D%B6&amp;action=edit&amp;redlink=1\" class=\"new\" title=\"TURN A高达～月光蝶（页面不存在）\">TURN A高达～月光蝶</a> • <a href=\"/index.php?title=%E6%9C%BA%E5%8A%A8%E6%88%98%E5%A3%AB%E9%AB%98%E8%BE%BEOO%E5%89%A7%E5%9C%BA%E7%89%88&amp;action=edit&amp;redlink=1\" class=\"new\" title=\"机动战士高达OO剧场版（页面不存在）\">机动战士高达OO剧场版</a></div></td></tr><tr style=\"height:2px\"><td></td></tr><tr><td class=\"navbox-group\" style=\";width:3em;\">小说版</td><td style=\"text-align:left;border-left:2px solid #fdfdfd;width:100%;padding:0px;width: auto;;;\" class=\"navbox-list navbox-even\"><div style=\"padding:0em 0.25em\"><a href=\"/%E6%9C%BA%E5%8A%A8%E6%88%98%E5%A3%AB%E9%AB%98%E8%BE%BE\" class=\"mw-redirect\" title=\"机动战士高达\">机动战士高达</a> • <a href=\"/index.php?title=%E6%9C%BA%E5%8A%A8%E6%88%98%E5%A3%AB%E9%AB%98%E8%BE%BE%EF%BD%9E%E5%AF%86%E4%BC%9A&amp;action=edit&amp;redlink=1\" class=\"new\" title=\"机动战士高达～密会（页面不存在）\">机动战士高达～密会</a> • <a href=\"/index.php?title=%E6%9C%BA%E5%8A%A8%E6%88%98%E5%A3%AB%E9%AB%98%E8%BE%BE%E5%A4%96%E4%BC%A0%EF%BD%9E%E6%B7%B1%E8%93%9D%E6%88%98%E6%A0%97&amp;action=edit&amp;redlink=1\" class=\"new\" title=\"机动战士高达外传～深蓝战栗（页面不存在）\">机动战士高达外传～深蓝战栗</a> • <a href=\"/index.php?title=%E6%9C%BA%E5%8A%A8%E6%88%98%E5%A3%AB%E9%AB%98%E8%BE%BE%E5%A4%96%E4%BC%A0%EF%BD%9E%E6%AE%96%E6%B0%91%E5%8D%AB%E6%98%9F%E5%9D%A0%E8%90%BD%E4%B9%8B%E5%9C%B0&amp;action=edit&amp;redlink=1\" class=\"new\" title=\"机动战士高达外传～殖民卫星坠落之地（页面不存在）\">机动战士高达外传～殖民卫星坠落之地</a> • <a href=\"/index.php?title=%E6%9C%BA%E5%8A%A8%E6%88%98%E5%A3%AB%E9%AB%98%E8%BE%BE%EF%BD%9EMS_GENARATION&amp;action=edit&amp;redlink=1\" class=\"new\" title=\"机动战士高达～MS GENARATION（页面不存在）\">机动战士高达～MS GENARATION</a> • <a href=\"/index.php?title=%E6%9C%BA%E5%8A%A8%E6%88%98%E5%A3%AB%E9%AB%98%E8%BE%BE0080%EF%BD%9E%E5%8F%A3%E8%A2%8B%E4%B8%AD%E7%9A%84%E6%88%98%E4%BA%89&amp;action=edit&amp;redlink=1\" class=\"new\" title=\"机动战士高达0080～口袋中的战争（页面不存在）\">机动战士高达0080～口袋中的战争</a> • <a href=\"/%E6%9C%BA%E5%8A%A8%E6%88%98%E5%A3%AB%E9%AB%98%E8%BE%BE0083%EF%BD%9E%E6%98%9F%E5%B0%98%E7%9A%84%E5%9B%9E%E5%BF%86\" title=\"机动战士高达0083～星尘的回忆\">机动战士高达0083～星尘的回忆</a> • <a href=\"/index.php?title=%E6%9C%BA%E5%8A%A8%E6%88%98%E5%A3%AB%E9%AB%98%E8%BE%BE%EF%BD%9EFirst_step&amp;action=edit&amp;redlink=1\" class=\"new\" title=\"机动战士高达～First step（页面不存在）\">机动战士高达～First step</a> • <a href=\"/index.php?title=%E6%9C%BA%E5%8A%A8%E6%88%98%E5%A3%AB%E9%AB%98%E8%BE%BE0085%EF%BD%9EZ%E7%9A%84%E8%83%8E%E5%8A%A8&amp;action=edit&amp;redlink=1\" class=\"new\" title=\"机动战士高达0085～Z的胎动（页面不存在）\">机动战士高达0085～Z的胎动</a> • <a href=\"/index.php?title=%E5%87%A4%E7%9A%84%E6%95%85%E4%BA%8B%EF%BD%9E%E7%84%B6%E5%90%8E%EF%BC%8C%E6%88%98%E5%A3%AB%E2%80%A6%E2%80%A6&amp;action=edit&amp;redlink=1\" class=\"new\" title=\"凤的故事～然后，战士……（页面不存在）\">凤的故事～然后，战士……</a> • <a href=\"/%E6%9C%BA%E5%8A%A8%E6%88%98%E5%A3%ABZ%E9%AB%98%E8%BE%BE\" title=\"机动战士Z高达\">机动战士Z高达</a> • <a href=\"/index.php?title=A.O.Z(Advance_of_Z)%E5%9C%A8%E6%B3%B0%E5%9D%A6%E6%96%AF%E6%97%97%E4%B8%8B&amp;action=edit&amp;redlink=1\" class=\"new\" title=\"A.O.Z(Advance of Z)在泰坦斯旗下（页面不存在）\">A.O.Z(Advance of Z)在泰坦斯旗下</a> • <a href=\"/index.php?title=Gundam_Sentinel(%E9%AB%98%E8%BE%BE%E5%89%8D%E5%93%A8%E6%88%98)%EF%BD%9E%E7%88%B1%E4%B8%BD%E4%B8%9D%E7%9A%84%E5%BF%8F%E6%82%94&amp;action=edit&amp;redlink=1\" class=\"new\" title=\"Gundam Sentinel(高达前哨战)～爱丽丝的忏悔（页面不存在）\">Gundam Sentinel(高达前哨战)～爱丽丝的忏悔</a> • <a href=\"/index.php?title=%E6%9C%BA%E5%8A%A8%E6%88%98%E5%A3%AB%E9%AB%98%E8%BE%BEZZ&amp;action=edit&amp;redlink=1\" class=\"new\" title=\"机动战士高达ZZ（页面不存在）\">机动战士高达ZZ</a> • <a href=\"/%E6%9C%BA%E5%8A%A8%E6%88%98%E5%A3%AB%E9%AB%98%E8%BE%BE%EF%BD%9E%E9%80%86%E8%A2%AD%E7%9A%84%E5%A4%8F%E4%BA%9A\" title=\"机动战士高达～逆袭的夏亚\">机动战士高达～逆袭的夏亚</a> • <a href=\"/index.php?title=%E6%9C%BA%E5%8A%A8%E6%88%98%E5%A3%AB%E9%AB%98%E8%BE%BE%E7%8B%AC%E8%A7%92%E5%85%BD&amp;action=edit&amp;redlink=1\" class=\"new\" title=\"机动战士高达独角兽（页面不存在）\">机动战士高达独角兽</a> • <a href=\"/index.php?title=%E6%9C%BA%E5%8A%A8%E6%88%98%E5%A3%AB%E9%AB%98%E8%BE%BE%EF%BD%9E%E9%97%AA%E5%85%89%E7%9A%84%E5%93%88%E8%90%A8%E7%BB%B4&amp;action=edit&amp;redlink=1\" class=\"new\" title=\"机动战士高达～闪光的哈萨维（页面不存在）\">机动战士高达～闪光的哈萨维</a> • <a href=\"/index.php?title=%E6%9C%BA%E5%8A%A8%E6%88%98%E5%A3%AB%E9%AB%98%E8%BE%BEF91%EF%BD%9E%E5%8D%81%E5%AD%97%E5%85%88%E9%94%8B&amp;action=edit&amp;redlink=1\" class=\"new\" title=\"机动战士高达F91～十字先锋（页面不存在）\">机动战士高达F91～十字先锋</a> • <a href=\"/index.php?title=%E6%9C%BA%E5%8A%A8%E6%88%98%E5%A3%ABV%E9%AB%98%E8%BE%BE&amp;action=edit&amp;redlink=1\" class=\"new\" title=\"机动战士V高达（页面不存在）\">机动战士V高达</a> • <a href=\"/index.php?title=%E6%9C%BA%E5%8A%A8%E6%88%98%E5%A3%AB%E9%AB%98%E8%BE%BE%EF%BD%9EGAIA_GEAR&amp;action=edit&amp;redlink=1\" class=\"new\" title=\"机动战士高达～GAIA GEAR（页面不存在）\">机动战士高达～GAIA GEAR</a> • <a href=\"/index.php?title=%E6%9C%BA%E5%8A%A8%E6%AD%A6%E6%96%97%E4%BC%A0G%E9%AB%98%E8%BE%BE&amp;action=edit&amp;redlink=1\" class=\"new\" title=\"机动武斗传G高达（页面不存在）\">机动武斗传G高达</a> • <a href=\"/%E6%96%B0%E6%9C%BA%E5%8A%A8%E6%88%98%E8%AE%B0%E9%AB%98%E8%BE%BEW\" title=\"新机动战记高达W\">新机动战记高达W</a> • <a href=\"/index.php?title=%E6%96%B0%E6%9C%BA%E5%8A%A8%E6%88%98%E8%AE%B0%E9%AB%98%E8%BE%BEW%E5%A4%96%E4%BC%A0%EF%BD%9E%E5%B7%A6%E6%89%8B%E6%8C%81%E9%95%B0%EF%BC%8C%E5%8F%B3%E6%89%8B%E6%8B%A5%E4%BD%A0&amp;action=edit&amp;redlink=1\" class=\"new\" title=\"新机动战记高达W外传～左手持镰，右手拥你（页面不存在）\">新机动战记高达W外传～左手持镰，右手拥你</a> • <a href=\"/index.php?title=%E6%96%B0%E6%9C%BA%E5%8A%A8%E6%88%98%E8%AE%B0%E9%AB%98%E8%BE%BEW%EF%BD%9E%E6%97%A0%E5%B0%BD%E7%9A%84%E5%8D%8E%E5%B0%94%E5%85%B9&amp;action=edit&amp;redlink=1\" class=\"new\" title=\"新机动战记高达W～无尽的华尔兹（页面不存在）\">新机动战记高达W～无尽的华尔兹</a> • <a href=\"/index.php?title=TURN_A%E9%AB%98%E8%BE%BE&amp;action=edit&amp;redlink=1\" class=\"new\" title=\"TURN A高达（页面不存在）\">TURN A高达</a> • <a href=\"/index.php?title=%E6%9C%BA%E5%8A%A8%E6%88%98%E5%A3%AB%E9%AB%98%E8%BE%BE_SEED&amp;action=edit&amp;redlink=1\" class=\"new\" title=\"机动战士高达 SEED（页面不存在）\">机动战士高达 SEED</a> • <a href=\"/index.php?title=%E6%9C%BA%E5%8A%A8%E6%88%98%E5%A3%AB%E9%AB%98%E8%BE%BE_SEED_ASTRAY&amp;action=edit&amp;redlink=1\" class=\"new\" title=\"机动战士高达 SEED ASTRAY（页面不存在）\">机动战士高达 SEED ASTRAY</a> • <a href=\"/index.php?title=%E6%9C%BA%E5%8A%A8%E6%88%98%E5%A3%AB%E9%AB%98%E8%BE%BE_SEED_XASTRAY&amp;action=edit&amp;redlink=1\" class=\"new\" title=\"机动战士高达 SEED XASTRAY（页面不存在）\">机动战士高达 SEED XASTRAY</a> • <a href=\"/index.php?title=%E6%9C%BA%E5%8A%A8%E6%88%98%E5%A3%AB%E9%AB%98%E8%BE%BE_SEED_DESTINY&amp;action=edit&amp;redlink=1\" class=\"new\" title=\"机动战士高达 SEED DESTINY（页面不存在）\">机动战士高达 SEED DESTINY</a> • <a href=\"/index.php?title=%E6%9C%BA%E5%8A%A8%E6%88%98%E5%A3%AB%E9%AB%98%E8%BE%BE_SEED_DESTINY_ASTRAY&amp;action=edit&amp;redlink=1\" class=\"new\" title=\"机动战士高达 SEED DESTINY ASTRAY（页面不存在）\">机动战士高达 SEED DESTINY ASTRAY</a> • <a href=\"/index.php?title=%E6%9C%BA%E5%8A%A8%E6%88%98%E5%A3%AB%E9%AB%98%E8%BE%BE_SEED_VS_ASTRAY&amp;action=edit&amp;redlink=1\" class=\"new\" title=\"机动战士高达 SEED VS ASTRAY（页面不存在）\">机动战士高达 SEED VS ASTRAY</a> • <a href=\"/index.php?title=%E6%9C%BA%E5%8A%A8%E6%88%98%E5%A3%AB%E9%AB%98%E8%BE%BE00P&amp;action=edit&amp;redlink=1\" class=\"new\" title=\"机动战士高达00P（页面不存在）\">机动战士高达00P</a> • <a href=\"/index.php?title=%E6%9C%BA%E5%8A%A8%E6%88%98%E5%A3%AB%E9%AB%98%E8%BE%BE00P_%E7%AC%AC%E4%BA%8C%E5%AD%A3&amp;action=edit&amp;redlink=1\" class=\"new\" title=\"机动战士高达00P 第二季（页面不存在）\">机动战士高达00P 第二季</a> • <a href=\"/index.php?title=%E6%9C%BA%E5%8A%A8%E6%88%98%E5%A3%AB%E9%AB%98%E8%BE%BEOOV&amp;action=edit&amp;redlink=1\" class=\"new\" title=\"机动战士高达OOV（页面不存在）\">机动战士高达OOV</a> • <a href=\"/index.php?title=%E6%9C%BA%E5%8A%A8%E6%88%98%E5%A3%AB%E9%AB%98%E8%BE%BEOOV%E6%88%98%E8%AE%B0&amp;action=edit&amp;redlink=1\" class=\"new\" title=\"机动战士高达OOV战记（页面不存在）\">机动战士高达OOV战记</a> • <a href=\"/index.php?title=%E6%9C%BA%E5%8A%A8%E6%88%98%E5%A3%AB%E9%AB%98%E8%BE%BEOON&amp;action=edit&amp;redlink=1\" class=\"new\" title=\"机动战士高达OON（页面不存在）\">机动战士高达OON</a></div></td></tr><tr style=\"height:2px\"><td></td></tr><tr><td class=\"navbox-group\" style=\";width:3em;\">漫画版</td><td style=\"text-align:left;border-left:2px solid #fdfdfd;width:100%;padding:0px;width: auto;;;\" class=\"navbox-list navbox-odd\"><div style=\"padding:0em 0.25em\"><a href=\"/%E6%9C%BA%E5%8A%A8%E6%88%98%E5%A3%AB%E9%AB%98%E8%BE%BE\" class=\"mw-redirect\" title=\"机动战士高达\">机动战士高达</a> • <a href=\"/index.php?title=%E6%9C%BA%E5%8A%A8%E6%88%98%E5%A3%AB%E9%AB%98%E8%BE%BETHE_ORIGINAL&amp;action=edit&amp;redlink=1\" class=\"new\" title=\"机动战士高达THE ORIGINAL（页面不存在）\">机动战士高达THE ORIGINAL</a> • <a href=\"/index.php?title=MS%E6%88%98%E8%AE%B0&amp;action=edit&amp;redlink=1\" class=\"new\" title=\"MS战记（页面不存在）\">MS战记</a> • <a href=\"/index.php?title=MS%E6%88%98%E8%AE%B0%E5%A4%96%E4%BC%A0%EF%BD%9EBorn_to_be_wild_again&amp;action=edit&amp;redlink=1\" class=\"new\" title=\"MS战记外传～Born to be wild again（页面不存在）\">MS战记外传～Born to be wild again</a> • <a href=\"/index.php?title=MS%E6%9C%80%E5%89%8D%E7%BA%BF&amp;action=edit&amp;redlink=1\" class=\"new\" title=\"MS最前线（页面不存在）\">MS最前线</a> • <a href=\"/index.php?title=%E6%9C%BA%E5%8A%A8%E6%88%98%E5%A3%AB%E9%AB%98%E8%BE%BE%E6%88%98%E8%AE%B0_Lost_War_Chronicles&amp;action=edit&amp;redlink=1\" class=\"new\" title=\"机动战士高达战记 Lost War Chronicles（页面不存在）\">机动战士高达战记 Lost War Chronicles</a> • <a href=\"/index.php?title=%E6%9C%BA%E5%8A%A8%E6%88%98%E5%A3%ABCyberComic&amp;action=edit&amp;redlink=1\" class=\"new\" title=\"机动战士CyberComic（页面不存在）\">机动战士CyberComic</a> • <a href=\"/index.php?title=%E6%9C%BA%E5%8A%A8%E6%88%98%E5%A3%AB%E9%AB%98%E8%BE%BE%E5%A4%96%E4%BC%A0%EF%BD%9E%E6%B7%B1%E8%93%9D%E6%88%98%E6%A0%97&amp;action=edit&amp;redlink=1\" class=\"new\" title=\"机动战士高达外传～深蓝战栗（页面不存在）\">机动战士高达外传～深蓝战栗</a> • <a href=\"/index.php?title=%E6%9C%BA%E5%8A%A8%E6%88%98%E5%A3%AB%E9%AB%98%E8%BE%BE%E5%A4%96%E4%BC%A0%EF%BD%9E%E5%AE%87%E5%AE%99%C2%B7%E9%97%AA%E5%85%89%E4%B9%8B%E5%B0%BD%E5%A4%B4&amp;action=edit&amp;redlink=1\" class=\"new\" title=\"机动战士高达外传～宇宙·闪光之尽头（页面不存在）\">机动战士高达外传～宇宙·闪光之尽头</a> • <a href=\"/index.php?title=GUNDAM_MSV%C2%B7ACE_PILOT%E5%88%97%E4%BC%A0&amp;action=edit&amp;redlink=1\" class=\"new\" title=\"GUNDAM MSV·ACE PILOT列传（页面不存在）\">GUNDAM MSV·ACE PILOT列传</a> • <a href=\"/index.php?title=GUNDAM_MSV%C2%B7%E6%96%B0ACE_PILOT%E5%88%97%E4%BC%A0&amp;action=edit&amp;redlink=1\" class=\"new\" title=\"GUNDAM MSV·新ACE PILOT列传（页面不存在）\">GUNDAM MSV·新ACE PILOT列传</a> • <a href=\"/index.php?title=GUNDAM_MSV%C2%B7%E4%B9%94%E5%B0%BC%C2%B7%E8%8E%B1%E6%B1%80%E7%9A%84%E5%BD%92%E8%BF%98&amp;action=edit&amp;redlink=1\" class=\"new\" title=\"GUNDAM MSV·乔尼·莱汀的归还（页面不存在）\">GUNDAM MSV·乔尼·莱汀的归还</a> • <a href=\"/index.php?title=%E5%B9%B4%E8%BD%BB%E5%BD%97%E6%98%9F%E7%9A%84%E8%82%96%E5%83%8F&amp;action=edit&amp;redlink=1\" class=\"new\" title=\"年轻彗星的肖像（页面不存在）\">年轻彗星的肖像</a> • <a href=\"/%E6%9C%BA%E5%8A%A8%E6%88%98%E5%A3%AB%E9%AB%98%E8%BE%BE0083%EF%BD%9E%E6%98%9F%E5%B0%98%E7%9A%84%E5%9B%9E%E5%BF%86\" title=\"机动战士高达0083～星尘的回忆\">机动战士高达0083～星尘的回忆</a> • <a href=\"/index.php?title=%E6%9C%BA%E5%8A%A8%E6%88%98%E5%A3%AB%E9%AB%98%E8%BE%BE%C2%B7%E5%A4%A9%E7%A9%BA%E4%B9%8B%E5%AD%A6%E6%A0%A1&amp;action=edit&amp;redlink=1\" class=\"new\" title=\"机动战士高达·天空之学校（页面不存在）\">机动战士高达·天空之学校</a> • <a href=\"/%E6%9C%BA%E5%8A%A8%E6%88%98%E5%A3%ABZ%E9%AB%98%E8%BE%BE\" title=\"机动战士Z高达\">机动战士Z高达</a> • <a href=\"/index.php?title=%E6%9C%BA%E5%8A%A8%E6%88%98%E5%A3%AB%E9%AB%98%E8%BE%BEZZ&amp;action=edit&amp;redlink=1\" class=\"new\" title=\"机动战士高达ZZ（页面不存在）\">机动战士高达ZZ</a> • <a href=\"/index.php?title=%E6%9C%BA%E5%8A%A8%E6%88%98%E5%A3%AB%E9%AB%98%E8%BE%BE%EF%BD%9E%E9%80%86%E8%A2%AD%E7%9A%84%E5%B7%A8%E7%A5%9E&amp;action=edit&amp;redlink=1\" class=\"new\" title=\"机动战士高达～逆袭的巨神（页面不存在）\">机动战士高达～逆袭的巨神</a> • <a href=\"/index.php?title=%E6%9C%BA%E5%8A%A8%E6%88%98%E5%A3%AB%E9%AB%98%E8%BE%BE%EF%BD%9EDOUBLE_FAKE&amp;action=edit&amp;redlink=1\" class=\"new\" title=\"机动战士高达～DOUBLE FAKE（页面不存在）\">机动战士高达～DOUBLE FAKE</a> • <a href=\"/index.php?title=%E6%96%B0%C2%B7MS%E6%88%98%E8%AE%B0&amp;action=edit&amp;redlink=1\" class=\"new\" title=\"新·MS战记（页面不存在）\">新·MS战记</a> • <a href=\"/%E6%9C%BA%E5%8A%A8%E6%88%98%E5%A3%AB%E9%AB%98%E8%BE%BE%EF%BD%9E%E9%80%86%E8%A2%AD%E7%9A%84%E5%A4%8F%E4%BA%9A\" title=\"机动战士高达～逆袭的夏亚\">机动战士高达～逆袭的夏亚</a> • <a href=\"/index.php?title=%E6%9C%BA%E5%8A%A8%E6%88%98%E5%A3%AB%E9%AB%98%E8%BE%BE%EF%BD%9E%E6%9C%88%E9%9D%A2%E5%8D%B1%E6%9C%BA&amp;action=edit&amp;redlink=1\" class=\"new\" title=\"机动战士高达～月面危机（页面不存在）\">机动战士高达～月面危机</a> • <a href=\"/index.php?title=%E6%9C%BA%E5%8A%A8%E6%88%98%E5%A3%AB%E9%AB%98%E8%BE%BEF90&amp;action=edit&amp;redlink=1\" class=\"new\" title=\"机动战士高达F90（页面不存在）\">机动战士高达F90</a> • <a href=\"/index.php?title=%E6%9C%BA%E5%8A%A8%E6%88%98%E5%A3%AB%E9%AB%98%E8%BE%BE%E5%BD%B1%E5%AD%90%E6%96%B9%E7%A8%8B%E5%BC%8F&amp;action=edit&amp;redlink=1\" class=\"new\" title=\"机动战士高达影子方程式（页面不存在）\">机动战士高达影子方程式</a> • <a href=\"/index.php?title=%E6%9C%BA%E5%8A%A8%E6%88%98%E5%A3%AB%E9%AB%98%E8%BE%BEF91&amp;action=edit&amp;redlink=1\" class=\"new\" title=\"机动战士高达F91（页面不存在）\">机动战士高达F91</a> • <a href=\"/index.php?title=%E5%8D%81%E5%AD%97%E9%AA%B7%E9%AB%85X%E9%AB%98%E8%BE%BE&amp;action=edit&amp;redlink=1\" class=\"new\" title=\"十字骷髅X高达（页面不存在）\">十字骷髅X高达</a> • <a href=\"/index.php?title=%E9%92%A2%E9%93%81%E7%9A%847%E4%BA%BA&amp;action=edit&amp;redlink=1\" class=\"new\" title=\"钢铁的7人（页面不存在）\">钢铁的7人</a> • <a href=\"/index.php?title=%E6%9C%BA%E5%8A%A8%E6%88%98%E5%A3%ABV%E9%AB%98%E8%BE%BE&amp;action=edit&amp;redlink=1\" class=\"new\" title=\"机动战士V高达（页面不存在）\">机动战士V高达</a> • <a href=\"/index.php?title=%E6%9C%BA%E5%8A%A8%E6%88%98%E5%A3%ABV%E9%AB%98%E8%BE%BE%E5%A4%96%E4%BC%A0%EF%BD%9E%E8%84%B1%E5%87%BA%E8%AE%A1%E5%88%92%E7%AF%87&amp;action=edit&amp;redlink=1\" class=\"new\" title=\"机动战士V高达外传～脱出计划篇（页面不存在）\">机动战士V高达外传～脱出计划篇</a> • <a href=\"/index.php?title=%E6%9C%BA%E5%8A%A8%E6%AD%A6%E6%96%97%E4%BC%A0G%E9%AB%98%E8%BE%BE&amp;action=edit&amp;redlink=1\" class=\"new\" title=\"机动武斗传G高达（页面不存在）\">机动武斗传G高达</a> • <a href=\"/index.php?title=%E6%9C%BA%E5%8A%A8%E6%AD%A6%E6%96%97%E5%A4%96%E4%BC%A0%E9%AB%98%E8%BE%BE%E6%93%82%E5%8F%B07th&amp;action=edit&amp;redlink=1\" class=\"new\" title=\"机动武斗外传高达擂台7th（页面不存在）\">机动武斗外传高达擂台7th</a> • <a href=\"/index.php?title=%E6%96%B0%E6%9C%BA%E5%8A%A8%E6%88%98%E8%AE%B0%E9%AB%98%E8%BE%BEW%EF%BD%9EEpisode_Zero&amp;action=edit&amp;redlink=1\" class=\"new\" title=\"新机动战记高达W～Episode Zero（页面不存在）\">新机动战记高达W～Episode Zero</a> • <a href=\"/index.php?title=%E6%96%B0%E6%9C%BA%E5%8A%A8%E6%88%98%E8%AE%B0%E9%AB%98%E8%BE%BEW%E5%A4%96%E4%BC%A0%EF%BD%9EBATTLEFIELD_OF_PACIFIST&amp;action=edit&amp;redlink=1\" class=\"new\" title=\"新机动战记高达W外传～BATTLEFIELD OF PACIFIST（页面不存在）\">新机动战记高达W外传～BATTLEFIELD OF PACIFIST</a> • <a href=\"/index.php?title=%E6%96%B0%E6%9C%BA%E5%8A%A8%E6%88%98%E8%AE%B0%E9%AB%98%E8%BE%BEW_Dual_Story%EF%BD%9EG-UNIT&amp;action=edit&amp;redlink=1\" class=\"new\" title=\"新机动战记高达W Dual Story～G-UNIT（页面不存在）\">新机动战记高达W Dual Story～G-UNIT</a> • <a href=\"/index.php?title=%E6%96%B0%E6%9C%BA%E5%8A%A8%E6%88%98%E8%AE%B0%E9%AB%98%E8%BE%BEW%E5%A4%96%E4%BC%A0&amp;action=edit&amp;redlink=1\" class=\"new\" title=\"新机动战记高达W外传（页面不存在）\">新机动战记高达W外传</a> • <a href=\"/index.php?title=%E6%96%B0%E6%9C%BA%E5%8A%A8%E6%88%98%E8%AE%B0%E9%AB%98%E8%BE%BEW%EF%BD%9EBlind_Target&amp;action=edit&amp;redlink=1\" class=\"new\" title=\"新机动战记高达W～Blind Target（页面不存在）\">新机动战记高达W～Blind Target</a> • <a href=\"/index.php?title=%E6%96%B0%E6%9C%BA%E5%8A%A8%E6%88%98%E8%AE%B0%E9%AB%98%E8%BE%BEW%EF%BD%9E%E6%97%A0%E5%B0%BD%E7%9A%84%E5%8D%8E%E5%B0%94%E5%85%B9&amp;action=edit&amp;redlink=1\" class=\"new\" title=\"新机动战记高达W～无尽的华尔兹（页面不存在）\">新机动战记高达W～无尽的华尔兹</a> • <a href=\"/index.php?title=%E6%96%B0%E6%9C%BA%E5%8A%A8%E6%88%98%E8%AE%B0%E9%AB%98%E8%BE%BEW%EF%BD%9EEndless_Waltz&amp;action=edit&amp;redlink=1\" class=\"new\" title=\"新机动战记高达W～Endless Waltz（页面不存在）\">新机动战记高达W～Endless Waltz</a> • <a href=\"/index.php?title=TURN_A%E9%AB%98%E8%BE%BE&amp;action=edit&amp;redlink=1\" class=\"new\" title=\"TURN A高达（页面不存在）\">TURN A高达</a> • <a href=\"/index.php?title=TURN_A%E9%AB%98%E8%BE%BE%C2%B7%E8%A7%92%E5%B7%9D%E7%89%88&amp;action=edit&amp;redlink=1\" class=\"new\" title=\"TURN A高达·角川版（页面不存在）\">TURN A高达·角川版</a> • <a href=\"/index.php?title=%E6%9C%BA%E5%8A%A8%E6%88%98%E5%A3%AB%E9%AB%98%E8%BE%BE_SEED&amp;action=edit&amp;redlink=1\" class=\"new\" title=\"机动战士高达 SEED（页面不存在）\">机动战士高达 SEED</a> • <a href=\"/index.php?title=%E6%9C%BA%E5%8A%A8%E6%88%98%E5%A3%AB%E9%AB%98%E8%BE%BE_SEED_ASTRAY&amp;action=edit&amp;redlink=1\" class=\"new\" title=\"机动战士高达 SEED ASTRAY（页面不存在）\">机动战士高达 SEED ASTRAY</a> • <a href=\"/index.php?title=%E6%9C%BA%E5%8A%A8%E6%88%98%E5%A3%AB%E9%AB%98%E8%BE%BE_SEED_X_ASTRAY&amp;action=edit&amp;redlink=1\" class=\"new\" title=\"机动战士高达 SEED X ASTRAY（页面不存在）\">机动战士高达 SEED X ASTRAY</a> • <a href=\"/index.php?title=%E6%9C%BA%E5%8A%A8%E6%88%98%E5%A3%AB%E9%AB%98%E8%BE%BE_SEED_DESTINY&amp;action=edit&amp;redlink=1\" class=\"new\" title=\"机动战士高达 SEED DESTINY（页面不存在）\">机动战士高达 SEED DESTINY</a> • <a href=\"/index.php?title=%E6%9C%BA%E5%8A%A8%E6%88%98%E5%A3%AB%E9%AB%98%E8%BE%BE_SEED_DESTINY_ASTRAY&amp;action=edit&amp;redlink=1\" class=\"new\" title=\"机动战士高达 SEED DESTINY ASTRAY（页面不存在）\">机动战士高达 SEED DESTINY ASTRAY</a> • <a href=\"/index.php?title=%E6%9C%BA%E5%8A%A8%E6%88%98%E5%A3%AB%E9%AB%98%E8%BE%BE_SEED_C.E.73_DELTA_ASTRAY&amp;action=edit&amp;redlink=1\" class=\"new\" title=\"机动战士高达 SEED C.E.73 DELTA ASTRAY（页面不存在）\">机动战士高达 SEED C.E.73 DELTA ASTRAY</a> • <a href=\"/index.php?title=%E6%9C%BA%E5%8A%A8%E6%88%98%E5%A3%AB%E9%AB%98%E8%BE%BE_SEED_FRAME_ASTRAYS&amp;action=edit&amp;redlink=1\" class=\"new\" title=\"机动战士高达 SEED FRAME ASTRAYS（页面不存在）\">机动战士高达 SEED FRAME ASTRAYS</a> • <a href=\"/index.php?title=%E6%9C%BA%E5%8A%A8%E6%88%98%E5%A3%AB%E9%AB%98%E8%BE%BE00F&amp;action=edit&amp;redlink=1\" class=\"new\" title=\"机动战士高达00F（页面不存在）\">机动战士高达00F</a> • <a href=\"/index.php?title=%E6%9C%BA%E5%8A%A8%E6%88%98%E5%A3%AB%E9%AB%98%E8%BE%BEOOI&amp;action=edit&amp;redlink=1\" class=\"new\" title=\"机动战士高达OOI（页面不存在）\">机动战士高达OOI</a> • <a href=\"/index.php?title=%E6%9C%BA%E5%8A%A8%E6%88%98%E5%A3%AB%E4%BC%A0%E8%AF%B4&amp;action=edit&amp;redlink=1\" class=\"new\" title=\"机动战士传说（页面不存在）\">机动战士传说</a> • <a href=\"/index.php?title=%E6%9C%BA%E5%8A%A8%E6%88%98%E5%A3%AB%E9%AB%98%E8%BE%BE%E7%9F%AD%E7%AF%87%E9%9B%86&amp;action=edit&amp;redlink=1\" class=\"new\" title=\"机动战士高达短篇集（页面不存在）\">机动战士高达短篇集</a> • <a href=\"/index.php?title=%E6%9C%BA%E5%8A%A8%E6%88%98%E5%A3%AB%E9%AB%98%E8%BE%BE%E7%8B%AC%E8%A7%92%E5%85%BD&amp;action=edit&amp;redlink=1\" class=\"new\" title=\"机动战士高达独角兽（页面不存在）\">机动战士高达独角兽</a></div></td></tr></table><div></div></td></tr><tr style=\"height:2px\"><td></td></tr><tr><td colspan=\"2\" style=\"width:100%;padding:0px;;;\" class=\"navbox-list navbox-even\"><div style=\"padding:0em 0.25em\"></div><table cellspacing=\"0\" class=\"nowraplinks mw-collapsible mw-collapsible mw-uncollapsed navbox-subgroup\" style=\"display:table;width:100%;;;;\"><tr><th style=\";\" colspan=\"2\" class=\"navbox-title\"><div style=\"float:left; width:6em;text-align:left;\">&#160;</div><span style=\"font-size:100%;\">出场机体(<a href=\"/MS%E5%B0%91%E5%A5%B3\" title=\"MS少女\">娘化</a>)</span></th></tr><tr style=\"height:2px;\"><td></td></tr><tr><td class=\"navbox-group\" style=\";width:3em;\">机动战士高达</td><td style=\"text-align:left;border-left:2px solid #fdfdfd;width:100%;padding:0px;width: auto;;;\" class=\"navbox-list navbox-odd\"><div style=\"padding:0em 0.25em\"><a href=\"/%E5%85%83%E7%A5%96%E9%AB%98%E8%BE%BE%E5%A7%AC\" title=\"元祖高达姬\">元祖高达姬</a> • <a href=\"/%E9%92%A2%E5%8A%A0%E5%86%9C%E5%A7%AC\" title=\"钢加农姬\">钢加农姬</a> • <a href=\"/%E9%92%A2%E5%9D%A6%E5%85%8B%E5%A7%AC\" title=\"钢坦克姬\">钢坦克姬</a> • <a href=\"/%E9%93%81%E7%90%83%E5%A7%AC\" title=\"铁球姬\">铁球姬</a> • <a href=\"/%E5%90%89%E5%A7%86%E5%A8%98\" title=\"吉姆娘\">吉姆娘</a>• <a class=\"mw-selflink selflink\">扎古一世</a> • <a href=\"/%E6%89%8E%E5%8F%A4%E4%BA%8C%E4%B8%96\" title=\"扎古二世\">扎古二世</a> • <a href=\"/%E6%89%8E%E5%8F%A4F%E5%A7%AC\" title=\"扎古F姬\">扎古F姬</a> • <a href=\"/%E8%80%81%E8%99%8E%E5%AD%90\" title=\"老虎子\">老虎子</a> • <a href=\"/%E5%A4%A7%E9%AD%94%E5%A5%B3\" title=\"大魔女\">大魔女</a> • <a href=\"/%E8%8E%89%E5%85%8B%C2%B7%E5%A4%A7%E9%AD%94%E5%A5%B3\" title=\"莉克·大魔女\">莉克·大魔女</a> • <a href=\"/%E5%BC%BA%E4%BA%BA%E5%A7%AC\" title=\"强人姬\">强人姬</a> • <a href=\"/%E5%8B%87%E5%A3%AB%E5%A7%AC\" title=\"勇士姬\">勇士姬</a> • <a href=\"/%E6%88%98%E8%9F%B9%E5%AD%90\" title=\"战蟹子\">战蟹子</a> • <a href=\"/%E5%8F%8C%E9%9D%A2%E8%9F%B9%E5%AD%90\" title=\"双面蟹子\">双面蟹子</a> • <a href=\"/%E9%BE%9F%E9%9C%B8%E5%AD%90\" title=\"龟霸子\">龟霸子</a> • <a href=\"/%E9%AD%94%E8%9F%B9%E5%AD%90\" title=\"魔蟹子\">魔蟹子</a> • <a href=\"/%E6%A0%BC%E6%8B%89%E5%B8%83%E8%90%9D\" title=\"格拉布萝\">格拉布萝</a> • <a href=\"/%E9%98%BF%E6%89%8E%E5%A7%86\" title=\"阿扎姆\">阿扎姆</a> • <a href=\"/%E6%89%8E%E5%8F%A4%E8%8E%B1%E8%90%9D\" title=\"扎古莱萝\">扎古莱萝</a> • <a href=\"/%E6%AF%94%E6%A0%BC%E8%90%9D\" title=\"比格萝\">比格萝</a> • <a href=\"/%E5%A4%A7%E6%89%8E%E5%A7%86\" title=\"大扎姆\">大扎姆</a> • <a href=\"/index.php?title=%E5%B8%83%E5%8A%B3%C2%B7%E5%B8%83%E8%90%9D&amp;action=edit&amp;redlink=1\" class=\"new\" title=\"布劳·布萝（页面不存在）\">布劳·布萝</a> • <a href=\"/%E8%89%BE%E7%BE%8E\" title=\"艾美\">艾美</a> • <a href=\"/%E5%90%89%E7%BF%81%E5%B0%91%E5%A5%B3\" title=\"吉翁少女\">吉翁少女</a>• <a href=\"/%E5%A4%8F%E4%BA%9A%E4%B8%93%E7%94%A8%E6%89%8E%E5%8F%A4%E5%A7%AC\" title=\"夏亚专用扎古姬\">夏亚专用扎古姬</a>• <a href=\"/%E5%A4%8F%E4%BA%9A%E4%B8%93%E7%94%A8%E9%AD%94%E8%9F%B9%E5%AD%90\" title=\"夏亚专用魔蟹子\">夏亚专用魔蟹子</a>• <a href=\"/%E5%A4%8F%E4%BA%9A%E4%B8%93%E7%94%A8%E5%8B%87%E5%A3%AB%E5%A7%AC\" title=\"夏亚专用勇士姬\">夏亚专用勇士姬</a></div></td></tr><tr style=\"height:2px\"><td></td></tr><tr><td class=\"navbox-group\" style=\";width:3em;\">机动战士高达<br />～第08MS小队</td><td style=\"text-align:left;border-left:2px solid #fdfdfd;width:100%;padding:0px;width: auto;;;\" class=\"navbox-list navbox-even\"><div style=\"padding:0em 0.25em\"><a href=\"/%E9%99%86%E6%88%98%E5%9E%8B%E9%AB%98%E8%BE%BE%E5%A7%AC\" title=\"陆战型高达姬\">陆战型高达姬</a> • <a href=\"/Ez-8%E5%A8%98\" title=\"Ez-8娘\">Ez-8娘</a> • <a href=\"/%E9%99%86%E6%88%98%E5%9E%8B%E5%90%89%E5%A7%86%E5%A8%98\" title=\"陆战型吉姆娘\">陆战型吉姆娘</a> • <a href=\"/%E7%8B%99%E5%87%BB%E5%9E%8B%E5%90%89%E5%A7%86%E5%A8%98\" title=\"狙击型吉姆娘\">狙击型吉姆娘</a>• <a href=\"/%E9%87%8F%E4%BA%A7%E5%9E%8B%E9%92%A2%E5%9D%A6%E5%85%8B%E5%A7%AC\" title=\"量产型钢坦克姬\">量产型钢坦克姬</a> • <a href=\"/%E5%85%88%E8%A1%8C%E9%87%8F%E4%BA%A7%E5%9E%8B%E9%93%81%E7%90%83%E5%A7%AC\" title=\"先行量产型铁球姬\">先行量产型铁球姬</a> • <a href=\"/%E5%A4%9A%E6%99%AE%E6%88%98%E6%96%97%E5%A7%AC\" title=\"多普战斗姬\">多普战斗姬</a> • <a href=\"/%E9%99%86%E6%88%98%E5%9E%8B%E6%89%8E%E5%8F%A4%E5%A7%AC\" title=\"陆战型扎古姬\">陆战型扎古姬</a> • <a href=\"/%E5%AE%87%E5%AE%99%E7%94%A8%E9%AB%98%E6%9C%BA%E5%8A%A8%E8%AF%95%E9%AA%8C%E5%9E%8B%E6%89%8E%E5%8F%A4%E5%A7%AC\" title=\"宇宙用高机动试验型扎古姬\">宇宙用高机动试验型扎古姬</a> • <a href=\"/%E9%A3%9E%E8%99%8E%E5%A7%AC\" title=\"飞虎姬\">飞虎姬</a> • <a href=\"/%E7%89%B9%E8%A3%85%E5%9E%8B%E8%80%81%E8%99%8E%E5%AD%90\" title=\"特装型老虎子\">特装型老虎子</a> • <a href=\"/index.php?title=%E9%98%BF%E6%99%AE%E8%90%A8%E6%8B%89%E6%96%AF%E4%BA%8C%E4%B8%96&amp;action=edit&amp;redlink=1\" class=\"new\" title=\"阿普萨拉斯二世（页面不存在）\">阿普萨拉斯二世</a></div></td></tr><tr style=\"height:2px\"><td></td></tr><tr><td class=\"navbox-group\" style=\";width:3em;\">机动战士高达<br />MS IGLOO</td><td style=\"text-align:left;border-left:2px solid #fdfdfd;width:100%;padding:0px;width: auto;;;\" class=\"navbox-list navbox-odd\"><div style=\"padding:0em 0.25em\"><a href=\"/%E5%85%B9%E5%A6%B2\" title=\"兹妲\">兹妲</a> • <a href=\"/%E6%96%97%E7%8B%BC%E5%AD%90\" title=\"斗狼子\">斗狼子</a> • <a href=\"/%E6%AF%94%E6%A0%BC%E5%85%B0%E6%A0%BC\" title=\"比格兰格\">比格兰格</a> • <a href=\"/%E9%A3%9F%E4%BA%BA%E9%AD%94%E5%A7%AC\" title=\"食人魔姬\">食人魔姬</a> • <a href=\"/%E9%99%86%E6%88%98%E5%BC%BA%E8%A2%AD%E5%9E%8B%E9%92%A2%E5%9D%A6%E5%85%8B%E5%A7%AC\" title=\"陆战强袭型钢坦克姬\">陆战强袭型钢坦克姬</a></div></td></tr><tr style=\"height:2px\"><td></td></tr><tr><td class=\"navbox-group\" style=\";width:3em;\">机动战士高达<br />0080～口袋中的战争</td><td style=\"text-align:left;border-left:2px solid #fdfdfd;width:100%;padding:0px;width: auto;;;\" class=\"navbox-list navbox-even\"><div style=\"padding:0em 0.25em\"><a href=\"/%E7%88%B1%E4%B8%BD%E5%85%8B%E4%B8%9D\" title=\"爱丽克丝\">爱丽克丝</a> • <a href=\"/%E6%8C%87%E6%8C%A5%E5%9E%8B%E5%90%89%E5%A7%86%E5%A8%98\" title=\"指挥型吉姆娘\">指挥型吉姆娘</a> • <a href=\"/%E5%AF%92%E5%B8%A6%E5%9E%8B%E5%90%89%E5%A7%86%E5%A8%98\" title=\"寒带型吉姆娘\">寒带型吉姆娘</a> • <a href=\"/%E7%8B%99%E5%87%BB%E5%9E%8B%E5%90%89%E5%A7%86%E4%BA%8C%E4%B8%96\" title=\"狙击型吉姆二世\">狙击型吉姆二世</a> • <a href=\"/%E9%87%8F%E4%BA%A7%E5%9E%8B%E9%92%A2%E5%8A%A0%E5%86%9C%E5%A7%AC\" title=\"量产型钢加农姬\">量产型钢加农姬</a>• <a href=\"/%E9%AD%94%E8%9F%B9%E5%AD%90E\" title=\"魔蟹子E\">魔蟹子E</a> • <a href=\"/%E9%AB%98%E6%88%98%E8%9F%B9%E5%AD%90\" title=\"高战蟹子\">高战蟹子</a> • <a href=\"/%E6%89%8E%E5%8F%A4%E4%BA%8C%E4%B8%96%E6%94%B9\" title=\"扎古二世改\">扎古二世改</a> • <a href=\"/%E8%8E%89%E5%85%8B%C2%B7%E5%A4%A7%E9%AD%94%E5%A5%B3%E4%BA%8C%E4%B8%96\" title=\"莉克·大魔女二世\">莉克·大魔女二世</a> • <a href=\"/%E5%8B%87%E5%A3%ABJ%E5%A7%AC\" title=\"勇士J姬\">勇士J姬</a> • <a href=\"/%E4%BA%AC%E5%AE%9D%E6%A2%B5%E5%A7%AC\" title=\"京宝梵姬\">京宝梵姬</a></div></td></tr><tr style=\"height:2px\"><td></td></tr><tr><td class=\"navbox-group\" style=\";width:3em;\">机动战士高达<br />0083 星尘的回忆</td><td style=\"text-align:left;border-left:2px solid #fdfdfd;width:100%;padding:0px;width: auto;;;\" class=\"navbox-list navbox-odd\"><div style=\"padding:0em 0.25em\"><a href=\"/%E7%8E%89%E5%85%B0%E5%AD%90\" title=\"玉兰子\">玉兰子</a> • <a href=\"/%E7%8E%89%E5%85%B0%E5%AD%90Fb\" title=\"玉兰子Fb\">玉兰子Fb</a> • <a href=\"/%E9%85%B8%E6%B5%86%E6%9E%9C%E5%A7%AC\" title=\"酸浆果姬\">酸浆果姬</a> • <a href=\"/%E5%A4%A7%E4%B8%81%E8%8D%89%E5%AD%90\" title=\"大丁草子\">大丁草子</a> • <a href=\"/%E9%9B%84%E8%95%8A%E5%AD%90\" title=\"雄蕊子\">雄蕊子</a> • <a href=\"/%E7%9F%B3%E6%96%9B%E5%85%B0%E5%A7%AC\" title=\"石斛兰姬\">石斛兰姬</a> • <a href=\"/%E5%90%89%E5%A7%86%E5%A8%98%E6%94%B9\" title=\"吉姆娘改\">吉姆娘改</a>• <a href=\"/%E9%AB%98%E5%90%89%E5%A7%86%E5%A8%98\" title=\"高吉姆娘\">高吉姆娘</a>• <a href=\"/%E7%89%B9%E8%A3%85%E5%9E%8B%E5%90%89%E5%A7%86%E5%A8%98\" title=\"特装型吉姆娘\">特装型吉姆娘</a>• <a href=\"/%E5%90%89%E5%A7%86%E5%8A%A0%E5%86%9C%E4%BA%8C%E4%B8%96\" title=\"吉姆加农二世\">吉姆加农二世</a> • <a href=\"/%E9%95%87%E6%9A%B4%E5%9E%8B%E5%90%89%E5%A7%86%E5%A8%98\" title=\"镇暴型吉姆娘\">镇暴型吉姆娘</a> • <a href=\"/%E5%90%8E%E6%9C%9F%E5%9E%8B%E6%89%8E%E5%8F%A4%E4%BA%8C%E4%B8%96\" title=\"后期型扎古二世\">后期型扎古二世</a> • <a href=\"/%E5%BE%B7%E6%8B%89%E5%A9%95\" title=\"德拉婕\">德拉婕</a> • <a href=\"/%E7%83%AD%E5%B8%A6%E5%9E%8B%E5%A4%A7%E9%AD%94%E5%A5%B3\" title=\"热带型大魔女\">热带型大魔女</a> • <a href=\"/index.php?title=%E6%89%8E%E7%BE%8E%E5%B0%94&amp;action=edit&amp;redlink=1\" class=\"new\" title=\"扎美尔（页面不存在）\">扎美尔</a> • <a href=\"/%E5%8B%87%E5%A3%ABM%E5%A7%AC\" title=\"勇士M姬\">勇士M姬</a> • <a href=\"/%E6%8C%87%E6%8C%A5%E5%9E%8B%E5%8B%87%E5%A3%ABM%E5%A7%AC\" title=\"指挥型勇士M姬\">指挥型勇士M姬</a> • <a href=\"/%E8%A7%92%E9%A9%AC%E5%AD%90\" title=\"角马子\">角马子</a> • <a href=\"/%E8%A7%92%E9%A9%AC%E5%AD%90%E6%94%B9\" title=\"角马子改\">角马子改</a> • <a href=\"/%E7%93%A6%E5%B0%94%C2%B7%E7%93%A6%E8%90%9D\" title=\"瓦尔·瓦萝\">瓦尔·瓦萝</a> • <a href=\"/%E8%B7%AF%E7%BB%B4%C2%B7%E5%A9%95%E9%9C%B2\" title=\"路维·婕露\">路维·婕露</a></div></td></tr><tr style=\"height:2px\"><td></td></tr><tr><td class=\"navbox-group\" style=\";width:3em;\">ADVANCE OF Z<br />～在提坦斯的旗帜下～</td><td style=\"text-align:left;border-left:2px solid #fdfdfd;width:100%;padding:0px;width: auto;;;\" class=\"navbox-list navbox-even\"><div style=\"padding:0em 0.25em\"><a href=\"/%E6%B5%B7%E5%85%B9%E5%B0%94%E5%A7%AC\" title=\"海兹尔姬\">海兹尔姬</a> • <a href=\"/%E6%B5%B7%E5%85%B9%E5%B0%94%E5%A7%AC%E6%94%B9\" title=\"海兹尔姬改\">海兹尔姬改</a> • <a href=\"/%E6%B5%B7%E5%85%B9%E5%B0%94%E4%BA%8C%E4%B8%96\" title=\"海兹尔二世\">海兹尔二世</a> • <a href=\"/%E9%AB%98%E6%9C%BA%E5%8A%A8%E5%9E%8B%E6%B5%B7%E5%85%B9%E5%B0%94%E5%A7%AC\" title=\"高机动型海兹尔姬\">高机动型海兹尔姬</a> • <a href=\"/%E6%B5%B7%E5%85%B9%E5%B0%94%C2%B7%E5%8B%92\" title=\"海兹尔·勒\">海兹尔·勒</a> • <a href=\"/%E7%8B%99%E5%87%BB%E5%9E%8B%E5%90%89%E5%A7%86%E4%B8%89%E4%B8%96\" title=\"狙击型吉姆三世\">狙击型吉姆三世</a> • <a href=\"/Bigwig\" title=\"Bigwig\">Bigwig</a> • <a href=\"/%E5%A7%AC%E5%93%88%E5%B0%94\" title=\"姬哈尔\">姬哈尔</a> • <a href=\"/index.php?title=%E8%92%B2%E5%85%AC%E8%8B%B1%E5%AD%90&amp;action=edit&amp;redlink=1\" class=\"new\" title=\"蒲公英子（页面不存在）\">蒲公英子</a> • <a href=\"/%E8%94%B7%E8%96%87%E5%AD%90\" title=\"蔷薇子\">蔷薇子</a> • <a href=\"/Hrairoo\" title=\"Hrairoo\">Hrairoo</a> • <a href=\"/Fiver\" title=\"Fiver\">Fiver</a> • <a href=\"/%E6%B5%B7%E7%91%9F%E6%96%AF%E8%95%BE\" title=\"海瑟斯蕾\">海瑟斯蕾</a> • <a href=\"/%E6%B5%B7%E7%91%9F%E6%96%AF%E8%95%BE%C2%B7%E5%8B%92\" class=\"mw-redirect\" title=\"海瑟斯蕾·勒\">海瑟斯蕾·勒</a> • <a href=\"/Woundwort\" title=\"Woundwort\">Woundwort</a></div></td></tr><tr style=\"height:2px\"><td></td></tr><tr><td class=\"navbox-group\" style=\";width:3em;\">机动战士Z高达</td><td style=\"text-align:left;border-left:2px solid #fdfdfd;width:100%;padding:0px;width: auto;;;\" class=\"navbox-list navbox-odd\"><div style=\"padding:0em 0.25em\"><a href=\"/MK-II%E5%A7%AC\" title=\"MK-II姬\">MK-II姬</a> • <a href=\"/%E8%8E%89%E5%85%8B%C2%B7%E6%88%B4%E5%A8%85%E6%96%AF\" title=\"莉克·戴娅斯\">莉克·戴娅斯</a> • <a href=\"/%E6%A2%85%E5%A1%94%E6%96%AF\" title=\"梅塔斯\">梅塔斯</a> • <a href=\"/%E8%B6%85%E7%BA%A7%E5%AD%90\" title=\"超级子\">超级子</a> • <a href=\"/%E7%99%BE%E5%BC%8F%E5%AD%90\" title=\"百式子\">百式子</a>• <a href=\"/Zeta%E5%A7%AC\" title=\"Zeta姬\">Zeta姬</a> • <a href=\"/%E5%90%89%E5%A7%86%E4%BA%8C%E4%B8%96\" title=\"吉姆二世\">吉姆二世</a> • <a href=\"/%E5%A6%AE%E8%8E%AB\" title=\"妮莫\">妮莫</a> • <a href=\"/%E8%BF%AA%E5%A9%95\" title=\"迪婕\">迪婕</a> • <a href=\"/%E9%AB%98%E6%89%8E%E5%8F%A4%E5%A7%AC\" title=\"高扎古姬\">高扎古姬</a> • <a href=\"/index.php?title=%E5%98%89%E4%B8%BD%E6%B3%A2%E8%92%82%CE%B2&amp;action=edit&amp;redlink=1\" class=\"new\" title=\"嘉丽波蒂β（页面不存在）\">嘉丽波蒂β</a> • <a href=\"/%E7%8E%9B%E6%8B%89%E5%A1%9E\" title=\"玛拉塞\">玛拉塞</a> • <a href=\"/%E5%B7%B4%E6%89%8E%E5%A7%86%E5%A7%AC\" title=\"巴扎姆姬\">巴扎姆姬</a> • <a href=\"/%E9%98%BF%E5%B8%8C%E7%8E%9B\" title=\"阿希玛\">阿希玛</a> • <a href=\"/%E5%98%89%E6%99%AE%E5%85%B0\" title=\"嘉普兰\">嘉普兰</a> • <a href=\"/%E5%8D%A1%E6%99%AE%E6%96%AF%E8%8E%89\" title=\"卡普斯莉\">卡普斯莉</a> • <a href=\"/index.php?title=%E6%8B%9C%E5%A8%85%E5%85%B0&amp;action=edit&amp;redlink=1\" class=\"new\" title=\"拜娅兰（页面不存在）\">拜娅兰</a> • <a href=\"/%E6%B1%89%E5%B8%83%E8%8E%B1%E6%AF%94\" title=\"汉布莱比\">汉布莱比</a> • <a href=\"/%E7%8C%8E%E7%8A%AC%E5%AD%90\" title=\"猎犬子\">猎犬子</a> • <a href=\"/%E7%B2%BE%E7%A5%9E%E5%AD%90\" title=\"精神子\">精神子</a> • <a href=\"/%E6%A2%85%E8%90%A8%E6%8B%89\" title=\"梅萨拉\">梅萨拉</a>• <a href=\"/%E5%B8%95%E6%8B%89%E6%96%AF%C2%B7%E9%9B%85%E5%85%B8%E5%A8%9C\" title=\"帕拉斯·雅典娜\">帕拉斯·雅典娜</a> • <a href=\"/%E6%B3%A2%E9%87%8C%E8%AF%BA%E5%85%8B%C2%B7%E8%90%A8%E6%9B%BC\" title=\"波里诺克·萨曼\">波里诺克·萨曼</a> • <a href=\"/%E9%93%81%E5%A5%A5%E5%A7%AC\" title=\"铁奥姬\">铁奥姬</a> • <a href=\"/%E5%8A%A0%E8%90%A8C%E5%A7%AC\" title=\"加萨C姬\">加萨C姬</a> • <a href=\"/%E5%8D%A1%E7%A2%A7%E5%A6%AE\" title=\"卡碧妮\">卡碧妮</a></div></td></tr><tr style=\"height:2px\"><td></td></tr><tr><td class=\"navbox-group\" style=\";width:3em;\">GUNDAM SENTINEL</td><td style=\"text-align:left;border-left:2px solid #fdfdfd;width:100%;padding:0px;width: auto;;;\" class=\"navbox-list navbox-even\"><div style=\"padding:0em 0.25em\"><a href=\"/S%E5%A7%AC\" title=\"S姬\">S姬</a> • <a href=\"/Ex-S%E5%A7%AC\" title=\"Ex-S姬\">Ex-S姬</a> • <a href=\"/S%E5%A7%AC(%E6%8E%A8%E8%BF%9B%E5%99%A8%E5%A2%9E%E8%A3%85%E6%A0%B7%E5%BC%8F)\" title=\"S姬(推进器增装样式)\">S姬(推进器增装样式)</a> • <a href=\"/%E6%B7%B1%E5%BA%A6%E5%BC%BA%E8%A2%AD%E5%A7%AC\" title=\"深度强袭姬\">深度强袭姬</a> • <a href=\"/Z_plus%E5%A7%AC\" title=\"Z plus姬\">Z plus姬</a> • <a href=\"/Z_plus%E5%A7%AC(%E6%B5%8B%E8%AF%95%E5%A7%AC%E9%85%8D%E8%89%B2)\" title=\"Z plus姬(测试姬配色)\">Z plus姬(测试姬配色)</a> • <a href=\"/%E8%9C%82%E9%B8%9F%E5%A7%AC\" title=\"蜂鸟姬\">蜂鸟姬</a> • <a href=\"/FAZZ%E5%A7%AC\" title=\"FAZZ姬\">FAZZ姬</a>• <a href=\"/%E8%80%90%E8%90%9D\" title=\"耐萝\">耐萝</a>• <a href=\"/EWAC%E8%80%90%E8%90%9D\" title=\"EWAC耐萝\">EWAC耐萝</a>• <a href=\"/%E8%80%90%E8%90%9D%E6%95%99%E7%BB%83%E5%A7%AC\" title=\"耐萝教练姬\">耐萝教练姬</a>• <a href=\"/MK-V%E5%A7%AC\" title=\"MK-V姬\">MK-V姬</a> • <a href=\"/%E8%B5%9B%E5%85%8B%C2%B7%E8%89%BE%E6%81%A9\" title=\"赛克·艾恩\">赛克·艾恩</a> • <a href=\"/%E8%B5%9B%E5%85%8B%C2%B7%E5%85%B9%E7%93%A6\" title=\"赛克·兹瓦\">赛克·兹瓦</a> • <a href=\"/%E5%8A%A0%E8%90%A8E%E5%A7%AC\" title=\"加萨E姬\">加萨E姬</a></div></td></tr><tr style=\"height:2px\"><td></td></tr><tr><td class=\"navbox-group\" style=\";width:3em;\">机动战士高达ZZ</td><td style=\"text-align:left;border-left:2px solid #fdfdfd;width:100%;padding:0px;width: auto;;;\" class=\"navbox-list navbox-odd\"><div style=\"padding:0em 0.25em\"><a href=\"/ZZ%E5%A7%AC\" title=\"ZZ姬\">ZZ姬</a> • <a href=\"/%E5%85%A8%E8%A3%85%E7%94%B2ZZ%E5%A7%AC\" title=\"全装甲ZZ姬\">全装甲ZZ姬</a> • <a href=\"/%E5%90%89%E5%A7%86%E4%B8%89%E4%B8%96\" title=\"吉姆三世\">吉姆三世</a> • <a href=\"/index.php?title=%E9%AC%BC%E5%A9%95&amp;action=edit&amp;redlink=1\" class=\"new\" title=\"鬼婕（页面不存在）\">鬼婕</a> • <a href=\"/index.php?title=%E5%8A%A0%E8%90%A8D%E5%A7%AC&amp;action=edit&amp;redlink=1\" class=\"new\" title=\"加萨D姬（页面不存在）\">加萨D姬</a> • <a href=\"/index.php?title=%E5%98%89%E4%BD%90%E5%A7%86&amp;action=edit&amp;redlink=1\" class=\"new\" title=\"嘉佐姆（页面不存在）\">嘉佐姆</a>• <a href=\"/index.php?title=%E5%8D%A1%E5%B0%94%E6%96%AFJ%E5%A7%AC&amp;action=edit&amp;redlink=1\" class=\"new\" title=\"卡尔斯J姬（页面不存在）\">卡尔斯J姬</a> • <a href=\"/%E5%85%B9%E8%90%A8%E5%A7%AC\" title=\"兹萨姬\">兹萨姬</a> • <a href=\"/%E5%93%88%E7%8E%9B%C2%B7%E5%93%88%E7%8E%9B\" title=\"哈玛·哈玛\">哈玛·哈玛</a> • <a href=\"/index.php?title=R%C2%B7%E4%BD%B3%E4%BD%B3&amp;action=edit&amp;redlink=1\" class=\"new\" title=\"R·佳佳（页面不存在）\">R·佳佳</a> • <a href=\"/%E9%BE%99%E8%8F%B2\" title=\"龙菲\">龙菲</a> • <a href=\"/%E5%8D%A1%E6%99%AE%E5%B0%94%E5%A7%AC\" title=\"卡普尔姬\">卡普尔姬</a> • <a href=\"/index.php?title=%E7%8B%82%E9%A3%99%C2%B7%E8%BF%AA%E5%A8%85%E6%96%AF&amp;action=edit&amp;redlink=1\" class=\"new\" title=\"狂飙·迪娅斯（页面不存在）\">狂飙·迪娅斯</a> • <a href=\"/%E5%BE%B7%E8%8E%B1%E6%A3%AE\" title=\"德莱森\">德莱森</a> • <a href=\"/%E6%89%8E%E5%8F%A4%E4%B8%89%E4%B8%96\" title=\"扎古三世\">扎古三世</a> • <a href=\"/%E6%89%8E%E5%8F%A4%E4%B8%89%E4%B8%96%E6%94%B9\" title=\"扎古三世改\">扎古三世改</a> • <a href=\"/%E5%8B%87%E5%A3%AB%E5%A7%AC%E6%94%B9\" title=\"勇士姬改\">勇士姬改</a> • <a href=\"/index.php?title=%E5%8D%A1%E6%96%AFR%E5%A7%AC&amp;action=edit&amp;redlink=1\" class=\"new\" title=\"卡斯R姬（页面不存在）\">卡斯R姬</a> • <a href=\"/index.php?title=%E5%8D%A1%E6%96%AFL%E5%A7%AC&amp;action=edit&amp;redlink=1\" class=\"new\" title=\"卡斯L姬（页面不存在）\">卡斯L姬</a> • <a href=\"/%E7%9B%96%E7%8E%9B%E5%85%8B%E5%A7%AC\" title=\"盖玛克姬\">盖玛克姬</a> • <a href=\"/index.php?title=%E9%A3%9A%E7%8B%BC%E5%A7%AC&amp;action=edit&amp;redlink=1\" class=\"new\" title=\"飚狼姬（页面不存在）\">飚狼姬</a> • <a href=\"/%E5%8D%A1%E7%A2%A7%E5%A6%AEMK-II\" title=\"卡碧妮MK-II\">卡碧妮MK-II</a> • <a href=\"/%E9%87%8F%E4%BA%A7%E5%9E%8B%E5%8D%A1%E7%A2%A7%E5%A6%AE\" title=\"量产型卡碧妮\">量产型卡碧妮</a> • <a href=\"/%E7%B2%BE%E7%A5%9E%E5%AD%90MK-II\" title=\"精神子MK-II\">精神子MK-II</a>• <a href=\"/%E5%A5%8E%E6%9B%BC%E6%B2%99\" title=\"奎曼沙\">奎曼沙</a></div></td></tr><tr style=\"height:2px\"><td></td></tr><tr><td class=\"navbox-group\" style=\";width:3em;\">机动战士高达<br />～逆袭的夏亚</td><td style=\"text-align:left;border-left:2px solid #fdfdfd;width:100%;padding:0px;width: auto;;;\" class=\"navbox-list navbox-even\"><div style=\"padding:0em 0.25em\"><a href=\"/N%E5%A7%AC\" title=\"N姬\">ν姬</a> • <a href=\"/index.php?title=Hi-%CE%BD%E5%A7%AC&amp;action=edit&amp;redlink=1\" class=\"new\" title=\"Hi-ν姬（页面不存在）\">Hi-ν姬</a> • <a href=\"/%E7%81%B5%E6%A0%BC%E4%B8%9D\" title=\"灵格丝\">灵格丝</a> • <a href=\"/%E5%A9%95%E5%88%9A\" title=\"婕刚\">婕刚</a> • <a href=\"/%E5%A7%AC%E6%8B%89%C2%B7%E5%A4%9A%E5%98%89\" title=\"姬拉·多嘉\">姬拉·多嘉</a> • <a href=\"/%E4%B9%8D%E5%BE%97%C2%B7%E5%A4%9A%E5%98%89\" title=\"乍得·多嘉\">乍得·多嘉</a>• <a href=\"/A%C2%B7%E7%93%A6%E7%B4%A2%E9%BE%99%E5%A7%AC\" title=\"A·瓦索龙姬\">α·瓦索龙姬</a> • <a href=\"/%E8%8E%8E%E6%89%8E%E6%AF%94\" title=\"莎扎比\">莎扎比</a> • <a href=\"/index.php?title=%E5%A4%9C%E8%8E%BA%EF%BC%88MS%EF%BC%89&amp;action=edit&amp;redlink=1\" class=\"new\" title=\"夜莺（MS）（页面不存在）\">夜莺</a></div></td></tr><tr style=\"height:2px\"><td></td></tr><tr><td class=\"navbox-group\" style=\";width:3em;\">机动战士高达UC</td><td style=\"text-align:left;border-left:2px solid #fdfdfd;width:100%;padding:0px;width: auto;;;\" class=\"navbox-list navbox-odd\"><div style=\"padding:0em 0.25em\"><a href=\"/%E7%8B%AC%E8%A7%92%E5%A7%AC\" title=\"独角姬\">独角姬</a> • <a href=\"/%E5%85%A8%E6%AD%A6%E8%A3%85%E7%8B%AC%E8%A7%92%E5%A7%AC\" title=\"全武装独角姬\">全武装独角姬</a> • <a href=\"/%E6%8A%A5%E4%B8%A7%E5%A5%B3%E5%A6%96\" title=\"报丧女妖\">报丧女妖</a> • <a href=\"/%E9%87%8C%E8%B0%A2%E5%B0%94%E5%A7%AC\" title=\"里谢尔姬\">里谢尔姬</a> • <a href=\"/%E9%87%8C%E8%B0%A2%E5%B0%94%E9%98%9F%E9%95%BF%E5%A7%AC\" title=\"里谢尔队长姬\">里谢尔队长姬</a> • <a href=\"/%E5%BE%B7%E5%B0%94%E5%A1%94_plus%E5%A7%AC\" class=\"mw-redirect\" title=\"德尔塔 plus姬\">德尔塔 plus姬</a> • <a href=\"/index.php?title=%E5%A9%95%E5%88%9AD%E5%9E%8B&amp;action=edit&amp;redlink=1\" class=\"new\" title=\"婕刚D型（页面不存在）\">婕刚D型</a>• <a href=\"/%E5%A9%95%E5%88%9A%E9%98%9F%E9%95%BF%E5%A7%AC\" title=\"婕刚队长姬\">婕刚队长姬</a> • <a href=\"/%E7%89%B9%E8%A3%85%E5%9E%8B%E5%A9%95%E5%88%9A%E8%AF%95%E9%AA%8C%E5%A7%AC\" title=\"特装型婕刚试验姬\">特装型婕刚试验姬</a> • <a href=\"/%E5%A9%95%E6%96%AF%E5%A1%94\" title=\"婕斯塔\">婕斯塔</a> • <a href=\"/index.php?title=%E6%B4%9B%E7%89%B9%E5%A7%AC&amp;action=edit&amp;redlink=1\" class=\"new\" title=\"洛特姬（页面不存在）\">洛特姬</a> • <a href=\"/index.php?title=%E5%AE%89%E5%85%8B%E5%A4%8F%E5%A7%AC&amp;action=edit&amp;redlink=1\" class=\"new\" title=\"安克夏姬（页面不存在）\">安克夏姬</a> • <a href=\"/%E7%89%B9%E8%A3%85%E5%9E%8B%E6%8B%9C%E5%A8%85%E5%85%B0\" title=\"特装型拜娅兰\">特装型拜娅兰</a> • <a href=\"/%E6%96%B0%E5%AE%89%E6%B4%B2%E5%AD%90\" title=\"新安洲子\">新安洲子</a> • <a href=\"/index.php?title=%E6%96%B0%E5%90%89%E7%BF%81%E5%B0%91%E5%A5%B3&amp;action=edit&amp;redlink=1\" class=\"new\" title=\"新吉翁少女（页面不存在）\">新吉翁少女</a> • <a href=\"/%E5%A7%AC%E6%8B%89%C2%B7%E7%A5%96%E9%B2%81\" title=\"姬拉·祖鲁\">姬拉·祖鲁</a> • <a href=\"/%E6%B3%BD%C2%B7%E7%A5%96%E9%B2%81\" title=\"泽·祖鲁\">泽·祖鲁</a> • <a href=\"/%E7%8E%AB%E7%91%B0%C2%B7%E7%A5%96%E9%B2%81\" title=\"玫瑰·祖鲁\">玫瑰·祖鲁</a> • <a href=\"/%E5%88%B9%E5%B8%9D%E5%88%A9\" title=\"刹帝利\">刹帝利</a> • <a href=\"/index.php?title=%E5%A4%9A%E7%93%A6%E5%90%89&amp;action=edit&amp;redlink=1\" class=\"new\" title=\"多瓦吉（页面不存在）\">多瓦吉</a> • <a href=\"/index.php?title=%E5%8D%A1%E5%B0%94%E6%96%AFK%E5%A7%AC&amp;action=edit&amp;redlink=1\" class=\"new\" title=\"卡尔斯K姬（页面不存在）\">卡尔斯K姬</a> • <a href=\"/%E5%B0%9A%E5%B8%83%E8%90%9D\" title=\"尚布萝\">尚布萝</a></div></td></tr><tr style=\"height:2px\"><td></td></tr><tr><td class=\"navbox-group\" style=\";width:3em;\">机动战士高达<br />～闪光的哈萨维</td><td style=\"text-align:left;border-left:2px solid #fdfdfd;width:100%;padding:0px;width: auto;;;\" class=\"navbox-list navbox-even\"><div style=\"padding:0em 0.25em\"><a href=\"/%E5%85%8B%E8%A5%BF%E5%AD%90\" title=\"克西子\">克西子</a>• <a href=\"/%E6%A2%85%E8%90%A8\" title=\"梅萨\">梅萨</a> • <a href=\"/%E4%BD%A9%E6%B6%85%E8%90%9D%E4%BD%A9\" title=\"佩涅萝佩\">佩涅萝佩</a> • <a href=\"/index.php?title=%E5%8F%A4%E6%96%AF%E5%A1%94%E5%A4%AB%C2%B7%E5%8D%A1%E5%B0%94&amp;action=edit&amp;redlink=1\" class=\"new\" title=\"古斯塔夫·卡尔（页面不存在）\">古斯塔夫·卡尔</a></div></td></tr><tr style=\"height:2px\"><td></td></tr><tr><td class=\"navbox-group\" style=\";width:3em;\">机动战士高达F90</td><td style=\"text-align:left;border-left:2px solid #fdfdfd;width:100%;padding:0px;width: auto;;;\" class=\"navbox-list navbox-odd\"><div style=\"padding:0em 0.25em\"><a href=\"/F90%E5%A7%AC\" title=\"F90姬\">F90姬</a> • <a href=\"/F90%E4%BA%8C%E4%B8%96\" title=\"F90二世\">F90二世</a> • <a href=\"/RF%E6%89%8E%E5%8F%A4%E5%A7%AC\" title=\"RF扎古姬\">RF扎古姬</a> • <a href=\"/index.php?title=RF%E5%A4%A7%E9%AD%94%E5%A5%B3&amp;action=edit&amp;redlink=1\" class=\"new\" title=\"RF大魔女（页面不存在）\">RF大魔女</a> • <a href=\"/index.php?title=RF%E5%8B%87%E5%A3%AB%E5%A7%AC&amp;action=edit&amp;redlink=1\" class=\"new\" title=\"RF勇士姬（页面不存在）\">RF勇士姬</a> • <a href=\"/index.php?title=%E5%B7%A8%E5%A4%A7%E6%89%8E%E5%A7%86&amp;action=edit&amp;redlink=1\" class=\"new\" title=\"巨大扎姆（页面不存在）\">巨大扎姆</a></div></td></tr><tr style=\"height:2px\"><td></td></tr><tr><td class=\"navbox-group\" style=\";width:3em;\">机动战士高达<br />～影子方程式F91</td><td style=\"text-align:left;border-left:2px solid #fdfdfd;width:100%;padding:0px;width: auto;;;\" class=\"navbox-list navbox-even\"><div style=\"padding:0em 0.25em\"><a href=\"/index.php?title=%E5%BD%B1%E5%AD%90%E5%A7%AC&amp;action=edit&amp;redlink=1\" class=\"new\" title=\"影子姬（页面不存在）\">影子姬</a> • <a href=\"/%E5%BD%B1%E5%AD%90%E5%A7%AC%E6%94%B9\" title=\"影子姬改\">影子姬改</a> • <a href=\"/NEO%E5%A7%AC\" title=\"NEO姬\">NEO姬</a> • <a href=\"/index.php?title=%E8%93%93%E5%B0%94%E6%A0%BC%C2%B7%E5%B7%B4%E9%B2%81%E6%96%AF&amp;action=edit&amp;redlink=1\" class=\"new\" title=\"蓓尔格·巴鲁斯（页面不存在）\">蓓尔格·巴鲁斯</a> • <a href=\"/index.php?title=%E8%96%87%E5%90%89%E5%A8%9C%C2%B7%E6%B3%BD%E6%8B%89&amp;action=edit&amp;redlink=1\" class=\"new\" title=\"薇吉娜·泽拉（页面不存在）\">薇吉娜·泽拉</a></div></td></tr><tr style=\"height:2px\"><td></td></tr><tr><td class=\"navbox-group\" style=\";width:3em;\">机动战士高达F91</td><td style=\"text-align:left;border-left:2px solid #fdfdfd;width:100%;padding:0px;width: auto;;;\" class=\"navbox-list navbox-odd\"><div style=\"padding:0em 0.25em\"><a href=\"/F91%E5%A7%AC\" title=\"F91姬\">F91姬</a> • <a href=\"/%E8%B5%AB%E8%96%87%E5%88%9A\" title=\"赫薇刚\">赫薇刚</a> • <a href=\"/index.php?title=G%E5%8A%A0%E5%86%9C%E5%A7%AC&amp;action=edit&amp;redlink=1\" class=\"new\" title=\"G加农姬（页面不存在）\">G加农姬</a> • <a href=\"/%E9%92%A2%E5%9D%A6%E5%85%8BR44%E5%A7%AC\" title=\"钢坦克R44姬\">钢坦克R44姬</a>• <a href=\"/%E5%BE%B7%E6%A5%A0%C2%B7%E4%BD%90%E6%81%A9\" title=\"德楠·佐恩\">德楠·佐恩</a> • <a href=\"/index.php?title=%E5%BE%B7%E6%A5%A0%C2%B7%E6%A0%BC&amp;action=edit&amp;redlink=1\" class=\"new\" title=\"德楠·格（页面不存在）\">德楠·格</a> • <a href=\"/index.php?title=%E8%89%BE%E8%96%87%E7%92%90%C2%B7S&amp;action=edit&amp;redlink=1\" class=\"new\" title=\"艾薇璐·S（页面不存在）\">艾薇璐·S</a> • <a href=\"/index.php?title=%E8%93%93%E5%B0%94%E6%A0%BC%C2%B7%E8%BE%BE%E6%8B%89%E6%96%AF&amp;action=edit&amp;redlink=1\" class=\"new\" title=\"蓓尔格·达拉斯（页面不存在）\">蓓尔格·达拉斯</a> • <a href=\"/index.php?title=%E8%93%93%E5%B0%94%E6%A0%BC%C2%B7%E5%9F%BA%E7%BD%97%E6%96%AF&amp;action=edit&amp;redlink=1\" class=\"new\" title=\"蓓尔格·基罗斯（页面不存在）\">蓓尔格·基罗斯</a> • <a href=\"/index.php?title=%E5%A6%B2%E5%A7%AC%C2%B7%E4%BC%8A%E9%87%8C%E6%96%AF&amp;action=edit&amp;redlink=1\" class=\"new\" title=\"妲姬·伊里斯（页面不存在）\">妲姬·伊里斯</a> • <a href=\"/%E8%96%87%E5%90%89%E5%A8%9C%C2%B7%E5%9F%BA%E7%BA%B3\" title=\"薇吉娜·基纳\">薇吉娜·基纳</a> • <a href=\"/index.php?title=%E5%AE%87%E5%AE%99%E5%A6%96%E8%8A%B1&amp;action=edit&amp;redlink=1\" class=\"new\" title=\"宇宙妖花（页面不存在）\">宇宙妖花</a> • <a href=\"/index.php?title=%E8%8A%AD%E5%85%8B&amp;action=edit&amp;redlink=1\" class=\"new\" title=\"芭克（页面不存在）\">芭克</a></div></td></tr><tr style=\"height:2px\"><td></td></tr><tr><td class=\"navbox-group\" style=\";width:3em;\">机动战士海盗高达</td><td style=\"text-align:left;border-left:2px solid #fdfdfd;width:100%;padding:0px;width: auto;;;\" class=\"navbox-list navbox-even\"><div style=\"padding:0em 0.25em\"><a href=\"/%E6%B5%B7%E7%9B%97%E5%A7%ACX0\" title=\"海盗姬X0\">海盗姬X0</a> • <a href=\"/%E6%B5%B7%E7%9B%97%E5%A7%ACX1\" title=\"海盗姬X1\">海盗姬X1</a> • <a href=\"/index.php?title=%E6%B5%B7%E7%9B%97%E5%A7%ACX1%E6%94%B9&amp;action=edit&amp;redlink=1\" class=\"new\" title=\"海盗姬X1改（页面不存在）\">海盗姬X1改</a> • <a href=\"/%E6%B5%B7%E7%9B%97%E5%A7%ACX2\" title=\"海盗姬X2\">海盗姬X2</a> • <a href=\"/%E6%B5%B7%E7%9B%97%E5%A7%ACX2%E6%94%B9\" title=\"海盗姬X2改\">海盗姬X2改</a> • <a href=\"/%E6%B5%B7%E7%9B%97%E5%A7%ACX3\" title=\"海盗姬X3\">海盗姬X3</a> • <a href=\"/index.php?title=%E5%BC%97%E7%90%B3%E7%89%B9&amp;action=edit&amp;redlink=1\" class=\"new\" title=\"弗琳特（页面不存在）\">弗琳特</a>• <a href=\"/index.php?title=%E5%AE%97%E5%BE%B7%C2%B7%E6%A0%BC&amp;action=edit&amp;redlink=1\" class=\"new\" title=\"宗德·格（页面不存在）\">宗德·格</a> • <a href=\"/%E9%87%8F%E4%BA%A7%E5%9E%8BF91%E5%A7%AC\" title=\"量产型F91姬\">量产型F91姬</a> • <a href=\"/index.php?title=%E8%8A%AD%E7%89%B9%E6%8B%89&amp;action=edit&amp;redlink=1\" class=\"new\" title=\"芭特拉（页面不存在）\">芭特拉</a> • <a href=\"/index.php?title=%E4%BD%A9%E5%85%B9%C2%B7%E8%8A%AD%E7%89%B9%E6%8B%89&amp;action=edit&amp;redlink=1\" class=\"new\" title=\"佩兹·芭特拉（页面不存在）\">佩兹·芭特拉</a> • <a href=\"/index.php?title=%E7%93%A6%E5%88%9A%E5%A7%AC&amp;action=edit&amp;redlink=1\" class=\"new\" title=\"瓦刚姬（页面不存在）\">瓦刚姬</a> • <a href=\"/index.php?title=%E9%98%BF%E6%AF%94%E4%BD%90%E5%A7%AC&amp;action=edit&amp;redlink=1\" class=\"new\" title=\"阿比佐姬（页面不存在）\">阿比佐姬</a> • <a href=\"/%E5%A4%B8%E8%8A%AD%E5%A1%9E\" title=\"夸芭塞\">夸芭塞</a> • <a href=\"/index.php?title=%E9%87%8F%E4%BA%A7%E5%9E%8B%E5%A4%B8%E8%8A%AD%E5%A1%9E&amp;action=edit&amp;redlink=1\" class=\"new\" title=\"量产型夸芭塞（页面不存在）\">量产型夸芭塞</a> • <a href=\"/index.php?title=%E6%89%98%E5%9B%BE%E5%98%89&amp;action=edit&amp;redlink=1\" class=\"new\" title=\"托图嘉（页面不存在）\">托图嘉</a> • <a href=\"/index.php?title=%E8%B1%A1%E9%BC%BB%E5%A7%AC&amp;action=edit&amp;redlink=1\" class=\"new\" title=\"象鼻姬（页面不存在）\">象鼻姬</a> • <a href=\"/index.php?title=%E9%B9%A6%E9%B9%89%E8%9E%BA%E5%A7%AC&amp;action=edit&amp;redlink=1\" class=\"new\" title=\"鹦鹉螺姬（页面不存在）\">鹦鹉螺姬</a> • <a href=\"/index.php?title=%E8%BF%AA%E6%AC%A7%E5%A8%9C&amp;action=edit&amp;redlink=1\" class=\"new\" title=\"迪欧娜（页面不存在）\">迪欧娜</a> • <a href=\"/Elegolea\" title=\"Elegolea\">Elegolea</a> • <a href=\"/index.php?title=%E8%BF%AA%E6%AF%94%E5%A6%AE%E5%A6%B2%E5%BE%B7&amp;action=edit&amp;redlink=1\" class=\"new\" title=\"迪比妮妲德（页面不存在）\">迪比妮妲德</a></div></td></tr><tr style=\"height:2px\"><td></td></tr><tr><td class=\"navbox-group\" style=\";width:3em;\">机动战士海盗高达<br />～骷髅之心</td><td style=\"text-align:left;border-left:2px solid #fdfdfd;width:100%;padding:0px;width: auto;;;\" class=\"navbox-list navbox-odd\"><div style=\"padding:0em 0.25em\"><a href=\"/%E9%AA%B7%E9%AB%85%E5%AD%90\" title=\"骷髅子\">骷髅子</a> • <a href=\"/index.php?title=%E9%98%BF%E6%8B%89%E5%A8%9C&amp;action=edit&amp;redlink=1\" class=\"new\" title=\"阿拉娜（页面不存在）\">阿拉娜</a> • <a href=\"/%E5%A4%A9%E8%8D%89%E5%A7%AC\" title=\"天草姬\">天草姬</a></div></td></tr><tr style=\"height:2px\"><td></td></tr><tr><td class=\"navbox-group\" style=\";width:3em;\">机动战士海盗高达<br />～钢铁的7人</td><td style=\"text-align:left;border-left:2px solid #fdfdfd;width:100%;padding:0px;width: auto;;;\" class=\"navbox-list navbox-even\"><div style=\"padding:0em 0.25em\"><a href=\"/index.php?title=F90I%E5%A7%AC&amp;action=edit&amp;redlink=1\" class=\"new\" title=\"F90I姬（页面不存在）\">F90I姬</a> • <a href=\"/index.php?title=%E6%B5%B7%E7%9B%97X1%E6%8B%BC%E8%A3%85%E5%A7%AC&amp;action=edit&amp;redlink=1\" class=\"new\" title=\"海盗X1拼装姬（页面不存在）\">海盗X1拼装姬</a> • <a href=\"/%E5%85%A8%E8%A3%85%E6%B5%B7%E7%9B%97%E5%A7%AC\" title=\"全装海盗姬\">全装海盗姬</a> • <a href=\"/F99%E5%A7%AC\" title=\"F99姬\">F99姬</a>• <a href=\"/index.php?title=%E8%96%87%E5%90%89%E5%A8%9C%C2%B7%E5%9F%BA%E7%BA%B3%E4%BA%8C%E4%B8%96&amp;action=edit&amp;redlink=1\" class=\"new\" title=\"薇吉娜·基纳二世（页面不存在）\">薇吉娜·基纳二世</a> • <a href=\"/index.php?title=%E9%98%BF%E6%8B%89%E5%A8%9C%C2%B7%E9%98%BF%E6%AF%94%E4%BD%90&amp;action=edit&amp;redlink=1\" class=\"new\" title=\"阿拉娜·阿比佐（页面不存在）\">阿拉娜·阿比佐</a> • <a href=\"/index.php?title=%E8%8A%AD%E6%8B%89%C2%B7%E6%89%98%E5%9B%BE%E5%98%89&amp;action=edit&amp;redlink=1\" class=\"new\" title=\"芭拉·托图嘉（页面不存在）\">芭拉·托图嘉</a> • <a href=\"/index.php?title=%E5%A4%A9%E4%BD%BF%E8%BF%AA%E6%AC%A7%E5%A8%9C&amp;action=edit&amp;redlink=1\" class=\"new\" title=\"天使迪欧娜（页面不存在）\">天使迪欧娜</a> • <a href=\"/index.php?title=%E6%9F%AF%E5%B0%94%E5%A6%AE%E6%A0%BC%E6%96%AF&amp;action=edit&amp;redlink=1\" class=\"new\" title=\"柯尔妮格斯（页面不存在）\">柯尔妮格斯</a> • <a href=\"/index.php?title=%E5%9B%A0%E6%99%AE%E5%B0%94%E6%96%AF%C2%B7%E6%9F%AF%E5%B0%94%E5%A6%AE%E6%A0%BC%E6%96%AF&amp;action=edit&amp;redlink=1\" class=\"new\" title=\"因普尔斯·柯尔妮格斯（页面不存在）\">因普尔斯·柯尔妮格斯</a> • <a href=\"/index.php?title=%E5%B7%A6%E6%8C%87%E5%A7%AC&amp;action=edit&amp;redlink=1\" class=\"new\" title=\"左指姬（页面不存在）\">左指姬</a> • <a href=\"/index.php?title=%E5%8F%B3%E6%8C%87%E5%A7%AC&amp;action=edit&amp;redlink=1\" class=\"new\" title=\"右指姬（页面不存在）\">右指姬</a></div></td></tr><tr style=\"height:2px\"><td></td></tr><tr><td class=\"navbox-group\" style=\";width:3em;\">机动战士V高达</td><td style=\"text-align:left;border-left:2px solid #fdfdfd;width:100%;padding:0px;width: auto;;;\" class=\"navbox-list navbox-odd\"><div style=\"padding:0em 0.25em\"><a href=\"/V%E5%A7%AC\" title=\"V姬\">V姬</a> • <a href=\"/V2%E5%A7%AC\" title=\"V2姬\">V2姬</a> • <a href=\"/index.php?title=2ndV%E5%A7%AC&amp;action=edit&amp;redlink=1\" class=\"new\" title=\"2ndV姬（页面不存在）\">2ndV姬</a> • <a href=\"/V-Dash%E5%A7%AC\" title=\"V-Dash姬\">V-Dash姬</a> • <a href=\"/V-Hexa%E5%A7%AC\" title=\"V-Hexa姬\">V-Hexa姬</a> • <a href=\"/%E9%92%A2%E4%BC%8A%E5%90%89\" title=\"钢伊吉\">钢伊吉</a>• <a href=\"/index.php?title=%E5%A9%95%E5%A7%86%E6%96%AF%E9%92%A2&amp;action=edit&amp;redlink=1\" class=\"new\" title=\"婕姆斯钢（页面不存在）\">婕姆斯钢</a> • <a href=\"/%E5%A9%95%E8%96%87%E7%90%B3\" title=\"婕薇琳\">婕薇琳</a> • <a href=\"/index.php?title=%E4%BD%90%E8%90%9D%E5%A8%85%E7%89%B9&amp;action=edit&amp;redlink=1\" class=\"new\" title=\"佐萝娅特（页面不存在）\">佐萝娅特</a> • <a href=\"/index.php?title=%E4%BD%90%E8%90%9D&amp;action=edit&amp;redlink=1\" class=\"new\" title=\"佐萝（页面不存在）\">佐萝</a> • <a href=\"/%E6%89%98%E5%A7%86%E8%8E%89%E5%A8%85%E7%89%B9\" title=\"托姆莉娅特\">托姆莉娅特</a> • <a href=\"/index.php?title=%E5%A4%9A%E5%A7%86%E8%8E%89%E5%A8%85%E7%89%B9&amp;action=edit&amp;redlink=1\" class=\"new\" title=\"多姆莉娅特（页面不存在）\">多姆莉娅特</a> • <a href=\"/index.php?title=%E6%AD%8C%E4%BD%90%E6%8B%89&amp;action=edit&amp;redlink=1\" class=\"new\" title=\"歌佐拉（页面不存在）\">歌佐拉</a> • <a href=\"/index.php?title=%E6%A2%85%E6%A2%85%E5%BE%B7%E8%90%A8&amp;action=edit&amp;redlink=1\" class=\"new\" title=\"梅梅德萨（页面不存在）\">梅梅德萨</a> • <a href=\"/index.php?title=%E9%98%BF%E6%AF%94%E6%88%88%E5%B0%94&amp;action=edit&amp;redlink=1\" class=\"new\" title=\"阿比戈尔（页面不存在）\">阿比戈尔</a> • <a href=\"/%E6%9C%B5%E6%AD%8C%E6%8B%89\" title=\"朵歌拉\">朵歌拉</a> • <a href=\"/%E8%91%9B%E5%BE%B7%E6%8B%89%E8%8A%99\" title=\"葛德拉芙\">葛德拉芙</a> • <a href=\"/%E4%BD%90%E8%8E%89%E8%BF%AA%E5%A8%85\" title=\"佐莉迪娅\">佐莉迪娅</a> • <a href=\"/index.php?title=%E5%B8%83%E5%B0%94%E8%82%AF&amp;action=edit&amp;redlink=1\" class=\"new\" title=\"布尔肯（页面不存在）\">布尔肯</a> • <a href=\"/%E5%A4%8F%E5%85%8B%E5%A7%AC\" title=\"夏克姬\">夏克姬</a> • <a href=\"/%E8%8E%89%E5%85%8B%C2%B7%E5%A4%8F%E5%85%8B\" title=\"莉克·夏克\">莉克·夏克</a> • <a href=\"/index.php?title=%E5%BA%B7%E5%AA%9E%E5%A5%A5&amp;action=edit&amp;redlink=1\" class=\"new\" title=\"康媞奥（页面不存在）\">康媞奥</a>• <a href=\"/index.php?title=%E5%98%89%E8%8A%AD%E5%85%8B&amp;action=edit&amp;redlink=1\" class=\"new\" title=\"嘉芭克（页面不存在）\">嘉芭克</a> • <a href=\"/index.php?title=%E8%8E%89%E5%85%8B%C2%B7%E5%BA%B7%E5%AA%9E%E5%A5%A5&amp;action=edit&amp;redlink=1\" class=\"new\" title=\"莉克·康媞奥（页面不存在）\">莉克·康媞奥</a> • <a href=\"/%E8%B5%9E%E5%A6%AE%E5%8F%AF\" title=\"赞妮可\">赞妮可</a> • <a href=\"/index.php?title=%E8%89%AE%E9%AB%98%E4%BD%90%E5%A7%AC&amp;action=edit&amp;redlink=1\" class=\"new\" title=\"艮高佐姬（页面不存在）\">艮高佐姬</a> • <a href=\"/%E9%AB%98%E7%89%B9%E6%8B%89%E5%9D%A6%E5%A7%AC\" title=\"高特拉坦姬\">高特拉坦姬</a></div></td></tr><tr style=\"height:2px\"><td></td></tr><tr><td class=\"navbox-group\" style=\";width:3em;\">机动武斗传G高达</td><td style=\"text-align:left;border-left:2px solid #fdfdfd;width:100%;padding:0px;width: auto;;;\" class=\"navbox-list navbox-even\"><div style=\"padding:0em 0.25em\"><a href=\"/%E9%97%AA%E5%85%89%E5%AD%90\" title=\"闪光子\">闪光子</a> • <a href=\"/%E7%A5%9E%E5%AD%90\" title=\"神子\">神子</a> • <a href=\"/index.php?title=%E9%BA%A6%E5%85%8B%E5%A7%AC&amp;action=edit&amp;redlink=1\" class=\"new\" title=\"麦克姬（页面不存在）\">麦克姬</a> • <a href=\"/%E9%A3%9E%E9%BE%99%E5%AD%90\" title=\"飞龙子\">飞龙子</a> • <a href=\"/index.php?title=%E7%8E%AB%E7%91%B0%E5%AD%90&amp;action=edit&amp;redlink=1\" class=\"new\" title=\"玫瑰子（页面不存在）\">玫瑰子</a>• <a href=\"/%E9%87%8D%E9%94%A4%E5%A7%AC\" title=\"重锤姬\">重锤姬</a> • <a href=\"/%E9%95%9C%E5%A7%AC\" title=\"镜姬\">镜姬</a> • <a href=\"/%E6%97%A5%E5%8D%87%E5%AD%90\" title=\"日升子\">日升子</a> • <a href=\"/index.php?title=%E6%9B%BC%E9%99%80%E7%BD%97%E5%A7%AC&amp;action=edit&amp;redlink=1\" class=\"new\" title=\"曼陀罗姬（页面不存在）\">曼陀罗姬</a> • <a href=\"/index.php?title=%E5%A6%AE%E8%90%9D%E6%96%AF%E5%A7%AC&amp;action=edit&amp;redlink=1\" class=\"new\" title=\"妮萝斯姬（页面不存在）\">妮萝斯姬</a> • <a href=\"/index.php?title=%E5%A4%A9%E5%89%91%E5%A7%AC&amp;action=edit&amp;redlink=1\" class=\"new\" title=\"天剑姬（页面不存在）\">天剑姬</a> • <a href=\"/index.php?title=%E7%BA%A6%E7%BF%B0%E5%A7%AC&amp;action=edit&amp;redlink=1\" class=\"new\" title=\"约翰姬（页面不存在）\">约翰姬</a> • <a href=\"/index.php?title=%E5%8D%A1%E6%98%9F%E5%A7%AC&amp;action=edit&amp;redlink=1\" class=\"new\" title=\"卡星姬（页面不存在）\">卡星姬</a> • <a href=\"/index.php?title=%E7%8B%AE%E7%8E%8B%E5%A7%AC&amp;action=edit&amp;redlink=1\" class=\"new\" title=\"狮王姬（页面不存在）\">狮王姬</a> • <a href=\"/%E8%AF%BA%E8%B4%9D%E5%B0%94(MS)\" title=\"诺贝尔(MS)\">诺贝尔(MS)</a> • <a href=\"/index.php?title=%E6%B1%9F%E6%B9%96%E5%AD%90&amp;action=edit&amp;redlink=1\" class=\"new\" title=\"江湖子（页面不存在）\">江湖子</a> • <a href=\"/index.php?title=%E4%B9%9D%E9%BE%99%E5%AD%90&amp;action=edit&amp;redlink=1\" class=\"new\" title=\"九龙子（页面不存在）\">九龙子</a> • <a href=\"/%E5%B0%8A%E8%80%85%E5%A7%AC\" title=\"尊者姬\">尊者姬</a> • <a href=\"/index.php?title=%E5%B8%83%E7%86%99&amp;action=edit&amp;redlink=1\" class=\"new\" title=\"布熙（页面不存在）\">布熙</a> • <a href=\"/index.php?title=%E8%AF%BA%E5%B8%83%E7%86%99&amp;action=edit&amp;redlink=1\" class=\"new\" title=\"诺布熙（页面不存在）\">诺布熙</a>• <a href=\"/index.php?title=%E6%A2%B5%E6%89%98%E7%8E%9B&amp;action=edit&amp;redlink=1\" class=\"new\" title=\"梵托玛（页面不存在）\">梵托玛</a> • <a href=\"/index.php?title=%E6%AD%BB%E4%BA%A1%E5%86%9B%E5%9B%A2&amp;action=edit&amp;redlink=1\" class=\"new\" title=\"死亡军团（页面不存在）\">死亡军团</a> • <a href=\"/%E6%81%B6%E9%AD%94%E5%AD%90\" title=\"恶魔子\">恶魔子</a></div></td></tr><tr style=\"height:2px\"><td></td></tr><tr><td class=\"navbox-group\" style=\";width:3em;\">新机动战记高达W</td><td style=\"text-align:left;border-left:2px solid #fdfdfd;width:100%;padding:0px;width: auto;;;\" class=\"navbox-list navbox-odd\"><div style=\"padding:0em 0.25em\"><a href=\"/%E9%A3%9E%E7%BF%BC%E5%A7%AC\" title=\"飞翼姬\">飞翼姬</a> • <a href=\"/index.php?title=%E9%9B%B6%E5%BC%8F%E5%AD%90&amp;action=edit&amp;redlink=1\" class=\"new\" title=\"零式子（页面不存在）\">零式子</a> • <a href=\"/index.php?title=%E6%AD%BB%E7%A5%9E%E5%A7%AC&amp;action=edit&amp;redlink=1\" class=\"new\" title=\"死神姬（页面不存在）\">死神姬</a> • <a href=\"/index.php?title=%E5%9C%B0%E7%8B%B1%E5%AD%90&amp;action=edit&amp;redlink=1\" class=\"new\" title=\"地狱子（页面不存在）\">地狱子</a> • <a href=\"/%E9%87%8D%E8%A3%85%E5%A7%AC\" title=\"重装姬\">重装姬</a> • <a href=\"/index.php?title=%E9%87%8D%E8%A3%85%E5%A7%AC%E6%94%B9&amp;action=edit&amp;redlink=1\" class=\"new\" title=\"重装姬改（页面不存在）\">重装姬改</a> • <a href=\"/index.php?title=%E6%B2%99%E6%BC%A0%E5%A7%AC&amp;action=edit&amp;redlink=1\" class=\"new\" title=\"沙漠姬（页面不存在）\">沙漠姬</a>• <a href=\"/index.php?title=%E6%B2%99%E6%BC%A0%E5%A7%AC%E6%94%B9&amp;action=edit&amp;redlink=1\" class=\"new\" title=\"沙漠姬改（页面不存在）\">沙漠姬改</a> • <a href=\"/index.php?title=%E7%A5%9E%E9%BE%99%E5%A7%AC&amp;action=edit&amp;redlink=1\" class=\"new\" title=\"神龙姬（页面不存在）\">神龙姬</a> • <a href=\"/index.php?title=%E5%8F%8C%E9%BE%99%E5%AD%90&amp;action=edit&amp;redlink=1\" class=\"new\" title=\"双龙子（页面不存在）\">双龙子</a> • <a href=\"/%E6%89%98%E9%B2%81%E5%A7%AC%E6%96%AF\" title=\"托鲁姬斯\">托鲁姬斯</a> • <a href=\"/%E6%89%98%E9%B2%81%E5%A7%AC%E6%96%AF%E4%BA%8C%E4%B8%96\" title=\"托鲁姬斯二世\">托鲁姬斯二世</a> • <a href=\"/index.php?title=%E8%8E%89%E5%A5%A5&amp;action=edit&amp;redlink=1\" class=\"new\" title=\"莉奥（页面不存在）\">莉奥</a> • <a href=\"/%E8%89%BE%E9%9B%85%E8%8E%89%E6%96%AF\" title=\"艾雅莉斯\">艾雅莉斯</a> • <a href=\"/%E6%9D%9C%E6%8B%89%E6%96%AF%E5%A7%AC\" title=\"杜拉斯姬\">杜拉斯姬</a> • <a href=\"/index.php?title=%E6%8B%9C%E5%8F%B6%E5%BF%92&amp;action=edit&amp;redlink=1\" class=\"new\" title=\"拜叶忒（页面不存在）\">拜叶忒</a> • <a href=\"/index.php?title=%E8%8E%AB%E4%B8%98%E8%8E%89&amp;action=edit&amp;redlink=1\" class=\"new\" title=\"莫丘莉（页面不存在）\">莫丘莉</a>• <a href=\"/index.php?title=%E6%AF%94%E5%B0%94%E6%AD%8C&amp;action=edit&amp;redlink=1\" class=\"new\" title=\"比尔歌（页面不存在）\">比尔歌</a> • <a href=\"/index.php?title=%E6%AF%94%E5%B0%94%E6%AD%8C%E4%BA%8C%E4%B8%96&amp;action=edit&amp;redlink=1\" class=\"new\" title=\"比尔歌二世（页面不存在）\">比尔歌二世</a> • <a href=\"/%E8%89%BE%E7%A2%A7%E5%AE%89\" title=\"艾碧安\">艾碧安</a></div></td></tr><tr style=\"height:2px\"><td></td></tr><tr><td class=\"navbox-group\" style=\";width:3em;\">新机动战记高达W<br />～双重故事 G-UNIT</td><td style=\"text-align:left;border-left:2px solid #fdfdfd;width:100%;padding:0px;width: auto;;;\" class=\"navbox-list navbox-even\"><div style=\"padding:0em 0.25em\"><a href=\"/index.php?title=%E5%8F%8C%E5%AD%90%E5%A7%AC01&amp;action=edit&amp;redlink=1\" class=\"new\" title=\"双子姬01（页面不存在）\">双子姬01</a> • <a href=\"/index.php?title=%E5%8F%8C%E5%AD%90%E5%A7%AC02&amp;action=edit&amp;redlink=1\" class=\"new\" title=\"双子姬02（页面不存在）\">双子姬02</a> • <a href=\"/index.php?title=%E9%9F%B3%E9%80%9F%E5%A7%AC&amp;action=edit&amp;redlink=1\" class=\"new\" title=\"音速姬（页面不存在）\">音速姬</a> • <a href=\"/index.php?title=%E5%A8%85%E6%96%AF%E5%8F%A4%E8%8E%89%E5%A5%A5&amp;action=edit&amp;redlink=1\" class=\"new\" title=\"娅斯古莉奥（页面不存在）\">娅斯古莉奥</a> • <a href=\"/index.php?title=%E5%B7%B4%E6%81%A9%E8%8E%89%E5%A5%A5&amp;action=edit&amp;redlink=1\" class=\"new\" title=\"巴恩莉奥（页面不存在）\">巴恩莉奥</a> • <a href=\"/index.php?title=%E5%B9%BB%E7%9B%B8%E5%AD%90&amp;action=edit&amp;redlink=1\" class=\"new\" title=\"幻相子（页面不存在）\">幻相子</a> • <a href=\"/index.php?title=%E8%8E%89%E5%A5%A5S%E5%A7%AC&amp;action=edit&amp;redlink=1\" class=\"new\" title=\"莉奥S姬（页面不存在）\">莉奥S姬</a>• <a href=\"/index.php?title=%E8%8E%89%E5%A5%A5L%E5%A7%AC&amp;action=edit&amp;redlink=1\" class=\"new\" title=\"莉奥L姬（页面不存在）\">莉奥L姬</a> • <a href=\"/index.php?title=%E8%8E%89%E5%A5%A5N%E5%A7%AC&amp;action=edit&amp;redlink=1\" class=\"new\" title=\"莉奥N姬（页面不存在）\">莉奥N姬</a> • <a href=\"/index.php?title=%E6%8B%9C%E5%8F%B6%E5%BF%92%C2%B7%E5%B8%88%E5%B0%94%E5%8D%8E&amp;action=edit&amp;redlink=1\" class=\"new\" title=\"拜叶忒·师尔华（页面不存在）\">拜叶忒·师尔华</a> • <a href=\"/index.php?title=%E8%8E%AB%E4%B8%98%E8%8E%89%C2%B7%E5%B8%88%E5%B0%94%E5%8D%8E&amp;action=edit&amp;redlink=1\" class=\"new\" title=\"莫丘莉·师尔华（页面不存在）\">莫丘莉·师尔华</a> • <a href=\"/index.php?title=%E6%B5%B7%E5%BE%B7%E6%8B%89%E5%A7%AC&amp;action=edit&amp;redlink=1\" class=\"new\" title=\"海德拉姬（页面不存在）\">海德拉姬</a></div></td></tr><tr style=\"height:2px\"><td></td></tr><tr><td class=\"navbox-group\" style=\";width:3em;\">新机动战记高达<br />W～无尽的华尔兹</td><td style=\"text-align:left;border-left:2px solid #fdfdfd;width:100%;padding:0px;width: auto;;;\" class=\"navbox-list navbox-even\"><div style=\"padding:0em 0.25em\"><a href=\"/%E9%A3%9E%E7%BF%BC%E5%A7%AC(EW)\" title=\"飞翼姬(EW)\">飞翼姬(EW)</a>• <a href=\"/%E9%9B%B6%E5%BC%8F%E5%AD%90(EW)\" title=\"零式子(EW)\">零式子(EW)</a> • <a href=\"/%E5%9C%B0%E7%8B%B1%E5%AD%90(EW)\" title=\"地狱子(EW)\">地狱子(EW)</a> • <a href=\"/index.php?title=%E9%87%8D%E8%A3%85%E5%A7%AC%E6%94%B9(EW)&amp;action=edit&amp;redlink=1\" class=\"new\" title=\"重装姬改(EW)（页面不存在）\">重装姬改(EW)</a> • <a href=\"/%E6%B2%99%E6%BC%A0%E5%A7%AC%E6%94%B9(EW)\" title=\"沙漠姬改(EW)\">沙漠姬改(EW)</a> • <a href=\"/%E5%93%AA%E5%90%92%E5%AD%90\" title=\"哪吒子\">哪吒子</a> • <a href=\"/%E6%89%98%E9%B2%81%E5%A7%AC%E6%96%AF%E4%B8%89%E4%B8%96\" title=\"托鲁姬斯三世\">托鲁姬斯三世</a> • <a href=\"/%E8%89%BE%E7%A2%A7%E5%AE%89(EW)\" title=\"艾碧安(EW)\">艾碧安(EW)</a> • <a href=\"/index.php?title=%E5%A4%A7%E6%AF%92%E8%9B%87%E5%A7%AC&amp;action=edit&amp;redlink=1\" class=\"new\" title=\"大毒蛇姬（页面不存在）\">大毒蛇姬</a></div></td></tr><tr style=\"height:2px\"><td></td></tr><tr><td class=\"navbox-group\" style=\";width:3em;\">新机动世纪高达X</td><td style=\"text-align:left;border-left:2px solid #fdfdfd;width:100%;padding:0px;width: auto;;;\" class=\"navbox-list navbox-even\"><div style=\"padding:0em 0.25em\"><a href=\"/X%E5%A7%AC\" title=\"X姬\">X姬</a> • <a href=\"/%E5%88%86%E8%A3%82%E5%A7%AC\" title=\"分裂姬\">分裂姬</a> • <a href=\"/DX%E5%A7%AC\" title=\"DX姬\">DX姬</a> • <a href=\"/G%E7%8C%8E%E9%B9%B0\" title=\"G猎鹰\">G猎鹰</a> • <a href=\"/index.php?title=%E7%A9%BA%E4%B8%AD%E9%9C%B8%E7%8E%8B%E5%A7%AC&amp;action=edit&amp;redlink=1\" class=\"new\" title=\"空中霸王姬（页面不存在）\">空中霸王姬</a> • <a href=\"/index.php?title=%E7%A9%BA%E4%B8%AD%E9%9C%B8%E7%8E%8B%C2%B7%E7%88%86%E8%A3%82%E5%A7%AC&amp;action=edit&amp;redlink=1\" class=\"new\" title=\"空中霸王·爆裂姬（页面不存在）\">空中霸王·爆裂姬</a> • <a href=\"/%E6%96%91%E8%B1%B9%E5%A7%AC\" title=\"斑豹姬\">斑豹姬</a>• <a href=\"/index.php?title=%E6%96%91%E8%B1%B9%E5%A7%AC%C2%B7%E6%AF%81%E7%81%AD%E8%80%85&amp;action=edit&amp;redlink=1\" class=\"new\" title=\"斑豹姬·毁灭者（页面不存在）\">斑豹姬·毁灭者</a> • <a href=\"/index.php?title=%E6%9C%B5%E6%89%98%E5%88%97%E6%96%AF&amp;action=edit&amp;redlink=1\" class=\"new\" title=\"朵托列斯（页面不存在）\">朵托列斯</a> • <a href=\"/index.php?title=%E6%8C%87%E6%8C%A5%E5%9E%8B%E6%9C%B5%E6%89%98%E5%88%97%E6%96%AF&amp;action=edit&amp;redlink=1\" class=\"new\" title=\"指挥型朵托列斯（页面不存在）\">指挥型朵托列斯</a> • <a href=\"/index.php?title=%E7%82%AE%E5%87%BB%E5%9E%8B%E6%9C%B5%E6%89%98%E5%88%97%E6%96%AF&amp;action=edit&amp;redlink=1\" class=\"new\" title=\"炮击型朵托列斯（页面不存在）\">炮击型朵托列斯</a> • <a href=\"/index.php?title=%E6%96%B0%E6%9C%B5%E6%89%98%E5%88%97%E6%96%AF&amp;action=edit&amp;redlink=1\" class=\"new\" title=\"新朵托列斯（页面不存在）\">新朵托列斯</a> • <a href=\"/index.php?title=%E7%93%A6%E8%8E%89%E6%81%A9%E7%89%B9&amp;action=edit&amp;redlink=1\" class=\"new\" title=\"瓦莉恩特（页面不存在）\">瓦莉恩特</a> • <a href=\"/%E8%8A%B1%E8%8E%8E%E6%AD%8C\" title=\"花莎歌\">花莎歌</a> • <a href=\"/index.php?title=%E8%8A%B1%E8%8E%8E%E6%AD%8C%C2%B7%E7%A0%B4%E5%9D%8F%E8%80%85&amp;action=edit&amp;redlink=1\" class=\"new\" title=\"花莎歌·破坏者（页面不存在）\">花莎歌·破坏者</a> • <a href=\"/%E9%98%BF%E4%B8%9D%E5%A1%94%E9%9A%86\" title=\"阿丝塔隆\">阿丝塔隆</a> • <a href=\"/index.php?title=%E9%98%BF%E4%B8%9D%E5%A1%94%E9%9A%86%C2%B7%E9%9A%90%E8%97%8F%E8%80%85&amp;action=edit&amp;redlink=1\" class=\"new\" title=\"阿丝塔隆·隐藏者（页面不存在）\">阿丝塔隆·隐藏者</a>• <a href=\"/index.php?title=%E5%A9%95%E5%A6%AE%E4%B8%9D&amp;action=edit&amp;redlink=1\" class=\"new\" title=\"婕妮丝（页面不存在）\">婕妮丝</a> • <a href=\"/index.php?title=%E7%89%B9%E8%A3%85%E5%9E%8B%E8%89%BE%E5%A6%AE%E9%9C%B2&amp;action=edit&amp;redlink=1\" class=\"new\" title=\"特装型艾妮露（页面不存在）\">特装型艾妮露</a> • <a href=\"/index.php?title=%E7%A5%96%E6%8B%89%E6%A0%BC%E5%A7%AC&amp;action=edit&amp;redlink=1\" class=\"new\" title=\"祖拉格姬（页面不存在）\">祖拉格姬</a> • <a href=\"/index.php?title=%E8%B5%9B%E6%99%AE%E5%BF%92%E5%A7%86&amp;action=edit&amp;redlink=1\" class=\"new\" title=\"赛普忒姆（页面不存在）\">赛普忒姆</a> • <a href=\"/index.php?title=%E8%B5%9B%E6%99%AE%E5%BF%92%E5%A7%86%E6%94%B9&amp;action=edit&amp;redlink=1\" class=\"new\" title=\"赛普忒姆改（页面不存在）\">赛普忒姆改</a> • <a href=\"/index.php?title=%E5%A5%A5%E5%85%8B%E6%8F%90%E8%8A%99&amp;action=edit&amp;redlink=1\" class=\"new\" title=\"奥克提芙（页面不存在）\">奥克提芙</a> • <a href=\"/index.php?title=%E5%85%8B%E9%B2%81%E5%A6%B2&amp;action=edit&amp;redlink=1\" class=\"new\" title=\"克鲁妲（页面不存在）\">克鲁妲</a> • <a href=\"/index.php?title=%E5%85%B0%E6%96%AF%E6%B4%9B%E4%B8%93%E7%94%A8%E5%85%8B%E9%B2%81%E5%A6%B2&amp;action=edit&amp;redlink=1\" class=\"new\" title=\"兰斯洛专用克鲁妲（页面不存在）\">兰斯洛专用克鲁妲</a>• <a href=\"/index.php?title=%E6%B3%95%E8%B4%9D%E8%8E%B1%E5%B0%94&amp;action=edit&amp;redlink=1\" class=\"new\" title=\"法贝莱尔（页面不存在）\">法贝莱尔</a> • <a href=\"/index.php?title=%E8%B4%9D%E8%92%82%E6%AD%8C&amp;action=edit&amp;redlink=1\" class=\"new\" title=\"贝蒂歌（页面不存在）\">贝蒂歌</a> • <a href=\"/index.php?title=%E6%A0%BC%E5%85%B0%E8%92%82%E5%A6%AE&amp;action=edit&amp;redlink=1\" class=\"new\" title=\"格兰蒂妮（页面不存在）\">格兰蒂妮</a> • <a href=\"/index.php?title=%E5%B8%95%E7%89%B9%E8%8E%89%E5%A8%85&amp;action=edit&amp;redlink=1\" class=\"new\" title=\"帕特莉娅（页面不存在）\">帕特莉娅</a> • <a href=\"/index.php?title=GXBit%E5%A7%AC&amp;action=edit&amp;redlink=1\" class=\"new\" title=\"GXBit姬（页面不存在）\">GXBit姬</a> • <a href=\"/index.php?title=D.O.M.E.Bit%E5%A7%AC&amp;action=edit&amp;redlink=1\" class=\"new\" title=\"D.O.M.E.Bit姬（页面不存在）\">D.O.M.E.Bit姬</a></div></td></tr><tr style=\"height:2px\"><td></td></tr><tr><td class=\"navbox-group\" style=\";width:3em;\">TURN A高达</td><td style=\"text-align:left;border-left:2px solid #fdfdfd;width:100%;padding:0px;width: auto;;;\" class=\"navbox-list navbox-even\"><div style=\"padding:0em 0.25em\"><a href=\"/%E2%88%80%E5%A7%AC\" title=\"∀姬\">∀姬</a> • <a href=\"/%E5%8D%A1%E6%99%AE%E5%B0%94\" title=\"卡普尔\">卡普尔</a> • <a href=\"/index.php?title=%E7%A7%91%E4%BC%A6%E5%8D%A1%E6%99%AE%E5%B0%94%E5%A7%AC&amp;action=edit&amp;redlink=1\" class=\"new\" title=\"科伦卡普尔姬（页面不存在）\">科伦卡普尔姬</a> • <a href=\"/index.php?title=%E5%8D%9A%E5%8A%A0%E5%86%9C%E5%A7%AC&amp;action=edit&amp;redlink=1\" class=\"new\" title=\"博加农姬（页面不存在）\">博加农姬</a> • <a href=\"/index.php?title=%E5%98%89%E7%8F%AD%E4%B8%93%E7%94%A8%E5%8D%9A%E5%8A%A0%E5%86%9C%E5%A7%AC&amp;action=edit&amp;redlink=1\" class=\"new\" title=\"嘉班专用博加农姬（页面不存在）\">嘉班专用博加农姬</a> • <a href=\"/index.php?title=%E9%93%B6%E8%8B%8F%E6%91%A9%E5%AD%90&amp;action=edit&amp;redlink=1\" class=\"new\" title=\"银苏摩子（页面不存在）\">银苏摩子</a>• <a href=\"/index.php?title=%E9%87%91%E8%8B%8F%E6%91%A9%E5%AD%90&amp;action=edit&amp;redlink=1\" class=\"new\" title=\"金苏摩子（页面不存在）\">金苏摩子</a> • <a href=\"/index.php?title=%E7%93%A6%E6%9C%B5%E5%A7%86&amp;action=edit&amp;redlink=1\" class=\"new\" title=\"瓦朵姆（页面不存在）\">瓦朵姆</a> • <a href=\"/index.php?title=%E5%BC%BA%E5%8C%96%E5%9E%8B%E7%93%A6%E6%9C%B5%E5%A7%86&amp;action=edit&amp;redlink=1\" class=\"new\" title=\"强化型瓦朵姆（页面不存在）\">强化型瓦朵姆</a> • <a href=\"/index.php?title=%E7%93%A6%E5%BE%B7%E5%A7%AC&amp;action=edit&amp;redlink=1\" class=\"new\" title=\"瓦德姬（页面不存在）\">瓦德姬</a> • <a href=\"/index.php?title=%E8%8A%99%E8%8E%B1%E7%89%B9&amp;action=edit&amp;redlink=1\" class=\"new\" title=\"芙莱特（页面不存在）\">芙莱特</a> • <a href=\"/%E9%AB%98%E8%B7%9F%E9%9E%8B\" title=\"高跟鞋\">高跟鞋</a> • <a href=\"/index.php?title=%E7%A9%86%E6%89%98%E5%A7%AC&amp;action=edit&amp;redlink=1\" class=\"new\" title=\"穆托姬（页面不存在）\">穆托姬</a> • <a href=\"/index.php?title=%E4%BC%8A%E6%A0%BC%E5%B0%94&amp;action=edit&amp;redlink=1\" class=\"new\" title=\"伊格尔（页面不存在）\">伊格尔</a> • <a href=\"/index.php?title=%E6%88%88%E4%BD%90%E5%A7%AC&amp;action=edit&amp;redlink=1\" class=\"new\" title=\"戈佐姬（页面不存在）\">戈佐姬</a> • <a href=\"/index.php?title=%E5%85%B9%E6%95%A3%E5%A7%AC&amp;action=edit&amp;redlink=1\" class=\"new\" title=\"兹散姬（页面不存在）\">兹散姬</a>• <a href=\"/index.php?title=%E7%8E%9B%E5%B8%8C%E8%90%9D&amp;action=edit&amp;redlink=1\" class=\"new\" title=\"玛希萝（页面不存在）\">玛希萝</a> • <a href=\"/index.php?title=%E7%8F%AD%E8%92%82%E7%89%B9&amp;action=edit&amp;redlink=1\" class=\"new\" title=\"班蒂特（页面不存在）\">班蒂特</a> • <a href=\"/%E5%80%92X%E5%A7%AC\" title=\"倒X姬\">倒X姬</a></div></td></tr><tr style=\"height:2px\"><td></td></tr><tr><td class=\"navbox-group\" style=\";width:3em;\">机动战士高达<br />SEED</td><td style=\"text-align:left;border-left:2px solid #fdfdfd;width:100%;padding:0px;width: auto;;;\" class=\"navbox-list navbox-even\"><div style=\"padding:0em 0.25em\"><a href=\"/%E5%BC%BA%E8%A2%AD%E5%A7%AC\" title=\"强袭姬\">强袭姬</a> • <a href=\"/%E5%AB%A3%E7%BA%A2%E5%BC%BA%E8%A2%AD%E5%A7%AC\" title=\"嫣红强袭姬\">嫣红强袭姬</a> • <a href=\"/%E5%86%B3%E6%96%97%E5%AD%90\" title=\"决斗子\">决斗子</a> • <a href=\"/%E6%9A%B4%E9%A3%8E%E5%AD%90(%E9%AB%98%E8%BE%BE)\" title=\"暴风子(高达)\">暴风子</a>• <a href=\"/%E8%BF%85%E9%9B%B7%E5%AD%90\" title=\"迅雷子\">迅雷子</a> • <a href=\"/%E5%9C%A3%E7%9B%BE%E5%A7%AC\" title=\"圣盾姬\">圣盾姬</a> • <a href=\"/%E8%87%AA%E7%94%B1%E5%A7%AC\" title=\"自由姬\">自由姬</a> • <a href=\"/index.php?title=%E8%87%AA%E7%94%B1%E5%A7%AC(%E6%B5%81%E6%98%9F)&amp;action=edit&amp;redlink=1\" class=\"new\" title=\"自由姬(流星)（页面不存在）\">自由姬(流星)</a> • <a href=\"/%E6%AD%A3%E4%B9%89%E5%A7%AC\" title=\"正义姬\">正义姬</a> • <a href=\"/index.php?title=%E6%AD%A3%E4%B9%89%E5%A7%AC(%E6%B5%81%E6%98%9F)&amp;action=edit&amp;redlink=1\" class=\"new\" title=\"正义姬(流星)（页面不存在）\">正义姬(流星)</a> • <a href=\"/index.php?title=%E5%BC%82%E7%AB%AF%E5%A7%AC&amp;action=edit&amp;redlink=1\" class=\"new\" title=\"异端姬（页面不存在）\">异端姬</a> • <a href=\"/index.php?title=%E7%9F%AD%E5%89%91%E5%A7%AC&amp;action=edit&amp;redlink=1\" class=\"new\" title=\"短剑姬（页面不存在）\">短剑姬</a> • <a href=\"/index.php?title=%E7%81%BE%E5%8E%84%E5%AD%90&amp;action=edit&amp;redlink=1\" class=\"new\" title=\"灾厄子（页面不存在）\">灾厄子</a> • <a href=\"/index.php?title=%E7%A6%81%E6%96%AD%E5%AD%90&amp;action=edit&amp;redlink=1\" class=\"new\" title=\"禁断子（页面不存在）\">禁断子</a>• <a href=\"/index.php?title=%E6%8A%A2%E5%A4%BA%E5%AD%90&amp;action=edit&amp;redlink=1\" class=\"new\" title=\"抢夺子（页面不存在）\">抢夺子</a> • <a href=\"/index.php?title=%E9%87%91%E6%81%A9%E5%A7%AC&amp;action=edit&amp;redlink=1\" class=\"new\" title=\"金恩姬（页面不存在）\">金恩姬</a> • <a href=\"/index.php?title=%E9%AB%98%E6%9C%BA%E5%8A%A8%E5%9E%8B%E9%87%91%E6%81%A9%E5%A7%AC&amp;action=edit&amp;redlink=1\" class=\"new\" title=\"高机动型金恩姬（页面不存在）\">高机动型金恩姬</a> • <a href=\"/index.php?title=%E5%B8%8C%E5%8F%A4%E5%A7%AC&amp;action=edit&amp;redlink=1\" class=\"new\" title=\"希古姬（页面不存在）\">希古姬</a> • <a href=\"/index.php?title=%E8%92%82%E6%81%A9&amp;action=edit&amp;redlink=1\" class=\"new\" title=\"蒂恩（页面不存在）\">蒂恩</a> • <a href=\"/index.php?title=%E7%9B%96%E8%8C%A8%E5%A7%AC&amp;action=edit&amp;redlink=1\" class=\"new\" title=\"盖茨姬（页面不存在）\">盖茨姬</a> • <a href=\"/index.php?title=%E8%8A%AD%E5%BA%93&amp;action=edit&amp;redlink=1\" class=\"new\" title=\"芭库（页面不存在）\">芭库</a> • <a href=\"/index.php?title=%E6%8B%89%E8%94%BB&amp;action=edit&amp;redlink=1\" class=\"new\" title=\"拉蔻（页面不存在）\">拉蔻</a> • <a href=\"/index.php?title=%E7%A5%9E%E6%84%8F%E5%AD%90&amp;action=edit&amp;redlink=1\" class=\"new\" title=\"神意子（页面不存在）\">神意子</a></div></td></tr><tr style=\"height:2px\"><td></td></tr><tr><td class=\"navbox-group\" style=\";width:3em;\">机动战士高达<br />SEED ASTRAY</td><td style=\"text-align:left;border-left:2px solid #fdfdfd;width:100%;padding:0px;width: auto;;;\" class=\"navbox-list navbox-even\"><div style=\"padding:0em 0.25em\"><a href=\"/index.php?title=%E7%BA%A2%E8%89%B2%E5%A7%AC&amp;action=edit&amp;redlink=1\" class=\"new\" title=\"红色姬（页面不存在）\">红色姬</a> • <a href=\"/index.php?title=%E7%BA%A2%E8%89%B2%E5%A7%AC%E5%BC%BA%E5%8A%9B%E5%9E%8B&amp;action=edit&amp;redlink=1\" class=\"new\" title=\"红色姬强力型（页面不存在）\">红色姬强力型</a> • <a href=\"/index.php?title=%E8%93%9D%E8%89%B2%E5%A7%AC&amp;action=edit&amp;redlink=1\" class=\"new\" title=\"蓝色姬（页面不存在）\">蓝色姬</a> • <a href=\"/index.php?title=%E5%BC%82%E7%AB%AF%E5%AD%902%E5%9E%8BL&amp;action=edit&amp;redlink=1\" class=\"new\" title=\"异端子2型L（页面不存在）\">异端子2型L</a> • <a href=\"/index.php?title=%E9%87%91%E8%89%B2%E5%A7%AC&amp;action=edit&amp;redlink=1\" class=\"new\" title=\"金色姬（页面不存在）\">金色姬</a> • <a href=\"/index.php?title=%E4%BC%8A%E8%8E%B1%E6%9D%B0%E4%B8%93%E7%94%A8%E9%87%91%E6%81%A9%E5%A7%AC&amp;action=edit&amp;redlink=1\" class=\"new\" title=\"伊莱杰专用金恩姬（页面不存在）\">伊莱杰专用金恩姬</a></div></td></tr><tr style=\"height:2px\"><td></td></tr><tr><td class=\"navbox-group\" style=\";width:3em;\">机动战士高达<br />SEED XASTRAY</td><td style=\"text-align:left;border-left:2px solid #fdfdfd;width:100%;padding:0px;width: auto;;;\" class=\"navbox-list navbox-even\"><div style=\"padding:0em 0.25em\"><a href=\"/index.php?title=%E5%8B%87%E5%A3%AB%E5%AD%90&amp;action=edit&amp;redlink=1\" class=\"new\" title=\"勇士子（页面不存在）\">勇士子</a> • <a href=\"/index.php?title=X%E5%BC%82%E7%AB%AF%E5%AD%90&amp;action=edit&amp;redlink=1\" class=\"new\" title=\"X异端子（页面不存在）\">X异端子</a>• <a href=\"/index.php?title=%E4%BA%A5%E4%BC%AF%E9%BE%99%E5%A7%AC&amp;action=edit&amp;redlink=1\" class=\"new\" title=\"亥伯龙姬（页面不存在）\">亥伯龙姬</a></div></td></tr><tr style=\"height:2px\"><td></td></tr><tr><td class=\"navbox-group\" style=\";width:3em;\">机动战士高达<br />SEED DESTINY</td><td style=\"text-align:left;border-left:2px solid #fdfdfd;width:100%;padding:0px;width: auto;;;\" class=\"navbox-list navbox-even\"><div style=\"padding:0em 0.25em\"><a href=\"/index.php?title=%E7%A9%BA%E6%88%98%E5%9E%8B%E8%84%89%E5%86%B2%E5%A7%AC&amp;action=edit&amp;redlink=1\" class=\"new\" title=\"空战型脉冲姬（页面不存在）\">空战型脉冲姬</a>• <a href=\"/index.php?title=%E7%82%AE%E6%88%98%E5%9E%8B%E8%84%89%E5%86%B2%E5%A7%AC&amp;action=edit&amp;redlink=1\" class=\"new\" title=\"炮战型脉冲姬（页面不存在）\">炮战型脉冲姬</a> • <a href=\"/index.php?title=%E5%89%91%E6%88%98%E5%9E%8B%E8%84%89%E5%86%B2%E5%A7%AC&amp;action=edit&amp;redlink=1\" class=\"new\" title=\"剑战型脉冲姬（页面不存在）\">剑战型脉冲姬</a> • <a href=\"/index.php?title=%E6%95%91%E4%B8%96%E5%A5%B3%E7%A5%9E&amp;action=edit&amp;redlink=1\" class=\"new\" title=\"救世女神（页面不存在）\">救世女神</a> • <a href=\"/index.php?title=%E6%89%8E%E5%8F%A4%E5%8B%87%E5%A3%AB%E5%A7%AC&amp;action=edit&amp;redlink=1\" class=\"new\" title=\"扎古勇士姬（页面不存在）\">扎古勇士姬</a>• <a href=\"/index.php?title=%E7%9E%AC%E5%8F%91%E5%9E%8B%E6%89%8E%E5%8F%A4%E5%8B%87%E5%A3%AB%E5%A7%AC&amp;action=edit&amp;redlink=1\" class=\"new\" title=\"瞬发型扎古勇士姬（页面不存在）\">瞬发型扎古勇士姬</a> • <a href=\"/index.php?title=%E6%89%8E%E5%8F%A4%E5%B9%BB%E5%BD%B1%E5%A7%AC&amp;action=edit&amp;redlink=1\" class=\"new\" title=\"扎古幻影姬（页面不存在）\">扎古幻影姬</a> • <a href=\"/index.php?title=%E7%9E%AC%E5%8F%91%E5%9E%8B%E6%89%8E%E5%8F%A4%E5%B9%BB%E5%BD%B1%E5%A7%AC&amp;action=edit&amp;redlink=1\" class=\"new\" title=\"瞬发型扎古幻影姬（页面不存在）\">瞬发型扎古幻影姬</a> • <a href=\"/index.php?title=%E7%82%AE%E5%87%BB%E5%9E%8B%E6%89%8E%E5%8F%A4%E5%8B%87%E5%A3%AB%E5%A7%AC&amp;action=edit&amp;redlink=1\" class=\"new\" title=\"炮击型扎古勇士姬（页面不存在）\">炮击型扎古勇士姬</a> • <a href=\"/index.php?title=%E6%96%A9%E5%87%BB%E5%9E%8B%E6%89%8E%E5%8F%A4%E5%B9%BB%E5%BD%B1%E5%A7%AC&amp;action=edit&amp;redlink=1\" class=\"new\" title=\"斩击型扎古幻影姬（页面不存在）\">斩击型扎古幻影姬</a> • <a href=\"/index.php?title=%E6%89%8E%E5%8F%A4%E5%8B%87%E5%A3%AB%E5%A7%AC(%E6%BC%94%E5%94%B1%E4%BC%9A%E5%BC%8F%E6%A0%B7)&amp;action=edit&amp;redlink=1\" class=\"new\" title=\"扎古勇士姬(演唱会式样)（页面不存在）\">扎古勇士姬(演唱会式样)</a> • <a href=\"/index.php?title=%E7%83%88%E7%84%B0%E8%80%81%E8%99%8E%E5%AD%90&amp;action=edit&amp;redlink=1\" class=\"new\" title=\"烈焰老虎子（页面不存在）\">烈焰老虎子</a> • <a href=\"/%E5%91%BD%E8%BF%90%E5%AD%90\" title=\"命运子\">命运子</a> • <a href=\"/%E4%BC%A0%E8%AF%B4%E5%AD%90\" title=\"传说子\">传说子</a> • <a href=\"/index.php?title=%E7%9B%96%E8%8C%A8R%E5%A7%AC&amp;action=edit&amp;redlink=1\" class=\"new\" title=\"盖茨R姬（页面不存在）\">盖茨R姬</a> • <a href=\"/index.php?title=%E8%8A%AD%E8%8A%98&amp;action=edit&amp;redlink=1\" class=\"new\" title=\"芭芘（页面不存在）\">芭芘</a> • <a href=\"/index.php?title=%E9%AB%98%E6%9C%BA%E5%8A%A82%E5%9E%8B%E9%87%91%E6%81%A9%E5%A7%AC&amp;action=edit&amp;redlink=1\" class=\"new\" title=\"高机动2型金恩姬（页面不存在）\">高机动2型金恩姬</a> • <a href=\"/index.php?title=%E6%B7%B7%E6%B2%8C%E5%AD%90&amp;action=edit&amp;redlink=1\" class=\"new\" title=\"混沌子（页面不存在）\">混沌子</a> • <a href=\"/index.php?title=%E6%B7%B1%E6%B8%8A%E5%AD%90&amp;action=edit&amp;redlink=1\" class=\"new\" title=\"深渊子（页面不存在）\">深渊子</a>• <a href=\"/index.php?title=%E7%9B%96%E4%BA%9A%E5%AD%90&amp;action=edit&amp;redlink=1\" class=\"new\" title=\"盖亚子（页面不存在）\">盖亚子</a> • <a href=\"/index.php?title=105%E7%9F%AD%E5%89%91%E5%A7%AC&amp;action=edit&amp;redlink=1\" class=\"new\" title=\"105短剑姬（页面不存在）\">105短剑姬</a> • <a href=\"/index.php?title=%E7%9F%AD%E5%89%91L%E5%A7%AC&amp;action=edit&amp;redlink=1\" class=\"new\" title=\"短剑L姬（页面不存在）\">短剑L姬</a> • <a href=\"/index.php?title=%E9%BB%91%E8%89%B2%E7%9F%AD%E5%89%91%E5%A7%AC&amp;action=edit&amp;redlink=1\" class=\"new\" title=\"黑色短剑姬（页面不存在）\">黑色短剑姬</a>• <a href=\"/index.php?title=%E6%B8%A9%E5%A6%B2%E5%A7%86&amp;action=edit&amp;redlink=1\" class=\"new\" title=\"温妲姆（页面不存在）\">温妲姆</a> • <a href=\"/index.php?title=%E8%89%BE%E6%A0%BC%E8%90%A8%E6%96%AF&amp;action=edit&amp;redlink=1\" class=\"new\" title=\"艾格萨斯（页面不存在）\">艾格萨斯</a> • <a href=\"/index.php?title=%E6%89%8E%E5%A7%86%E6%89%8E%E6%89%8E&amp;action=edit&amp;redlink=1\" class=\"new\" title=\"扎姆扎扎（页面不存在）\">扎姆扎扎</a> • <a href=\"/index.php?title=%E7%9B%96%E5%B0%94%E5%85%B9%E6%A0%BC&amp;action=edit&amp;redlink=1\" class=\"new\" title=\"盖尔兹格（页面不存在）\">盖尔兹格</a> • <a href=\"/index.php?title=%E6%AF%81%E7%81%AD%E5%AD%90&amp;action=edit&amp;redlink=1\" class=\"new\" title=\"毁灭子（页面不存在）\">毁灭子</a> • <a href=\"/index.php?title=%E6%9D%91%E9%9B%A8%E5%AD%90&amp;action=edit&amp;redlink=1\" class=\"new\" title=\"村雨子（页面不存在）\">村雨子</a> • <a href=\"/%E6%8B%82%E6%99%93%E5%AD%90\" title=\"拂晓子\">拂晓子</a> • <a href=\"/index.php?title=%E5%A4%A7%E9%AD%94%E5%A5%B3%E9%AA%91%E5%85%B5&amp;action=edit&amp;redlink=1\" class=\"new\" title=\"大魔女骑兵（页面不存在）\">大魔女骑兵</a> • <a href=\"/%E5%BC%BA%E8%A2%AD%E8%87%AA%E7%94%B1%E5%A7%AC\" title=\"强袭自由姬\">强袭自由姬</a> • <a href=\"/index.php?title=%E5%BC%BA%E8%A2%AD%E8%87%AA%E7%94%B1%E5%A7%AC(%E6%B5%81%E6%98%9F)&amp;action=edit&amp;redlink=1\" class=\"new\" title=\"强袭自由姬(流星)（页面不存在）\">强袭自由姬(流星)</a> • <a href=\"/%E6%97%A0%E9%99%90%E6%AD%A3%E4%B9%89%E5%A7%AC\" title=\"无限正义姬\">无限正义姬</a> • <a href=\"/index.php?title=%E6%97%A0%E9%99%90%E6%AD%A3%E4%B9%89%E5%A7%AC(%E6%B5%81%E6%98%9F)&amp;action=edit&amp;redlink=1\" class=\"new\" title=\"无限正义姬(流星)（页面不存在）\">无限正义姬(流星)</a></div></td></tr><tr style=\"height:2px\"><td></td></tr><tr><td class=\"navbox-group\" style=\";width:3em;\">机动战士高达<br />SEED C.E.73<br />STARTGAZER</td><td style=\"text-align:left;border-left:2px solid #fdfdfd;width:100%;padding:0px;width: auto;;;\" class=\"navbox-list navbox-even\"><div style=\"padding:0em 0.25em\"><a href=\"/index.php?title=%E8%A7%82%E6%98%9F%E5%A7%AC&amp;action=edit&amp;redlink=1\" class=\"new\" title=\"观星姬（页面不存在）\">观星姬</a>• <a href=\"/%E6%BC%86%E9%BB%91%E5%BC%BA%E8%A2%AD%E5%A7%AC\" title=\"漆黑强袭姬\">漆黑强袭姬</a> • <a href=\"/index.php?title=%E8%94%9A%E8%93%9D%E5%A7%AC&amp;action=edit&amp;redlink=1\" class=\"new\" title=\"蔚蓝姬（页面不存在）\">蔚蓝姬</a> • <a href=\"/index.php?title=%E7%BF%A0%E7%BB%BF%E5%A7%AC&amp;action=edit&amp;redlink=1\" class=\"new\" title=\"翠绿姬（页面不存在）\">翠绿姬</a> • <a href=\"/index.php?title=%E5%B1%A0%E6%9D%80%E5%A7%AC&amp;action=edit&amp;redlink=1\" class=\"new\" title=\"屠杀姬（页面不存在）\">屠杀姬</a> • <a href=\"/index.php?title=%E5%9C%B0%E7%8B%B1%E7%8A%AC%E5%9E%8B%E8%8A%AD%E5%BA%93&amp;action=edit&amp;redlink=1\" class=\"new\" title=\"地狱犬型芭库（页面不存在）\">地狱犬型芭库</a></div></td></tr><tr style=\"height:2px\"><td></td></tr><tr><td class=\"navbox-group\" style=\";width:3em;\">机动战士高达00</td><td style=\"text-align:left;border-left:2px solid #fdfdfd;width:100%;padding:0px;width: auto;;;\" class=\"navbox-list navbox-even\"><div style=\"padding:0em 0.25em\"><a href=\"/index.php?title=%E8%83%BD%E5%A4%A9%E4%BD%BF&amp;action=edit&amp;redlink=1\" class=\"new\" title=\"能天使（页面不存在）\">能天使</a>• <a href=\"/index.php?title=%E5%8A%9B%E5%A4%A9%E4%BD%BF(MS)&amp;action=edit&amp;redlink=1\" class=\"new\" title=\"力天使(MS)（页面不存在）\">力天使(MS)</a> • <a href=\"/index.php?title=%E4%B8%BB%E5%A4%A9%E4%BD%BF(MS)&amp;action=edit&amp;redlink=1\" class=\"new\" title=\"主天使(MS)（页面不存在）\">主天使(MS)</a> • <a href=\"/index.php?title=%E5%BE%B7%E5%A4%A9%E4%BD%BF&amp;action=edit&amp;redlink=1\" class=\"new\" title=\"德天使（页面不存在）\">德天使</a> • <a href=\"/index.php?title=%E5%A8%9C%E5%BE%B7%E9%9B%B7&amp;action=edit&amp;redlink=1\" class=\"new\" title=\"娜德雷（页面不存在）\">娜德雷</a>• <a href=\"/index.php?title=GN%E5%A0%A1%E5%9E%92%E5%A7%AC(TYPE-D)&amp;action=edit&amp;redlink=1\" class=\"new\" title=\"GN堡垒姬(TYPE-D)（页面不存在）\">GN堡垒姬(TYPE-D)</a> • <a href=\"/index.php?title=GN%E5%A0%A1%E5%9E%92%E5%A7%AC(TYPE-E)&amp;action=edit&amp;redlink=1\" class=\"new\" title=\"GN堡垒姬(TYPE-E)（页面不存在）\">GN堡垒姬(TYPE-E)</a> • <a href=\"/index.php?title=%E5%BA%A7%E5%A4%A9%E4%BD%BF%E4%B8%80%E5%9E%8B&amp;action=edit&amp;redlink=1\" class=\"new\" title=\"座天使一型（页面不存在）\">座天使一型</a> • <a href=\"/index.php?title=%E5%BA%A7%E5%A4%A9%E4%BD%BF%E4%BA%8C%E5%9E%8B&amp;action=edit&amp;redlink=1\" class=\"new\" title=\"座天使二型（页面不存在）\">座天使二型</a> • <a href=\"/index.php?title=%E5%BA%A7%E5%A4%A9%E4%BD%BF%E4%B8%89%E5%9E%8B&amp;action=edit&amp;redlink=1\" class=\"new\" title=\"座天使三型（页面不存在）\">座天使三型</a> • <a href=\"/index.php?title=%E8%81%94%E5%90%88%E8%AE%AD%E7%BB%83%E5%A7%AC&amp;action=edit&amp;redlink=1\" class=\"new\" title=\"联合训练姬（页面不存在）\">联合训练姬</a> • <a href=\"/index.php?title=%E8%81%94%E5%90%88%E6%97%97%E5%B8%9C%E5%A7%AC&amp;action=edit&amp;redlink=1\" class=\"new\" title=\"联合旗帜姬（页面不存在）\">联合旗帜姬</a> • <a href=\"/index.php?title=%E6%A0%BC%E6%8B%89%E6%B1%89%E5%A7%86%E4%B8%93%E7%94%A8%E6%97%97%E5%B8%9C%E5%A7%AC&amp;action=edit&amp;redlink=1\" class=\"new\" title=\"格拉汉姆专用旗帜姬（页面不存在）\">格拉汉姆专用旗帜姬</a> • <a href=\"/index.php?title=%E8%B6%85%E8%B6%8A%E6%97%97%E5%B8%9C%E5%A7%AC&amp;action=edit&amp;redlink=1\" class=\"new\" title=\"超越旗帜姬（页面不存在）\">超越旗帜姬</a> • <a href=\"/index.php?title=GN%E6%97%97%E5%B8%9C%E5%A7%AC&amp;action=edit&amp;redlink=1\" class=\"new\" title=\"GN旗帜姬（页面不存在）\">GN旗帜姬</a> • <a href=\"/index.php?title=AEU%E6%9A%B4%E5%BE%92%E5%AD%90&amp;action=edit&amp;redlink=1\" class=\"new\" title=\"AEU暴徒子（页面不存在）\">AEU暴徒子</a> • <a href=\"/index.php?title=%E9%99%86%E6%88%98%E5%9E%8BAEU%E6%9A%B4%E5%BE%92%E5%AD%90&amp;action=edit&amp;redlink=1\" class=\"new\" title=\"陆战型AEU暴徒子（页面不存在）\">陆战型AEU暴徒子</a> • <a href=\"/index.php?title=AEU%E5%88%B6%E5%AE%9A%E5%A7%AC&amp;action=edit&amp;redlink=1\" class=\"new\" title=\"AEU制定姬（页面不存在）\">AEU制定姬</a> • <a href=\"/index.php?title=AEU%E5%88%B6%E5%AE%9A%E5%A7%AC(%E6%8C%87%E6%8C%A5%E5%AE%98%E5%9E%8B)&amp;action=edit&amp;redlink=1\" class=\"new\" title=\"AEU制定姬(指挥官型)（页面不存在）\">AEU制定姬(指挥官型)</a> • <a href=\"/index.php?title=%E8%90%A8%E8%B0%A2%E6%96%AF%E4%B8%93%E7%94%A8AEU%E5%88%B6%E5%AE%9A%E5%A7%AC&amp;action=edit&amp;redlink=1\" class=\"new\" title=\"萨谢斯专用AEU制定姬（页面不存在）\">萨谢斯专用AEU制定姬</a> • <a href=\"/index.php?title=%E9%98%BF%E6%A0%BC%E8%8E%89%E6%B2%99&amp;action=edit&amp;redlink=1\" class=\"new\" title=\"阿格莉沙（页面不存在）\">阿格莉沙</a> • <a href=\"/index.php?title=%E9%95%BF%E9%BC%BB%E5%A7%AC&amp;action=edit&amp;redlink=1\" class=\"new\" title=\"长鼻姬（页面不存在）\">长鼻姬</a> • <a href=\"/index.php?title=%E9%99%86%E6%88%98%E5%9E%8B%E9%93%81%E4%BA%BA%E5%A7%AC&amp;action=edit&amp;redlink=1\" class=\"new\" title=\"陆战型铁人姬（页面不存在）\">陆战型铁人姬</a>• <a href=\"/index.php?title=%E8%BF%9C%E8%B7%9D%E7%A6%BB%E7%82%AE%E5%87%BB%E5%9E%8B%E9%93%81%E4%BA%BA%E5%A7%AC&amp;action=edit&amp;redlink=1\" class=\"new\" title=\"远距离炮击型铁人姬（页面不存在）\">远距离炮击型铁人姬</a> • <a href=\"/index.php?title=%E5%AE%87%E5%AE%99%E5%9E%8B%E9%93%81%E4%BA%BA%E5%A7%AC&amp;action=edit&amp;redlink=1\" class=\"new\" title=\"宇宙型铁人姬（页面不存在）\">宇宙型铁人姬</a> • <a href=\"/index.php?title=%E9%AB%98%E6%9C%BA%E5%8A%A8%E5%9E%8B%E9%93%81%E4%BA%BA%E5%A7%AC&amp;action=edit&amp;redlink=1\" class=\"new\" title=\"高机动型铁人姬（页面不存在）\">高机动型铁人姬</a> • <a href=\"/index.php?title=%E9%AB%98%E6%9C%BA%E5%8A%A8B%E5%9E%8B%E9%93%81%E4%BA%BA%E5%A7%AC&amp;action=edit&amp;redlink=1\" class=\"new\" title=\"高机动B型铁人姬（页面不存在）\">高机动B型铁人姬</a>• <a href=\"/index.php?title=%E6%A1%83%E5%AD%90%E5%A7%AC&amp;action=edit&amp;redlink=1\" class=\"new\" title=\"桃子姬（页面不存在）\">桃子姬</a> • <a href=\"/index.php?title=GN-X%E5%A7%AC&amp;action=edit&amp;redlink=1\" class=\"new\" title=\"GN-X姬（页面不存在）\">GN-X姬</a> • <a href=\"/index.php?title=%E9%98%BF%E7%93%A6%E7%89%B9%E8%95%BE&amp;action=edit&amp;redlink=1\" class=\"new\" title=\"阿瓦特蕾（页面不存在）\">阿瓦特蕾</a> • <a href=\"/index.php?title=%E9%98%BF%E7%93%A6%E7%89%B9%E9%9A%86&amp;action=edit&amp;redlink=1\" class=\"new\" title=\"阿瓦特隆（页面不存在）\">阿瓦特隆</a> • <a href=\"/index.php?title=0%E5%A7%AC&amp;action=edit&amp;redlink=1\" class=\"new\" title=\"0姬（页面不存在）\">0姬</a> • <a href=\"/index.php?title=00%E5%A7%AC&amp;action=edit&amp;redlink=1\" class=\"new\" title=\"00姬（页面不存在）\">00姬</a> • <a href=\"/index.php?title=00R%E5%A7%AC&amp;action=edit&amp;redlink=1\" class=\"new\" title=\"00R姬（页面不存在）\">00R姬</a> • <a href=\"/%E4%B8%83%E5%89%91%E5%A8%98\" title=\"七剑娘\">七剑娘</a> • <a href=\"/index.php?title=00R%E5%A7%AC(%E6%9C%80%E7%BB%88%E5%86%B3%E6%88%98%E5%BC%8F%E6%A0%B7)&amp;action=edit&amp;redlink=1\" class=\"new\" title=\"00R姬(最终决战式样)（页面不存在）\">00R姬(最终决战式样)</a> • <a href=\"/%E6%99%BA%E5%A4%A9%E4%BD%BF(MS)\" title=\"智天使(MS)\">智天使(MS)</a> • <a href=\"/index.php?title=%E5%A0%95%E5%A4%A9%E4%BD%BF(MS)&amp;action=edit&amp;redlink=1\" class=\"new\" title=\"堕天使(MS)（页面不存在）\">堕天使(MS)</a> • <a href=\"/index.php?title=%E7%82%BD%E5%A4%A9%E4%BD%BF(MS)&amp;action=edit&amp;redlink=1\" class=\"new\" title=\"炽天使(MS)（页面不存在）\">炽天使(MS)</a> • <a href=\"/index.php?title=%E5%85%AD%E7%BF%BC%E5%A4%A9%E4%BD%BF&amp;action=edit&amp;redlink=1\" class=\"new\" title=\"六翼天使（页面不存在）\">六翼天使</a> • <a href=\"/index.php?title=%E5%BC%93%E5%85%B5%E5%A7%AC&amp;action=edit&amp;redlink=1\" class=\"new\" title=\"弓兵姬（页面不存在）\">弓兵姬</a> • <a href=\"/index.php?title=%E5%BC%93%E5%85%B5%E5%A0%95%E5%A4%A9%E4%BD%BF&amp;action=edit&amp;redlink=1\" class=\"new\" title=\"弓兵堕天使（页面不存在）\">弓兵堕天使</a> • <a href=\"/index.php?title=%E4%BF%AE%E5%A4%8D%E5%9E%8B%E8%83%BD%E5%A4%A9%E4%BD%BF&amp;action=edit&amp;redlink=1\" class=\"new\" title=\"修复型能天使（页面不存在）\">修复型能天使</a> • <a href=\"/index.php?title=%E4%BF%AE%E5%A4%8D%E5%9E%8B%E8%83%BD%E5%A4%A9%E4%BD%BF%E4%BA%8C%E4%B8%96&amp;action=edit&amp;redlink=1\" class=\"new\" title=\"修复型能天使二世（页面不存在）\">修复型能天使二世</a> • <a href=\"/index.php?title=%E5%85%A8%E9%A2%86%E5%9F%9F%E5%BA%94%E5%AF%B9%E5%9E%8B%E9%93%81%E4%BA%BA%E5%A7%AC&amp;action=edit&amp;redlink=1\" class=\"new\" title=\"全领域应对型铁人姬（页面不存在）\">全领域应对型铁人姬</a>• <a href=\"/index.php?title=GN-X%E4%B8%89%E4%B8%96&amp;action=edit&amp;redlink=1\" class=\"new\" title=\"GN-X三世（页面不存在）\">GN-X三世</a>• <a href=\"/index.php?title=%E5%85%88%E9%A9%B1%E5%A7%AC&amp;action=edit&amp;redlink=1\" class=\"new\" title=\"先驱姬（页面不存在）\">先驱姬</a> • <a href=\"/index.php?title=%E9%87%8E%E8%8E%93%E5%A7%AC&amp;action=edit&amp;redlink=1\" class=\"new\" title=\"野莓姬（页面不存在）\">野莓姬</a> • <a href=\"/index.php?title=%E6%AD%A6%E5%A3%AB%E5%AD%90&amp;action=edit&amp;redlink=1\" class=\"new\" title=\"武士子（页面不存在）\">武士子</a> • <a href=\"/index.php?title=%E7%A3%A8%E4%BF%AE%E7%BD%97%E7%94%9F&amp;action=edit&amp;redlink=1\" class=\"new\" title=\"磨修罗生（页面不存在）\">磨修罗生</a> • <a href=\"/index.php?title=%E9%A1%BB%E4%BD%90%E4%B9%8B%E5%A5%B3&amp;action=edit&amp;redlink=1\" class=\"new\" title=\"须佐之女（页面不存在）\">须佐之女</a> • <a href=\"/index.php?title=%E5%A5%B3%E7%A5%9E%E5%AD%90&amp;action=edit&amp;redlink=1\" class=\"new\" title=\"女神子（页面不存在）\">女神子</a> • <a href=\"/index.php?title=%E5%A5%B3%E6%AD%A6%E5%AD%90&amp;action=edit&amp;redlink=1\" class=\"new\" title=\"女武子（页面不存在）\">女武子</a> • <a href=\"/index.php?title=%E7%A5%9E%E5%A5%B3%E5%A7%AC&amp;action=edit&amp;redlink=1\" class=\"new\" title=\"神女姬（页面不存在）\">神女姬</a> • <a href=\"/index.php?title=%E5%A5%B3%E7%9A%87%E5%A7%AC&amp;action=edit&amp;redlink=1\" class=\"new\" title=\"女皇姬（页面不存在）\">女皇姬</a> • <a href=\"/index.php?title=%E7%BB%9F%E5%BE%A1%E5%A7%AC&amp;action=edit&amp;redlink=1\" class=\"new\" title=\"统御姬（页面不存在）\">统御姬</a> • <a href=\"/index.php?title=%E5%98%89%E6%A0%BC&amp;action=edit&amp;redlink=1\" class=\"new\" title=\"嘉格（页面不存在）\">嘉格</a> • <a href=\"/index.php?title=%E6%9D%83%E5%A4%A9%E4%BD%BF(MS)&amp;action=edit&amp;redlink=1\" class=\"new\" title=\"权天使(MS)（页面不存在）\">权天使(MS)</a> • <a href=\"/index.php?title=%E5%86%8D%E7%94%9F%E5%A7%AC&amp;action=edit&amp;redlink=1\" class=\"new\" title=\"再生姬（页面不存在）\">再生姬</a></div></td></tr><tr style=\"height:2px\"><td></td></tr><tr><td class=\"navbox-group\" style=\";width:3em;\">机动战士高达00<br />A wakening<br />of the Trailblazer</td><td style=\"text-align:left;border-left:2px solid #fdfdfd;width:100%;padding:0px;width: auto;;;\" class=\"navbox-list navbox-even\"><div style=\"padding:0em 0.25em\"><a href=\"/%E9%87%8F%E5%AD%90%E5%A7%AC\" title=\"量子姬\">量子姬</a>• <a href=\"/index.php?title=%E7%8B%B1%E5%A4%A9%E4%BD%BF&amp;action=edit&amp;redlink=1\" class=\"new\" title=\"狱天使（页面不存在）\">狱天使</a> • <a href=\"/%E5%A6%96%E5%A4%A9%E4%BD%BF\" title=\"妖天使\">妖天使</a> • <a href=\"/index.php?title=%E7%96%97%E5%A4%A9%E4%BD%BF&amp;action=edit&amp;redlink=1\" class=\"new\" title=\"疗天使（页面不存在）\">疗天使</a> • <a href=\"/index.php?title=%E5%8B%87%E6%B0%94%E5%BC%8F%E4%B8%80%E8%88%AC%E7%94%A8%E8%AF%95%E9%AA%8C%E5%A7%AC&amp;action=edit&amp;redlink=1\" class=\"new\" title=\"勇气式一般用试验姬（页面不存在）\">勇气式一般用试验姬</a> • <a href=\"/index.php?title=%E5%8B%87%E6%B0%94%E5%BC%8F%E6%8C%87%E6%8C%A5%E5%AE%98%E7%94%A8%E8%AF%95%E9%AA%8C%E5%A7%AC&amp;action=edit&amp;redlink=1\" class=\"new\" title=\"勇气式指挥官用试验姬（页面不存在）\">勇气式指挥官用试验姬</a> • <a href=\"/index.php?title=GN-X%E5%9B%9B%E4%B8%96&amp;action=edit&amp;redlink=1\" class=\"new\" title=\"GN-X四世（页面不存在）\">GN-X四世</a>• <a href=\"/index.php?title=ELS%E5%A8%98&amp;action=edit&amp;redlink=1\" class=\"new\" title=\"ELS娘（页面不存在）\">ELS娘</a></div></td></tr><tr style=\"height:2px\"><td></td></tr><tr><td class=\"navbox-group\" style=\";width:3em;\">机动战士高达AGE</td><td style=\"text-align:left;border-left:2px solid #fdfdfd;width:100%;padding:0px;width: auto;;;\" class=\"navbox-list navbox-even\"><div style=\"padding:0em 0.25em\"><a href=\"/index.php?title=AGE-1%E5%A7%AC&amp;action=edit&amp;redlink=1\" class=\"new\" title=\"AGE-1姬（页面不存在）\">AGE-1姬</a>• <a href=\"/index.php?title=%E5%8B%87%E5%B0%86%E5%A7%AC&amp;action=edit&amp;redlink=1\" class=\"new\" title=\"勇将姬（页面不存在）\">勇将姬</a> • <a href=\"/index.php?title=%E9%A3%9E%E9%9B%80%E5%A7%AC&amp;action=edit&amp;redlink=1\" class=\"new\" title=\"飞雀姬（页面不存在）\">飞雀姬</a> • <a href=\"/index.php?title=%E5%A9%95%E8%AF%BA%E5%A8%85%E6%96%AF&amp;action=edit&amp;redlink=1\" class=\"new\" title=\"婕诺娅斯（页面不存在）\">婕诺娅斯</a> • <a href=\"/index.php?title=%E7%89%B9%E8%A3%85%E5%9E%8B%E5%A9%95%E8%AF%BA%E5%A8%85%E6%96%AF&amp;action=edit&amp;redlink=1\" class=\"new\" title=\"特装型婕诺娅斯（页面不存在）\">特装型婕诺娅斯</a> • <a href=\"/index.php?title=G%E8%89%BE%E6%A0%BC%E5%A9%95%E6%96%AF&amp;action=edit&amp;redlink=1\" class=\"new\" title=\"G艾格婕斯（页面不存在）\">G艾格婕斯</a> • <a href=\"/index.php?title=%E5%98%89%E8%8A%99%E5%85%B0&amp;action=edit&amp;redlink=1\" class=\"new\" title=\"嘉芙兰（页面不存在）\">嘉芙兰</a>• <a href=\"/index.php?title=%E8%8A%AD%E5%A5%8E%E6%89%98&amp;action=edit&amp;redlink=1\" class=\"new\" title=\"芭奎托（页面不存在）\">芭奎托</a> • <a href=\"/index.php?title=%E5%A9%95%E5%A6%B2%E6%96%AF&amp;action=edit&amp;redlink=1\" class=\"new\" title=\"婕妲斯（页面不存在）\">婕妲斯</a> • <a href=\"/index.php?title=%E6%B3%95%E5%B0%94%E8%A5%BF%E4%BA%9A&amp;action=edit&amp;redlink=1\" class=\"new\" title=\"法尔西亚（页面不存在）\">法尔西亚</a> • <a href=\"/index.php?title=%E8%92%82%E5%87%A1%E6%96%AF&amp;action=edit&amp;redlink=1\" class=\"new\" title=\"蒂凡斯（页面不存在）\">蒂凡斯</a> • <a href=\"/index.php?title=AGE-2%E5%A7%AC&amp;action=edit&amp;redlink=1\" class=\"new\" title=\"AGE-2姬（页面不存在）\">AGE-2姬</a></div></td></tr><tr style=\"height:2px\"><td></td></tr><tr><td class=\"navbox-group\" style=\";width:3em;\">模型战士<br />GUNPLA BUILDERS<br />BEGINNING G</td><td style=\"text-align:left;border-left:2px solid #fdfdfd;width:100%;padding:0px;width: auto;;;\" class=\"navbox-list navbox-even\"><div style=\"padding:0em 0.25em\"><a href=\"/index.php?title=%E5%88%9D%E5%A7%8B30%E5%A7%AC&amp;action=edit&amp;redlink=1\" class=\"new\" title=\"初始30姬（页面不存在）\">初始30姬</a>• <a href=\"/index.php?title=%E6%B0%B8%E6%81%92%E5%A7%AC&amp;action=edit&amp;redlink=1\" class=\"new\" title=\"永恒姬（页面不存在）\">永恒姬</a> • <a href=\"/index.php?title=%E7%86%8A%E9%9C%B8%E5%A7%AC&amp;action=edit&amp;redlink=1\" class=\"new\" title=\"熊霸姬（页面不存在）\">熊霸姬</a> • <a href=\"/index.php?title=%E8%B6%85%E7%BA%A7%E7%89%B9%E8%A3%85%E6%89%8E%E5%8F%A4%E5%A7%ACF2000&amp;action=edit&amp;redlink=1\" class=\"new\" title=\"超级特装扎古姬F2000（页面不存在）\">超级特装扎古姬F2000</a></div></td></tr><tr style=\"height:2px\"><td></td></tr><tr><td class=\"navbox-group\" style=\";width:3em;\">其他系列</td><td style=\"text-align:left;border-left:2px solid #fdfdfd;width:100%;padding:0px;width: auto;;;\" class=\"navbox-list navbox-even\"><div style=\"padding:0em 0.25em\"><a href=\"/%E5%90%89%E5%A7%86%E6%95%99%E7%BB%83%E5%A7%AC\" title=\"吉姆教练姬\">吉姆教练姬</a>• <a href=\"/index.php?title=%E5%A4%8F%E4%BA%9A%E4%B8%93%E7%94%A8%E8%8E%89%E5%85%8B%C2%B7%E5%A4%A7%E9%AD%94%E5%A5%B3&amp;action=edit&amp;redlink=1\" class=\"new\" title=\"夏亚专用莉克·大魔女（页面不存在）\">夏亚专用莉克·大魔女</a>• <a href=\"/%E5%A4%8F%E4%BA%9A%E4%B8%93%E7%94%A8%E9%AB%98%E8%BE%BE%E5%A7%AC\" title=\"夏亚专用高达姬\">夏亚专用高达姬</a>• <a href=\"/%E5%BC%BA%E5%B0%BC%C2%B7%E8%8E%B1%E4%B8%81%E4%B8%93%E7%94%A8%E6%89%8E%E5%8F%A4%E5%A7%AC\" title=\"强尼·莱丁专用扎古姬\">强尼·莱丁专用扎古姬</a>• <a href=\"/%E9%99%86%E5%9C%B0%E4%B8%93%E7%94%A8%E5%90%89%E5%A7%86%E5%A8%98\" title=\"陆地专用吉姆娘\">陆地专用吉姆娘</a> • <a href=\"/index.php?title=%E6%B0%B4%E4%B8%AD%E5%9E%8B%E5%90%89%E5%A7%86%E5%A8%98&amp;action=edit&amp;redlink=1\" class=\"new\" title=\"水中型吉姆娘（页面不存在）\">水中型吉姆娘</a> • <a href=\"/%E6%B0%B4%E4%B8%AD%E5%9E%8B%E9%AB%98%E8%BE%BE%E5%A7%AC\" title=\"水中型高达姬\">水中型高达姬</a> • <a href=\"/index.php?title=%E8%93%9D%E8%89%B2%E5%91%BD%E8%BF%901%E5%8F%B7%E5%A7%AC&amp;action=edit&amp;redlink=1\" class=\"new\" title=\"蓝色命运1号姬（页面不存在）\">蓝色命运1号姬</a> • <a href=\"/index.php?title=%E8%93%9D%E8%89%B2%E5%91%BD%E8%BF%902%E5%8F%B7%E5%A7%AC&amp;action=edit&amp;redlink=1\" class=\"new\" title=\"蓝色命运2号姬（页面不存在）\">蓝色命运2号姬</a> • <a href=\"/index.php?title=%E8%93%9D%E8%89%B2%E5%91%BD%E8%BF%903%E5%8F%B7%E5%A7%AC&amp;action=edit&amp;redlink=1\" class=\"new\" title=\"蓝色命运3号姬（页面不存在）\">蓝色命运3号姬</a> • <a href=\"/index.php?title=%E4%BC%8A%E8%8A%99%E5%88%A9%E7%89%B9%E6%94%B9&amp;action=edit&amp;redlink=1\" class=\"new\" title=\"伊芙利特改（页面不存在）\">伊芙利特改</a>• <a href=\"/index.php?title=%E9%AB%98%E8%BE%BE4%E5%8F%B7%E5%A7%AC&amp;action=edit&amp;redlink=1\" class=\"new\" title=\"高达4号姬（页面不存在）\">高达4号姬</a> • <a href=\"/index.php?title=%E9%AB%98%E8%BE%BE5%E5%8F%B7%E5%A7%AC&amp;action=edit&amp;redlink=1\" class=\"new\" title=\"高达5号姬（页面不存在）\">高达5号姬</a> • <a href=\"/index.php?title=ACT%E6%89%8E%E5%8F%A4%E5%A7%AC&amp;action=edit&amp;redlink=1\" class=\"new\" title=\"ACT扎古姬（页面不存在）\">ACT扎古姬</a> • <a href=\"/index.php?title=%E9%AB%98%E8%BE%BE6%E5%8F%B7%E5%A7%AC&amp;action=edit&amp;redlink=1\" class=\"new\" title=\"高达6号姬（页面不存在）\">高达6号姬</a> • <a href=\"/index.php?title=%E9%AB%98%E8%BE%BE7%E5%8F%B7%E5%A7%AC&amp;action=edit&amp;redlink=1\" class=\"new\" title=\"高达7号姬（页面不存在）\">高达7号姬</a> • <a href=\"/index.php?title=%E5%85%A8%E8%A3%85%E7%94%B2%E9%AB%98%E8%BE%BE7%E5%8F%B7%E5%A7%AC&amp;action=edit&amp;redlink=1\" class=\"new\" title=\"全装甲高达7号姬（页面不存在）\">全装甲高达7号姬</a> • <a href=\"/index.php?title=%E6%A0%87%E5%87%86%E5%9E%8BRX-81%E5%A7%AC&amp;action=edit&amp;redlink=1\" class=\"new\" title=\"标准型RX-81姬（页面不存在）\">标准型RX-81姬</a> • <a href=\"/index.php?title=%E8%BD%BB%E8%A3%85%E5%9E%8BRX-81%E5%A7%AC&amp;action=edit&amp;redlink=1\" class=\"new\" title=\"轻装型RX-81姬（页面不存在）\">轻装型RX-81姬</a> • <a href=\"/index.php?title=%E5%A4%9C%E6%88%98%E5%9E%8B%E4%BC%8A%E8%8A%99%E8%8E%89%E7%89%B9&amp;action=edit&amp;redlink=1\" class=\"new\" title=\"夜战型伊芙莉特（页面不存在）\">夜战型伊芙莉特</a> • <a href=\"/index.php?title=%E7%B2%BE%E7%81%B5%E5%AD%90&amp;action=edit&amp;redlink=1\" class=\"new\" title=\"精灵子（页面不存在）\">精灵子</a> • <a href=\"/index.php?title=%E4%BC%8A%E8%8A%99%E8%8E%89%E7%89%B9&amp;action=edit&amp;redlink=1\" class=\"new\" title=\"伊芙莉特（页面不存在）\">伊芙莉特</a> • <a href=\"/%E7%8B%99%E5%87%BB%E5%9E%8B%E6%89%8E%E5%8F%A4%E4%B8%80%E4%B8%96\" title=\"狙击型扎古一世\">狙击型扎古一世</a> • <a href=\"/%E9%AB%98%E6%9C%BA%E5%8A%A8%E5%9E%8B%E5%90%89%E5%A7%86%E5%A8%98\" title=\"高机动型吉姆娘\">高机动型吉姆娘</a> • <a href=\"/index.php?title=%E5%BC%BA%E8%A2%AD%E5%9E%8B%E5%90%89%E5%A7%86%E5%A8%98&amp;action=edit&amp;redlink=1\" class=\"new\" title=\"强袭型吉姆娘（页面不存在）\">强袭型吉姆娘</a> • <a href=\"/index.php?title=%E5%BC%BA%E8%A2%AD%E5%9E%8B%E5%90%89%E5%A7%86%E5%A8%98%C2%B7%E7%89%B9%E8%A3%85%E5%A7%AC&amp;action=edit&amp;redlink=1\" class=\"new\" title=\"强袭型吉姆娘·特装姬（页面不存在）\">强袭型吉姆娘·特装姬</a> • <a href=\"/index.php?title=%E9%85%B8%E6%B5%86%E6%9E%9C%E5%A7%AC(MLRS%E8%A3%85%E5%A4%87)&amp;action=edit&amp;redlink=1\" class=\"new\" title=\"酸浆果姬(MLRS装备)（页面不存在）\">酸浆果姬(MLRS装备)</a> • <a href=\"/index.php?title=%E6%9D%BE%E6%B0%B8%E7%9C%9F%E4%B8%93%E7%94%A8%E5%8B%87%E5%A3%ABJ%E5%A7%AC&amp;action=edit&amp;redlink=1\" class=\"new\" title=\"松永真专用勇士J姬（页面不存在）\">松永真专用勇士J姬</a> • <a href=\"/index.php?title=NT-X%E5%A7%AC&amp;action=edit&amp;redlink=1\" class=\"new\" title=\"NT-X姬（页面不存在）\">NT-X姬</a> • <a href=\"/index.php?title=%E9%87%8F%E4%BA%A7%E5%9E%8B%E5%A4%A7%E6%89%8E%E5%A7%86&amp;action=edit&amp;redlink=1\" class=\"new\" title=\"量产型大扎姆（页面不存在）\">量产型大扎姆</a> • <a href=\"/index.php?title=%E4%BC%9F%E5%A4%A7%E5%90%89%E7%BF%81%E5%B0%91%E5%A5%B3%E5%8F%B7&amp;action=edit&amp;redlink=1\" class=\"new\" title=\"伟大吉翁少女号（页面不存在）\">伟大吉翁少女号</a>• <a href=\"/index.php?title=%E8%B7%AF%E7%BB%B4%C2%B7%E5%A9%95%E9%9C%B2%E4%BA%8C%E4%B8%96&amp;action=edit&amp;redlink=1\" class=\"new\" title=\"路维·婕露二世（页面不存在）\">路维·婕露二世</a> • <a href=\"/index.php?title=MK-%E2%85%A3%E5%A7%AC&amp;action=edit&amp;redlink=1\" class=\"new\" title=\"MK-Ⅳ姬（页面不存在）\">MK-Ⅳ姬</a> • <a href=\"/index.php?title=%E6%B3%B0%E5%A6%B2%E5%A6%AE%E5%A8%85&amp;action=edit&amp;redlink=1\" class=\"new\" title=\"泰妲妮娅（页面不存在）\">泰妲妮娅</a> • <a href=\"/index.php?title=%E5%BC%BA%E4%BA%BA%E5%A7%AC%E6%94%B9&amp;action=edit&amp;redlink=1\" class=\"new\" title=\"强人姬改（页面不存在）\">强人姬改</a>• <a href=\"/index.php?title=%E6%AF%95%E5%90%89%E5%A8%9C%C2%B7%E7%BD%97%E7%BA%B3&amp;action=edit&amp;redlink=1\" class=\"new\" title=\"毕吉娜·罗纳（页面不存在）\">毕吉娜·罗纳</a> • <a href=\"/index.php?title=%E6%89%8E%E5%8F%A4-50%E5%A7%AC&amp;action=edit&amp;redlink=1\" class=\"new\" title=\"扎古-50姬（页面不存在）\">扎古-50姬</a> • <a href=\"/index.php?title=%E8%8E%89%E5%85%8B%C2%B7%E6%9E%97%E6%A0%BC&amp;action=edit&amp;redlink=1\" class=\"new\" title=\"莉克·林格（页面不存在）\">莉克·林格</a> • <a href=\"/index.php?title=%E8%B5%9E%E6%96%AF%E5%B8%95%E8%8C%B5&amp;action=edit&amp;redlink=1\" class=\"new\" title=\"赞斯帕茵（页面不存在）\">赞斯帕茵</a> • <a href=\"/index.php?title=%E6%81%B6%E9%AD%94%E5%AD%90Jr.&amp;action=edit&amp;redlink=1\" class=\"new\" title=\"恶魔子Jr.（页面不存在）\">恶魔子Jr.</a> • <a href=\"/index.php?title=%E6%B0%B4%E7%93%B6%E5%A7%AC&amp;action=edit&amp;redlink=1\" class=\"new\" title=\"水瓶姬（页面不存在）\">水瓶姬</a> • <a href=\"/index.php?title=%E8%93%93%E5%B0%94%E8%8F%B2%E6%88%88%E5%B0%94&amp;action=edit&amp;redlink=1\" class=\"new\" title=\"蓓尔菲戈尔（页面不存在）\">蓓尔菲戈尔</a> • <a href=\"/index.php?title=%E5%85%A8%E8%A3%85%E7%94%B2%E9%AB%98%E8%BE%BE%E5%A7%AC&amp;action=edit&amp;redlink=1\" class=\"new\" title=\"全装甲高达姬（页面不存在）\">全装甲高达姬</a> • <a href=\"/index.php?title=G-3%E5%A7%AC&amp;action=edit&amp;redlink=1\" class=\"new\" title=\"G-3姬（页面不存在）\">G-3姬</a> • <a href=\"/index.php?title=%E9%92%A2%E5%8A%A0%E5%86%9C%E4%BA%8C%E4%B8%96&amp;action=edit&amp;redlink=1\" class=\"new\" title=\"钢加农二世（页面不存在）\">钢加农二世</a> • <a href=\"/index.php?title=%E9%92%A2%E5%9D%A6%E5%85%8B%E4%BA%8C%E4%B8%96&amp;action=edit&amp;redlink=1\" class=\"new\" title=\"钢坦克二世（页面不存在）\">钢坦克二世</a> • <a href=\"/%E7%8B%99%E5%87%BB%E7%89%B9%E8%A3%85%E5%9E%8B%E5%90%89%E5%A7%86%E5%A8%98\" title=\"狙击特装型吉姆娘\">狙击特装型吉姆娘</a> • <a href=\"/index.php?title=%E5%90%89%E5%A7%86%E5%8A%A0%E5%86%9C%E5%A7%AC&amp;action=edit&amp;redlink=1\" class=\"new\" title=\"吉姆加农姬（页面不存在）\">吉姆加农姬</a> • <a href=\"/index.php?title=%E9%AB%98%E6%9C%BA%E5%8A%A8%E5%9E%8B%E6%89%8E%E5%8F%A4%E4%BA%8C%E4%B8%96&amp;action=edit&amp;redlink=1\" class=\"new\" title=\"高机动型扎古二世（页面不存在）\">高机动型扎古二世</a> • <a href=\"/index.php?title=%E6%89%8E%E5%8F%A4%E5%8A%A0%E5%86%9C%E5%A7%AC&amp;action=edit&amp;redlink=1\" class=\"new\" title=\"扎古加农姬（页面不存在）\">扎古加农姬</a> • <a href=\"/index.php?title=%E7%82%AE%E5%87%BB%E5%9E%8B%E5%8B%87%E5%A3%AB%E5%A7%AC&amp;action=edit&amp;redlink=1\" class=\"new\" title=\"炮击型勇士姬（页面不存在）\">炮击型勇士姬</a> • <a href=\"/index.php?title=%E9%98%BF%E6%A0%BC%E5%A7%AC%E6%94%B9&amp;action=edit&amp;redlink=1\" class=\"new\" title=\"阿格姬改（页面不存在）\">阿格姬改</a>• <a href=\"/index.php?title=%E5%8D%A1%E5%B0%94%E7%8E%9B%E4%B8%93%E7%94%A8%E6%89%8E%E5%8F%A4%E4%BA%8C%E4%B8%96&amp;action=edit&amp;redlink=1\" class=\"new\" title=\"卡尔玛专用扎古二世（页面不存在）\">卡尔玛专用扎古二世</a>• <a href=\"/index.php?title=%E6%9D%BE%E6%B0%B8%E7%9C%9F%E4%B8%93%E7%94%A8%E9%AB%98%E6%9C%BA%E5%8A%A8%E5%9E%8B%E6%89%8E%E5%8F%A4%E4%BA%8C%E4%B8%96&amp;action=edit&amp;redlink=1\" class=\"new\" title=\"松永真专用高机动型扎古二世（页面不存在）\">松永真专用高机动型扎古二世</a> • <a href=\"/index.php?title=%E8%8E%B1%E7%99%BB%E4%B8%93%E7%94%A8%E5%8B%87%E5%A3%AB%E5%8A%A0%E5%86%9C%E5%A7%AC&amp;action=edit&amp;redlink=1\" class=\"new\" title=\"莱登专用勇士加农姬（页面不存在）\">莱登专用勇士加农姬</a> • <a href=\"/index.php?title=%E8%8E%B1%E7%99%BB%E4%B8%93%E7%94%A8%E9%AB%98%E6%9C%BA%E5%8A%A8%E5%9E%8B%E5%8B%87%E5%A3%AB%E5%A7%AC&amp;action=edit&amp;redlink=1\" class=\"new\" title=\"莱登专用高机动型勇士姬（页面不存在）\">莱登专用高机动型勇士姬</a> • <a href=\"/index.php?title=%E5%AE%8C%E7%BE%8E%E5%AD%90&amp;action=edit&amp;redlink=1\" class=\"new\" title=\"完美子（页面不存在）\">完美子</a> • <a href=\"/index.php?title=%E5%AE%8C%E7%BE%8E%E5%90%89%E7%BF%81%E5%B0%91%E5%A5%B3&amp;action=edit&amp;redlink=1\" class=\"new\" title=\"完美吉翁少女（页面不存在）\">完美吉翁少女</a> • <a href=\"/index.php?title=%E5%98%89%E4%B8%BD%E6%B3%A2%E8%92%82%CE%B1&amp;action=edit&amp;redlink=1\" class=\"new\" title=\"嘉丽波蒂α（页面不存在）\">嘉丽波蒂α</a> • <a href=\"/index.php?title=%E8%8A%B1%E6%9C%B5%E5%AD%90&amp;action=edit&amp;redlink=1\" class=\"new\" title=\"花朵子（页面不存在）\">花朵子</a> • <a href=\"/index.php?title=%E5%85%A8%E6%AD%A6%E8%A3%85MK-%E2%85%A1%E5%A7%AC&amp;action=edit&amp;redlink=1\" class=\"new\" title=\"全武装MK-Ⅱ姬（页面不存在）\">全武装MK-Ⅱ姬</a> • <a href=\"/index.php?title=MK-III%E5%A7%AC&amp;action=edit&amp;redlink=1\" class=\"new\" title=\"MK-III姬（页面不存在）\">MK-III姬</a> • <a href=\"/%E5%85%A8%E8%A3%85%E7%94%B2MK-III%E5%A7%AC\" title=\"全装甲MK-III姬\">全装甲MK-III姬</a> • <a href=\"/index.php?title=%E6%A2%85%E5%A1%94%E6%96%AF%E6%94%B9&amp;action=edit&amp;redlink=1\" class=\"new\" title=\"梅塔斯改（页面不存在）\">梅塔斯改</a> • <a href=\"/%E5%A4%A9%E9%B9%85%E5%AD%90\" title=\"天鹅子\">天鹅子</a> • <a href=\"/index.php?title=%E7%99%BE%E5%BC%8F%E5%AD%90%E6%94%B9&amp;action=edit&amp;redlink=1\" class=\"new\" title=\"百式子改（页面不存在）\">百式子改</a> • <a href=\"/Zeta%E4%BA%8C%E4%B8%96\" title=\"Zeta二世\">Zeta二世</a> • <a href=\"/index.php?title=%E9%87%8F%E4%BA%A7%E5%9E%8BZeta%E5%A7%AC&amp;action=edit&amp;redlink=1\" class=\"new\" title=\"量产型Zeta姬（页面不存在）\">量产型Zeta姬</a> • <a href=\"/index.php?title=%E9%87%8F%E4%BA%A7%E5%9E%8B%CE%BD%E5%A7%AC&amp;action=edit&amp;redlink=1\" class=\"new\" title=\"量产型ν姬（页面不存在）\">量产型ν姬</a> • <a href=\"/index.php?title=%E8%96%87%E5%90%89%E5%A8%9C%C2%B7%E5%9F%BA%E7%BA%B3%E4%BA%8C%E4%B8%96&amp;action=edit&amp;redlink=1\" class=\"new\" title=\"薇吉娜·基纳二世（页面不存在）\">薇吉娜·基纳二世</a> • <a href=\"/index.php?title=%E5%89%91%E6%88%98%E5%9E%8B%E7%81%BE%E5%8E%84%E5%AD%90&amp;action=edit&amp;redlink=1\" class=\"new\" title=\"剑战型灾厄子（页面不存在）\">剑战型灾厄子</a>• <a href=\"/index.php?title=%E9%87%91%E8%89%B2%E5%A7%AC%C2%B7%E8%9C%9C%E7%BA%B3&amp;action=edit&amp;redlink=1\" class=\"new\" title=\"金色姬·蜜纳（页面不存在）\">金色姬·蜜纳</a>• <a href=\"/index.php?title=%E5%91%BD%E8%BF%90%E8%84%89%E5%86%B2%E5%A7%AC&amp;action=edit&amp;redlink=1\" class=\"new\" title=\"命运脉冲姬（页面不存在）\">命运脉冲姬</a> • <a href=\"/%E6%AD%A3%E4%B9%89%E5%A5%B3%E7%A5%9E\" title=\"正义女神\">正义女神</a> • <a href=\"/index.php?title=F2%E5%9E%8B%E6%AD%A3%E4%B9%89%E5%A5%B3%E7%A5%9E&amp;action=edit&amp;redlink=1\" class=\"new\" title=\"F2型正义女神（页面不存在）\">F2型正义女神</a> • <a href=\"/index.php?title=%E5%89%91%E6%88%98%E5%9E%8BGN-X%E4%BA%8C%E4%B8%96&amp;action=edit&amp;redlink=1\" class=\"new\" title=\"剑战型GN-X二世（页面不存在）\">剑战型GN-X二世</a> • <a href=\"/index.php?title=%E7%82%AE%E5%87%BB%E5%9E%8BGN-X%E4%BA%8C%E4%B8%96&amp;action=edit&amp;redlink=1\" class=\"new\" title=\"炮击型GN-X二世（页面不存在）\">炮击型GN-X二世</a> • <a href=\"/index.php?title=GN-X%E4%BA%8C%E4%B8%96&amp;action=edit&amp;redlink=1\" class=\"new\" title=\"GN-X二世（页面不存在）\">GN-X二世</a> • <a href=\"/index.php?title=%E9%9B%AA%E5%B4%A9%E5%9E%8B%E8%83%BD%E5%A4%A9%E4%BD%BF&amp;action=edit&amp;redlink=1\" class=\"new\" title=\"雪崩型能天使（页面不存在）\">雪崩型能天使</a> • <a href=\"/index.php?title=%E8%BF%9B%E9%98%B6%E5%9E%8BGN-X%E5%A7%AC&amp;action=edit&amp;redlink=1\" class=\"new\" title=\"进阶型GN-X姬（页面不存在）\">进阶型GN-X姬</a> • <a href=\"/index.php?title=%E7%8C%8E%E5%85%B5%E5%9E%8B%E6%9D%83%E5%A4%A9%E4%BD%BF&amp;action=edit&amp;redlink=1\" class=\"new\" title=\"猎兵型权天使（页面不存在）\">猎兵型权天使</a> • <a href=\"/index.php?title=%E5%BE%B7%E5%B0%94%E5%A1%94%E5%A7%AC%E6%94%B9&amp;action=edit&amp;redlink=1\" class=\"new\" title=\"德尔塔姬改（页面不存在）\">德尔塔姬改</a> • <a href=\"/index.php?title=%E5%BE%B7%E5%B0%94%E5%A1%94%E5%A7%AC&amp;action=edit&amp;redlink=1\" class=\"new\" title=\"德尔塔姬（页面不存在）\">德尔塔姬</a>• <a href=\"/%E6%96%B0%E5%AE%89%E6%B4%B2%C2%B7%E5%8E%9F%E7%9F%B3%E5%AD%90\" title=\"新安洲·原石子\">新安洲·原石子</a>• <a href=\"/%E9%AA%B7%E9%AB%85%E6%89%8E%E5%8F%A4%E5%A7%AC\" title=\"骷髅扎古姬\">骷髅扎古姬</a>• <a href=\"/index.php?title=%E5%AE%8C%E7%BE%8E%E5%AD%90MK-%E2%85%A2&amp;action=edit&amp;redlink=1\" class=\"new\" title=\"完美子MK-Ⅲ（页面不存在）\">完美子MK-Ⅲ</a>• <a href=\"/%E7%BA%A2%E8%A1%A3%E6%88%98%E5%A3%AB\" title=\"红衣战士\">红衣战士</a>• <a href=\"/Carrier_Suit\" title=\"Carrier Suit\">Carrier Suit</a>• <a href=\"/Bloody_Mary\" title=\"Bloody Mary\">Bloody Mary</a>• <a href=\"/7-11%E9%AB%98%E8%BE%BE%E5%A7%AC\" title=\"7-11高达姬\">7-11高达姬</a>• <a href=\"/%E8%B6%85%E7%B4%9A%E6%96%87%E5%A5%88\" title=\"超级文奈\">超级文奈</a></div></td></tr></table><div></div></td></tr><tr style=\"height:2px\"><td></td></tr><tr><td colspan=\"2\" style=\"width:100%;padding:0px;;;\" class=\"navbox-list navbox-odd\"><div style=\"padding:0em 0.25em\"></div><table cellspacing=\"0\" class=\"nowraplinks mw-collapsible mw-collapsible mw-uncollapsed navbox-subgroup\" style=\"display:table;width:100%;;;;\"><tr><th style=\";\" colspan=\"2\" class=\"navbox-title\"><div style=\"float:left; width:6em;text-align:left;\">&#160;</div><span style=\"font-size:100%;\">其他相关</span></th></tr><tr style=\"height:2px;\"><td></td></tr><tr><td class=\"navbox-group\" style=\";width:3em;\">机师列表</td><td style=\"text-align:left;border-left:2px solid #fdfdfd;width:100%;padding:0px;width: auto;;;\" class=\"navbox-list navbox-odd\"><div style=\"padding:0em 0.25em\"></div><table cellspacing=\"0\" class=\"nowraplinks navbox-subgroup\" style=\"display:table;width:100%;;display:table;;;\"><tr><td class=\"navbox-group\" style=\";padding-left:0em;padding-right:0em;;\"><div style=\"padding:0em 0.75em;\">宇宙世纪</div></td><td style=\"text-align:left;border-left:2px solid #fdfdfd;width:100%;padding:0px;line-height:1.4em;;;\" class=\"navbox-list navbox-odd\"><div style=\"padding:0em 0.25em\"><a href=\"/%E5%8D%A1%E6%96%AF%E7%93%A6%E5%B0%94%C2%B7%E9%9B%B7%E5%A7%86%C2%B7%E6%88%B4%E8%82%AF\" title=\"卡斯瓦尔·雷姆·戴肯\">夏亚</a> • <a href=\"/index.php?title=%E9%98%BF%E5%A7%86%E7%BD%97%C2%B7%E9%9B%B7&amp;action=edit&amp;redlink=1\" class=\"new\" title=\"阿姆罗·雷（页面不存在）\">阿姆罗·雷</a> • <a href=\"/index.php?title=%E5%B7%B4%E7%BA%B3%E5%90%89%C2%B7%E6%9E%97%E5%85%8B%E6%96%AF&amp;action=edit&amp;redlink=1\" class=\"new\" title=\"巴纳吉·林克斯（页面不存在）\">巴纳吉·林克斯</a> • (待补全)</div></td></tr><tr style=\"height:2px\"><td></td></tr><tr><td class=\"navbox-group\" style=\";padding-left:0em;padding-right:0em;;\"><div style=\"padding:0em 0.75em;\">其他时代</div></td><td style=\"text-align:left;border-left:2px solid #fdfdfd;width:100%;padding:0px;line-height:1.4em;;;\" class=\"navbox-list navbox-even\"><div style=\"padding:0em 0.25em\"><a href=\"/%E5%88%B9%E9%82%A3%C2%B7F%C2%B7%E6%B8%85%E8%8B%B1\" title=\"刹那·F·清英\">刹那·F·清英</a>• <a href=\"/index.php?title=%E6%B4%9B%E5%85%8B%E6%98%82%C2%B7%E5%8F%B2%E7%89%B9%E6%8B%89%E6%89%98%E6%96%AF&amp;action=edit&amp;redlink=1\" class=\"new\" title=\"洛克昂·史特拉托斯（页面不存在）\">洛克昂·史特拉托斯</a> • <a href=\"/index.php?title=%E9%98%BF%E9%9B%B7%E8%B7%AF%E4%BA%9A%C2%B7%E5%B8%95%E6%99%AE%E6%8F%90%E5%85%B9%E5%A7%86&amp;action=edit&amp;redlink=1\" class=\"new\" title=\"阿雷路亚·帕普提兹姆（页面不存在）\">阿雷路亚·帕普提兹姆</a> • <a href=\"/%E6%8F%90%E8%80%B6%E5%88%A9%E4%BA%9A%C2%B7%E5%8E%84%E5%BE%B7\" title=\"提耶利亚·厄德\">提耶利亚·厄德</a> • (待补全)</div></td></tr></table><div></div></td></tr><tr style=\"height:2px\"><td></td></tr><tr><td class=\"navbox-group\" style=\";width:3em;\">主要事件</td><td style=\"text-align:left;border-left:2px solid #fdfdfd;width:100%;padding:0px;width: auto;;;\" class=\"navbox-list navbox-even\"><div style=\"padding:0em 0.25em\">(待补全)</div></td></tr><tr style=\"height:2px\"><td></td></tr><tr><td class=\"navbox-group\" style=\";width:3em;\">出场势力</td><td style=\"text-align:left;border-left:2px solid #fdfdfd;width:100%;padding:0px;width: auto;;;\" class=\"navbox-list navbox-odd\"><div style=\"padding:0em 0.25em\"></div><table cellspacing=\"0\" class=\"nowraplinks navbox-subgroup\" style=\"display:table;width:100%;;display:table;;;\"><tr><td class=\"navbox-group\" style=\";padding-left:0em;padding-right:0em;;\"><div style=\"padding:0em 0.75em;\">地球联邦</div></td><td style=\"text-align:left;border-left:2px solid #fdfdfd;width:100%;padding:0px;line-height:1.4em;;;\" class=\"navbox-list navbox-odd\"><div style=\"padding:0em 0.25em\"><a href=\"/%E5%9C%B0%E7%90%83%E8%81%94%E9%82%A6%E5%86%9B\" title=\"地球联邦军\">地球联邦军</a>• <a href=\"/%E6%8F%90%E5%9D%A6%E6%96%AF\" title=\"提坦斯\">提坦斯</a>• <a href=\"/%E5%A5%A5%E5%8F%A4\" title=\"奥古\">奥古</a></div></td></tr><tr style=\"height:2px\"><td></td></tr><tr><td class=\"navbox-group\" style=\";padding-left:0em;padding-right:0em;;\"><div style=\"padding:0em 0.75em;\">吉翁</div></td><td style=\"text-align:left;border-left:2px solid #fdfdfd;width:100%;padding:0px;line-height:1.4em;;;\" class=\"navbox-list navbox-even\"><div style=\"padding:0em 0.25em\"><a href=\"/index.php?title=%E5%90%89%E7%BF%81%E5%85%AC%E5%9B%BD%E5%86%9B&amp;action=edit&amp;redlink=1\" class=\"new\" title=\"吉翁公国军（页面不存在）\">吉翁公国军</a>• <a href=\"/index.php?title=%E9%98%BF%E5%85%8B%E8%A5%BF%E6%96%AF%E6%96%B0%E5%90%89%E7%BF%81&amp;action=edit&amp;redlink=1\" class=\"new\" title=\"阿克西斯新吉翁（页面不存在）\">阿克西斯新吉翁</a>• <a href=\"/index.php?title=%E6%96%B0%E7%94%9F%E5%90%89%E7%BF%81&amp;action=edit&amp;redlink=1\" class=\"new\" title=\"新生吉翁（页面不存在）\">新生吉翁</a></div></td></tr></table><div></div></td></tr><tr style=\"height:2px\"><td></td></tr><tr><td class=\"navbox-group\" style=\";width:3em;\">特殊部队</td><td style=\"text-align:left;border-left:2px solid #fdfdfd;width:100%;padding:0px;width: auto;;;\" class=\"navbox-list navbox-even\"><div style=\"padding:0em 0.25em\"><a href=\"/%E6%8F%90%E5%9D%A6%E6%96%AF%E6%B5%8B%E8%AF%95%E9%83%A8%E9%98%9F\" title=\"提坦斯测试部队\">提坦斯测试部队</a></div></td></tr></table><div></div></td></tr></table></td></tr></table>\n",
    "<h2><span class=\"mw-headline\" id=\".E5.A4.96.E9.83.A8.E9.93.BE.E6.8E.A5.E4.B8.8E.E6.B3.A8.E9.87.8A\">外部链接与注释</span></h2>\n",
    "<p>人设作者：白山赤空\n",
    "</p><p>人设源地址：[pixiv] <a target=\"_blank\" rel=\"nofollow noreferrer noopener\" class=\"external free\" href=\"http://www.pixiv.net/member_illust.php?mode=medium&amp;illust_id=3354189\">http://www.pixiv.net/member_illust.php?mode=medium&amp;illust_id=3354189</a>\n",
    "</p>\n",
    "<!-- \n",
    "NewPP limit report\n",
    "Cached time: 20180715030024\n",
    "Cache expiry: 86400\n",
    "Dynamic content: false\n",
    "CPU time usage: 0.586 seconds\n",
    "Real time usage: 0.999 seconds\n",
    "Preprocessor visited node count: 5170/1000000\n",
    "Preprocessor generated node count: 26600/1000000\n",
    "Post‐expand include size: 209838/2097152 bytes\n",
    "Template argument size: 167388/2097152 bytes\n",
    "Highest expansion depth: 25/40\n",
    "Expensive parser function count: 0/50\n",
    "ExtLoops count: 0/100\n",
    "-->\n",
    "<!--\n",
    "Transclusion expansion time report (%,ms,calls,template)\n",
    "100.00%  311.270      1 -total\n",
    " 89.46%  278.472      6 Template:Navbox\n",
    " 52.57%  163.631      1 Template:机动战士高达\n",
    " 36.16%  112.544      1 Template:人物信息\n",
    " 30.79%   95.825      1 Template:Str_find\n",
    " 29.70%   92.450      1 Template:Str_find/logic\n",
    " 20.91%   65.094     99 Template:Str_left\n",
    " 11.89%   36.995      1 Template:Navbar\n",
    " 11.40%   35.480      2 Template:Navbox_subgroup\n",
    "  8.50%   26.444      1 Template:Str_len\n",
    "-->\n",
    "</div>\n",
    "<!-- Saved in parser cache with key zhmoegirl:pcache:idhash:41905-0!userlang=zh-cn!zh-cn and timestamp 20180715030023 and revision id 987399\n",
    " -->\n",
    "</div>\t\t\t\t\t<div class=\"printfooter\">\n",
    "\t\t\t\t\t\t取自“<a dir=\"ltr\" href=\"https://zh.moegirl.org/index.php?title=扎古一世&amp;oldid=987399\">https://zh.moegirl.org/index.php?title=扎古一世&amp;oldid=987399</a>”\t\t\t\t\t</div>\n",
    "\t\t\t\t<div id=\"catlinks\" class=\"catlinks\" data-mw=\"interface\"><div id=\"mw-normal-catlinks\" class=\"mw-normal-catlinks\"><a href=\"/Special:%E9%A1%B5%E9%9D%A2%E5%88%86%E7%B1%BB\" title=\"Special:页面分类\">分类</a>：<ul><li><a href=\"/Category:%E4%BA%BA%E7%89%A9\" title=\"Category:人物\">人物</a></li><li><a href=\"/Category:MS%E5%B0%91%E5%A5%B3\" title=\"Category:MS少女\">MS少女</a></li><li><a href=\"/Category:%E6%9C%BA%E5%8A%A8%E6%88%98%E5%A3%AB%E9%AB%98%E8%BE%BE\" title=\"Category:机动战士高达\">机动战士高达</a></li></ul></div><div id=\"mw-hidden-catlinks\" class=\"mw-hidden-catlinks mw-hidden-cats-hidden\">隐藏分类：<ul><li><a href=\"/Category:%E4%B8%8D%E5%AE%8C%E6%95%B4\" title=\"Category:不完整\">不完整</a></li></ul></div></div><div id='mw-data-after-content'>\n",
    "\t\n",
    "<div class='please-donate'>\n",
    "\t<a href='//zh.moegirl.org/%E8%90%8C%E5%A8%98%E7%99%BE%E7%A7%91:%E6%8D%90%E6%AC%BE'>\n",
    "\t\t<img src='https://img.moegirl.org/donate-help.png' height='90' width='728'>\n",
    "\t</a>\n",
    "\t<div class='ads-main'>\n",
    "\t\t<!-- 广告位：萌娘百科留言框 -->\n",
    "\t\t<script>\n",
    "\t\t(function() {\n",
    "\t\t\tvar s = '_' + Math.random().toString(36).slice(2);\n",
    "\t\t\tdocument.write('<div id=\"' + s + '\"></div>');\n",
    "\t\t\t(window.slotbydup=window.slotbydup || []).push({\n",
    "\t\t\t\tid: '3876346',\n",
    "\t\t\t\tcontainer: s,\n",
    "\t\t\t\tsize: '728,90',\n",
    "\t\t\t\tdisplay: 'inlay-fix'\n",
    "\t\t\t});\n",
    "\t\t})();\n",
    "\t\t</script>\n",
    "\t</div>\n",
    "</div><div id=\"rating-main\">\n",
    "  <div class=\"moegirl_rating clearfix\">\n",
    "    <div class=\"rating_title\">为本页面评分:</div>\n",
    "    <div class=\"rating_body_disabled rating_main\" >\n",
    "      <ul class=\"mr-rating-ul\">\n",
    "        <li><a class=\"r-1\" >1</a></li>\n",
    "        <li><a class=\"r-2\" >2</a></li>\n",
    "        <li><a class=\"r-3\" >3</a></li>\n",
    "        <li><a class=\"r-4\" >4</a></li>\n",
    "        <li><a class=\"r-5\" >5</a></li>\n",
    "      </ul>\n",
    "\n",
    "      <div class=\"rating_body_result\" ></div>\n",
    "\t  <div class=\"moegirl-rating-error-tip\"></div>\n",
    "    </div>\n",
    "    <div class=\"rating_result\" ><div class=\"result_icon loading\" ></div><div class=\"result_text\" ></div></div>\n",
    "  </div>\n",
    "</div>\n",
    "<script type=\"text/javascript\" >\n",
    "window.RLQ = window.RLQ || [];\n",
    "window.RLQ.push(function(){\n",
    "\tmw.loader.using( 'ext.MoegirlRating', function() {\n",
    "\t\tnew MoegirlRatingControl( '#rating-main', 41905, '' ).init();\n",
    "\t});\n",
    "});\n",
    "</script>\n",
    "</div>\n",
    "\t\t\t\t<div class=\"visualClear\"></div>\n",
    "\t\t\t\t\t\t\t</div>\n",
    "\t\t</div>\n",
    "\t\t<div id=\"mw-navigation\">\n",
    "\t\t\t<h2>导航菜单</h2>\n",
    "\n",
    "\t\t\t<div id=\"mw-head\">\n",
    "\t\t\t\t\t\t\t\t\t<div id=\"p-personal\" role=\"navigation\" class=\"\" aria-labelledby=\"p-personal-label\">\n",
    "\t\t\t\t\t\t<h3 id=\"p-personal-label\">个人工具</h3>\n",
    "\t\t\t\t\t\t<ul lang=\"zh-CN\" dir=\"ltr\">\n",
    "\t\t\t\t\t\t\t<li id=\"pt-createaccount\"><a href=\"/index.php?title=Special:%E5%88%9B%E5%BB%BA%E8%B4%A6%E6%88%B7&amp;returnto=%E6%89%8E%E5%8F%A4%E4%B8%80%E4%B8%96\" title=\"建议您创建一个账户并登录，但这不是强制的\">创建账户</a></li><li id=\"pt-login\"><a href=\"/index.php?title=Special:%E7%94%A8%E6%88%B7%E7%99%BB%E5%BD%95&amp;returnto=%E6%89%8E%E5%8F%A4%E4%B8%80%E4%B8%96\" title=\"我们鼓励您登录；然而，这不是强制性的[o]\" accesskey=\"o\">登录</a></li>\t\t\t\t\t\t</ul>\n",
    "\t\t\t\t\t</div>\n",
    "\t\t\t\t\t\t\t\t\t<div id=\"left-navigation\">\n",
    "\t\t\t\t\t\t\t\t\t\t<div id=\"p-namespaces\" role=\"navigation\" class=\"vectorTabs\" aria-labelledby=\"p-namespaces-label\">\n",
    "\t\t\t\t\t\t<h3 id=\"p-namespaces-label\">名字空间</h3>\n",
    "\t\t\t\t\t\t<ul lang=\"zh-CN\" dir=\"ltr\">\n",
    "\t\t\t\t\t\t\t\t\t\t\t\t\t\t<li id=\"ca-nstab-main\" class=\"selected\"><span><a href=\"/%E6%89%8E%E5%8F%A4%E4%B8%80%E4%B8%96\" title=\"查看内容页面[c]\" accesskey=\"c\">页面</a></span></li>\n",
    "\t\t\t\t\t\t\t<li id=\"ca-talk\" class=\"new\"><span><a href=\"/index.php?title=Talk:%E6%89%8E%E5%8F%A4%E4%B8%80%E4%B8%96&amp;action=edit&amp;redlink=1\" rel=\"discussion\" title=\"关于内容页面的讨论[t]\" accesskey=\"t\">讨论</a></span></li>\n",
    "\t\t\t\t\t\t</ul>\n",
    "\t\t\t\t\t</div>\n",
    "\t\t\t\t\t\t\t\t\t\t<div id=\"p-variants\" role=\"navigation\" class=\"vectorMenu\" aria-labelledby=\"p-variants-label\">\n",
    "\t\t\t\t\t\t\t\t\t\t\t\t<h3 id=\"p-variants-label\">\n",
    "\t\t\t\t\t\t\t<span>大陆简体</span>\n",
    "\t\t\t\t\t\t</h3>\n",
    "\n",
    "\t\t\t\t\t\t<div class=\"menu\">\n",
    "\t\t\t\t\t\t\t<ul>\n",
    "\t\t\t\t\t\t\t\t\t\t\t\t\t\t\t\t<li id=\"ca-varlang-0\"><a href=\"/zh/%E6%89%8E%E5%8F%A4%E4%B8%80%E4%B8%96\" lang=\"zh\" hreflang=\"zh\">关闭转换</a></li>\n",
    "\t\t\t\t\t\t\t\t<li id=\"ca-varlang-1\"><a href=\"/zh-hans/%E6%89%8E%E5%8F%A4%E4%B8%80%E4%B8%96\" lang=\"zh-Hans\" hreflang=\"zh-Hans\">简体</a></li>\n",
    "\t\t\t\t\t\t\t\t<li id=\"ca-varlang-2\"><a href=\"/zh-hant/%E6%89%8E%E5%8F%A4%E4%B8%80%E4%B8%96\" lang=\"zh-Hant\" hreflang=\"zh-Hant\">繁體</a></li>\n",
    "\t\t\t\t\t\t\t\t<li id=\"ca-varlang-3\" class=\"selected\"><a href=\"/zh-cn/%E6%89%8E%E5%8F%A4%E4%B8%80%E4%B8%96\" lang=\"zh-CN\" hreflang=\"zh-CN\">大陆简体</a></li>\n",
    "\t\t\t\t\t\t\t\t<li id=\"ca-varlang-4\"><a href=\"/zh-tw/%E6%89%8E%E5%8F%A4%E4%B8%80%E4%B8%96\" lang=\"zh-TW\" hreflang=\"zh-TW\">台灣繁體</a></li>\n",
    "\t\t\t\t\t\t\t</ul>\n",
    "\t\t\t\t\t\t</div>\n",
    "\t\t\t\t\t</div>\n",
    "\t\t\t\t\t\t\t\t\t</div>\n",
    "\t\t\t\t<div id=\"right-navigation\">\n",
    "\t\t\t\t\t\t\t\t\t\t<div id=\"p-views\" role=\"navigation\" class=\"vectorTabs\" aria-labelledby=\"p-views-label\">\n",
    "\t\t\t\t\t\t<h3 id=\"p-views-label\">视图</h3>\n",
    "\t\t\t\t\t\t<ul lang=\"zh-CN\" dir=\"ltr\">\n",
    "\t\t\t\t\t\t\t\t\t\t\t\t\t\t<li id=\"ca-view\" class=\"selected\"><span><a href=\"/%E6%89%8E%E5%8F%A4%E4%B8%80%E4%B8%96\">阅读</a></span></li>\n",
    "\t\t\t\t\t\t\t<li id=\"ca-viewsource\"><span><a href=\"/index.php?title=%E6%89%8E%E5%8F%A4%E4%B8%80%E4%B8%96&amp;action=edit\" title=\"本页面受到保护。您可以查看其源代码[e]\" accesskey=\"e\">查看源代码</a></span></li>\n",
    "\t\t\t\t\t\t\t<li id=\"ca-history\" class=\"collapsible\"><span><a href=\"/index.php?title=%E6%89%8E%E5%8F%A4%E4%B8%80%E4%B8%96&amp;action=history\" title=\"本页面过去的版本[h]\" accesskey=\"h\">查看历史</a></span></li>\n",
    "\t\t\t\t\t\t</ul>\n",
    "\t\t\t\t\t</div>\n",
    "\t\t\t\t\t\t\t\t\t\t<div id=\"p-cactions\" role=\"navigation\" class=\"vectorMenu emptyPortlet\" aria-labelledby=\"p-cactions-label\">\n",
    "\t\t\t\t\t\t<h3 id=\"p-cactions-label\"><span>更多</span></h3>\n",
    "\n",
    "\t\t\t\t\t\t<div class=\"menu\">\n",
    "\t\t\t\t\t\t\t<ul lang=\"zh-CN\" dir=\"ltr\">\n",
    "\t\t\t\t\t\t\t\t\t\t\t\t\t\t\t</ul>\n",
    "\t\t\t\t\t\t</div>\n",
    "\t\t\t\t\t</div>\n",
    "\t\t\t\t\t\t\t\t\t\t<div id=\"p-search\" role=\"search\">\n",
    "\t\t\t\t\t\t<h3 lang=\"zh-CN\" dir=\"ltr\">\n",
    "\t\t\t\t\t\t\t<label for=\"searchInput\">搜索</label>\n",
    "\t\t\t\t\t\t</h3>\n",
    "\n",
    "\t\t\t\t\t\t<form action=\"/index.php\" id=\"searchform\">\n",
    "\t\t\t\t\t\t\t<div id=\"simpleSearch\">\n",
    "\t\t\t\t\t\t\t<input type=\"search\" name=\"search\" placeholder=\"搜索萌娘百科\" title=\"搜索萌娘百科[f]\" accesskey=\"f\" id=\"searchInput\"/><input type=\"hidden\" value=\"Special:搜索\" name=\"title\"/><input type=\"submit\" name=\"fulltext\" value=\"搜索\" title=\"搜索含这些文字的页面\" id=\"mw-searchButton\" class=\"searchButton mw-fallbackSearchButton\"/><input type=\"submit\" name=\"go\" value=\"前往\" title=\"若相同标题存在，则直接前往该页面\" id=\"searchButton\" class=\"searchButton\"/>\t\t\t\t\t\t\t</div>\n",
    "\t\t\t\t\t\t</form>\n",
    "\t\t\t\t\t</div>\n",
    "\t\t\t\t\t\t\t\t\t</div>\n",
    "\t\t\t</div>\n",
    "\t\t\t<div id=\"mw-panel\">\n",
    "\t\t\t\t<div id=\"p-logo\" role=\"banner\"><a class=\"mw-wiki-logo\" href=\"/Mainpage\"  title=\"访问首页\"></a></div>\n",
    "\t\t\t\t\t\t<div class=\"portal\" role=\"navigation\" id='p-navigation' aria-labelledby='p-navigation-label'>\n",
    "\t\t\t<h3 lang=\"zh-CN\" dir=\"ltr\" id='p-navigation-label'>导航</h3>\n",
    "\n",
    "\t\t\t<div class=\"body\">\n",
    "\t\t\t\t\t\t\t\t\t<ul>\n",
    "\t\t\t\t\t\t<li id=\"n-mainpage-description\"><a href=\"/Mainpage\" title=\"访问首页[z]\" accesskey=\"z\">首页</a></li><li id=\"n-randompage\"><a href=\"/Special:%E9%9A%8F%E6%9C%BA%E9%A1%B5%E9%9D%A2\" title=\"载入一个随机页面[x]\" accesskey=\"x\">随机页面</a></li><li id=\"n-recentchanges\"><a href=\"/Special:%E6%9C%80%E8%BF%91%E6%9B%B4%E6%94%B9\" title=\"本wiki最近更改的列表[r]\" accesskey=\"r\">最近更改</a></li><li id=\"n-newfiles\"><a href=\"https://commons.moegirl.org/Special:%E6%96%B0%E5%BB%BA%E6%96%87%E4%BB%B6\" rel=\"nofollow\" target=\"_blank\">最新图片</a></li><li id=\"n-.E8.AE.A8.E8.AE.BA.E7.89.88\"><a href=\"/Talk:%E8%AE%A8%E8%AE%BA%E7%89%88\">讨论版</a></li><li id=\"n-.E6.8F.90.E9.97.AE.E6.B1.82.E5.8A.A9.E5.8C.BA\"><a href=\"/Talk:%E6%8F%90%E9%97%AE%E6%B1%82%E5%8A%A9%E5%8C%BA\">提问求助区</a></li>\t\t\t\t\t</ul>\n",
    "\t\t\t\t\t\t\t</div>\n",
    "\t\t</div>\n",
    "\t\t\t<div class=\"portal\" role=\"navigation\" id='p-help' aria-labelledby='p-help-label'>\n",
    "\t\t\t<h3 lang=\"zh-CN\" dir=\"ltr\" id='p-help-label'>帮助</h3>\n",
    "\n",
    "\t\t\t<div class=\"body\">\n",
    "\t\t\t\t\t\t\t\t\t<ul>\n",
    "\t\t\t\t\t\t<li id=\"n-help\"><a href=\"/Category:%E5%B8%AE%E5%8A%A9\" title=\"查找帮助的地方\">帮助</a></li><li id=\"n-.E6.B2.99.E7.9B.92\"><a href=\"/Help:%E6%B2%99%E7%9B%92\">沙盒</a></li><li id=\"n-Wiki.E5.85.A5.E9.97.A8\"><a href=\"/Help:Wiki%E5%85%A5%E9%97%A8\">Wiki入门</a></li><li id=\"n-.E8.90.8C.E7.99.BE.E7.BC.96.E8.BE.91.E6.95.99.E7.A8.8B\"><a href=\"/Help:%E8%90%8C%E5%A8%98%E7%99%BE%E7%A7%91%E7%BC%96%E8%BE%91%E7%9A%84%E5%BF%AB%E9%80%9F%E5%85%BB%E6%88%90%E6%96%B9%E6%B3%95-%E4%BB%8E%E5%85%A5%E9%97%A8%E5%88%B0%E7%B2%BE%E9%80%9A\">萌百编辑教程</a></li><li id=\"n-.E7.BC.96.E8.BE.91.E8.A7.84.E8.8C.83\"><a href=\"/%E8%90%8C%E5%A8%98%E7%99%BE%E7%A7%91%E7%BC%96%E8%BE%91%E8%A7%84%E8%8C%83\">编辑规范</a></li><li id=\"n-.E5.88.9B.E5.BB.BA.E6.96.B0.E6.9D.A1.E7.9B.AE\"><a href=\"/Help:%E5%88%9B%E5%BB%BA%E6%96%B0%E6%9D%A1%E7%9B%AE\">创建新条目</a></li><li id=\"n-.E8.AF.B7.E6.B1.82.E5.88.9B.E5.BB.BA.E6.9D.A1.E7.9B.AE\"><a href=\"/%E6%9D%A1%E7%9B%AE%E5%88%9B%E5%BB%BA%E8%AF%B7%E6%B1%82\">请求创建条目</a></li><li id=\"n-.E5.B8.B8.E8.A7.81.E9.97.AE.E9.A2.98.E9.9B.86\"><a href=\"/%E8%90%8C%E5%A8%98%E7%99%BE%E7%A7%91:FAQ\">常见问题集</a></li>\t\t\t\t\t</ul>\n",
    "\t\t\t\t\t\t\t</div>\n",
    "\t\t</div>\n",
    "\t\t\t<div class=\"portal\" role=\"navigation\" id='p-.E5.88.86.E7.B1.BB.E7.B4.A2.E5.BC.95' aria-labelledby='p-.E5.88.86.E7.B1.BB.E7.B4.A2.E5.BC.95-label'>\n",
    "\t\t\t<h3 lang=\"zh-CN\" dir=\"ltr\" id='p-.E5.88.86.E7.B1.BB.E7.B4.A2.E5.BC.95-label'>分类索引</h3>\n",
    "\n",
    "\t\t\t<div class=\"body\">\n",
    "\t\t\t\t\t\t\t\t\t<ul>\n",
    "\t\t\t\t\t\t<li id=\"n-.E8.90.8C.E5.B1.9E.E6.80.A7\"><a href=\"/Category:%E8%90%8C%E5%B1%9E%E6%80%A7\">萌属性</a></li><li id=\"n-.E4.BD.9C.E5.93.81\"><a href=\"/Category:%E4%BD%9C%E5%93%81\">作品</a></li><li id=\"n-.E4.BA.BA.E7.89.A9\"><a href=\"/Category:%E4%BA%BA%E7%89%A9\">人物</a></li><li id=\"n-.E9.9F.B3.E4.B9.90\"><a href=\"/Category:%E9%9F%B3%E4%B9%90\">音乐</a></li><li id=\"n-.E6.96.87.E5.8C.96\"><a href=\"/Category:%E6%96%87%E5%8C%96\">文化</a></li><li id=\"n-.E8.BD.AF.E4.BB.B6\"><a href=\"/Category:%E8%BD%AF%E4%BB%B6\">软件</a></li><li id=\"n-.E6.B4.BB.E5.8A.A8\"><a href=\"/Category:%E6%B4%BB%E5%8A%A8\">活动</a></li>\t\t\t\t\t</ul>\n",
    "\t\t\t\t\t\t\t</div>\n",
    "\t\t</div>\n",
    "\t\t\t<div class=\"portal\" role=\"navigation\" id='p-.E5.8E.9F.E5.88.9B.E7.B4.A2.E5.BC.95' aria-labelledby='p-.E5.8E.9F.E5.88.9B.E7.B4.A2.E5.BC.95-label'>\n",
    "\t\t\t<h3 lang=\"zh-CN\" dir=\"ltr\" id='p-.E5.8E.9F.E5.88.9B.E7.B4.A2.E5.BC.95-label'>原创索引</h3>\n",
    "\n",
    "\t\t\t<div class=\"body\">\n",
    "\t\t\t\t\t\t\t\t\t<ul>\n",
    "\t\t\t\t\t\t<li id=\"n-.E6.BC.AB.E7.94.BB\"><a href=\"/Category:%E5%8E%9F%E5%88%9B%E6%BC%AB%E7%94%BB\">漫画</a></li><li id=\"n-.E8.AE.BE.E5.AE.9A\"><a href=\"/Category:%E8%AE%BE%E5%AE%9A\">设定</a></li>\t\t\t\t\t</ul>\n",
    "\t\t\t\t\t\t\t</div>\n",
    "\t\t</div>\n",
    "\t\t\t<div class=\"portal\" role=\"navigation\" id='p-tb' aria-labelledby='p-tb-label'>\n",
    "\t\t\t<h3 lang=\"zh-CN\" dir=\"ltr\" id='p-tb-label'>工具</h3>\n",
    "\n",
    "\t\t\t<div class=\"body\">\n",
    "\t\t\t\t\t\t\t\t\t<ul>\n",
    "\t\t\t\t\t\t<li id=\"t-whatlinkshere\"><a href=\"/Special:%E9%93%BE%E5%85%A5%E9%A1%B5%E9%9D%A2/%E6%89%8E%E5%8F%A4%E4%B8%80%E4%B8%96\" title=\"所有链接至本页面的wiki页面的列表[j]\" accesskey=\"j\">链入页面</a></li><li id=\"t-recentchangeslinked\"><a href=\"/Special:%E9%93%BE%E5%87%BA%E6%9B%B4%E6%94%B9/%E6%89%8E%E5%8F%A4%E4%B8%80%E4%B8%96\" rel=\"nofollow\" title=\"链自本页的页面的最近更改[k]\" accesskey=\"k\">相关更改</a></li><li id=\"t-upload\"><a href=\"https://commons.moegirl.org/Special:%E4%B8%8A%E4%BC%A0%E6%96%87%E4%BB%B6\" title=\"上传文件[u]\" accesskey=\"u\">上传文件</a></li><li id=\"t-specialpages\"><a href=\"/Special:%E7%89%B9%E6%AE%8A%E9%A1%B5%E9%9D%A2\" title=\"所有特殊页面的列表[q]\" accesskey=\"q\">特殊页面</a></li><li id=\"t-print\"><a href=\"/index.php?title=%E6%89%8E%E5%8F%A4%E4%B8%80%E4%B8%96&amp;printable=yes\" rel=\"alternate\" title=\"本页面的可打印版本[p]\" accesskey=\"p\">可打印版本</a></li><li id=\"t-permalink\"><a href=\"/index.php?title=%E6%89%8E%E5%8F%A4%E4%B8%80%E4%B8%96&amp;oldid=987399\" title=\"本页面该版本的固定链接\">固定链接</a></li><li id=\"t-info\"><a href=\"/index.php?title=%E6%89%8E%E5%8F%A4%E4%B8%80%E4%B8%96&amp;action=info\" title=\"关于此页面的更多信息\">页面信息</a></li>\t\t\t\t\t</ul>\n",
    "\t\t\t\t\t\t\t</div>\n",
    "\t\t</div>\n",
    "\t\t\t<div class=\"portal\" role=\"navigation\" id='p-' aria-labelledby='p--label'>\n",
    "\t\t\t<h3 lang=\"zh-CN\" dir=\"ltr\" id='p--label'></h3>\n",
    "\n",
    "\t\t\t<div class=\"body\">\n",
    "\t\t\t\t\t\t\t</div>\n",
    "\t\t</div>\n",
    "\t\t\t\t</div>\n",
    "\t\t</div>\n",
    "\t\t<div id=\"footer\" role=\"contentinfo\" lang=\"zh-CN\" dir=\"ltr\">\n",
    "\t\t\t\t\t\t\t<ul id=\"footer-info\">\n",
    "\t\t\t\t\t\t\t\t\t\t\t<li id=\"footer-info-lastmod\"> 本页面最后修改于2016年12月29日 (星期四)。</li>\n",
    "\t\t\t\t\t\t\t\t\t\t\t<li id=\"footer-info-copyright\"><div id=\"footer-moegirl\">\n",
    "<ul>\n",
    "<h4>关注萌百</h4>\n",
    "<li><a rel=\"nofollow\" target=\"_blank\" href=\"//weibo.com/mengniangbaike\">新浪微博</a></li>\n",
    "<li>微信：moegirlpedia</li>\n",
    "</ul>\n",
    " \n",
    "<ul>\n",
    "<h4>联系帮助</h4>\n",
    "<li><a href=\"/Help:创建新条目\" target=\"_blank\">创建条目</a></li>\n",
    "<li><a href=\"/Help:沙盒\" target=\"_blank\">测试沙盒</a></li>\n",
    "<li><a rel=\"nofollow\"  href=\"/Talk:讨论版\" target=\"_blank\">合作事项</a></li>\n",
    "<li><a rel=\"nofollow\"  href=\"/Talk:提问求助区\" target=\"_blank\">汇报Bug</a></li>\n",
    "</ul>\n",
    " \n",
    "<ul>\n",
    "<h4>人员资金</h4>\n",
    "<li><a href=\"/萌娘百科:巡查姬的巡查任务\" target=\"_blank\">巡查姬招募</a></li>\n",
    "<li><a href=\"/程序员招募中\" target=\"_blank\">程序员招募</a></li>\n",
    "<li><a href=\"/萌娘百科:捐款\" target=\"_blank\">我来捐款</a></li>\n",
    "<li><a href=\"//moegirl.org/广告投放\" target=\"_blank\">广告投放</a></li>\n",
    "</ul>\n",
    "\n",
    "<ul>\n",
    "<h4>移动应用</h4>\n",
    "<li><a rel=\"nofollow\" href=\"//app.moegirl.org\" target=\"_blank\">app.moegirl.org</a></li>\n",
    "</ul>\n",
    "\n",
    "\n",
    "<span class=\"copyright\">本站全部内容禁止商业使用。文本内容除另有声明外,均在<a target=\"_blank\" rel=\"license\" href=\"https://creativecommons.org/licenses/by-nc-sa/3.0/deed.zh\">知识共享 署名-非商业性使用-相同方式共享 3.0 (CC BY-NC-SA 3.0) 许可协议</a>下提供,附加条款亦可能应用，详细信息参见<a href=\"/萌娘百科:版权信息\" target=\"_blank\">萌娘百科:版权信息</a>。<br />\n",
    "其他类型作品版权归属原作者，如有授权遵照授权协议使用。<br />\n",
    "萌娘百科®、Moegirlpedia®是注册商标。\n",
    "</span>\n",
    "</div></li>\n",
    "\t\t\t\t\t\t\t\t\t</ul>\n",
    "\t\t\t\t\t\t\t<ul id=\"footer-places\">\n",
    "\t\t\t\t\t\t\t\t\t\t\t<li id=\"footer-places-privacy\"><a href=\"/%E8%90%8C%E5%A8%98%E7%99%BE%E7%A7%91:%E9%9A%90%E7%A7%81%E6%9D%83%E6%94%BF%E7%AD%96\" title=\"萌娘百科:隐私权政策\">隐私政策</a></li>\n",
    "\t\t\t\t\t\t\t\t\t\t\t<li id=\"footer-places-about\"><a href=\"/%E8%90%8C%E5%A8%98%E7%99%BE%E7%A7%91:%E5%85%B3%E4%BA%8E\" title=\"萌娘百科:关于\">关于萌娘百科</a></li>\n",
    "\t\t\t\t\t\t\t\t\t\t\t<li id=\"footer-places-disclaimer\"><a href=\"/%E8%90%8C%E5%A8%98%E7%99%BE%E7%A7%91:%E5%85%8D%E8%B4%A3%E5%A3%B0%E6%98%8E\" title=\"萌娘百科:免责声明\">免责声明</a></li>\n",
    "\t\t\t\t\t\t\t\t\t\t\t<li id=\"footer-places-mobileview\"><a href=\"https://m.moegirl.org/index.php?title=%E6%89%8E%E5%8F%A4%E4%B8%80%E4%B8%96&amp;mobileaction=toggle_view_mobile\" class=\"noprint stopMobileRedirectToggle\">手机版视图</a></li>\n",
    "\t\t\t\t\t\t\t\t\t</ul>\n",
    "\t\t\t\t\t\t\t\t\t\t<ul id=\"footer-icons\" class=\"noprint\">\n",
    "\t\t\t\t\t\t\t\t\t\t\t<li id=\"footer-copyrightico\">\n",
    "\t\t\t\t\t\t\t<a href=\"//creativecommons.org/licenses/by-nc-sa/3.0/deed.zh\" target=\"_blank\"><img src=\"https://img.moegirl.org/CC-BY-NC-SA88x31.png\" alt=\"知识共享(Creative Commons) 署名-非商业性使用-相同方式共享 3.0 协议\" width=\"88\" height=\"31\"/></a>\t\t\t\t\t\t</li>\n",
    "\t\t\t\t\t\t\t\t\t\t\t<li id=\"footer-moegirlwikiico\">\n",
    "\t\t\t\t\t\t\t<a href=\"https://zh.moegirl.org/\" target=\"_blank\"><img src=\"https://img.moegirl.org/Link-LOGO.png\" alt=\"萌娘百科\" width=\"88\" height=\"31\"/></a>\t\t\t\t\t\t</li>\n",
    "\t\t\t\t\t\t\t\t\t</ul>\n",
    "\t\t\t\t\t\t<div style=\"clear:both\"></div>\n",
    "\t\t</div>\n",
    "\t\t<script>(window.RLQ=window.RLQ||[]).push(function(){mw.config.set({\"wgPageParseReport\":{\"limitreport\":{\"cputime\":\"0.586\",\"walltime\":\"0.999\",\"ppvisitednodes\":{\"value\":5170,\"limit\":1000000},\"ppgeneratednodes\":{\"value\":26600,\"limit\":1000000},\"postexpandincludesize\":{\"value\":209838,\"limit\":2097152},\"templateargumentsize\":{\"value\":167388,\"limit\":2097152},\"expansiondepth\":{\"value\":25,\"limit\":40},\"expensivefunctioncount\":{\"value\":0,\"limit\":50},\"timingprofile\":[\"100.00%  311.270      1 -total\",\" 89.46%  278.472      6 Template:Navbox\",\" 52.57%  163.631      1 Template:机动战士高达\",\" 36.16%  112.544      1 Template:人物信息\",\" 30.79%   95.825      1 Template:Str_find\",\" 29.70%   92.450      1 Template:Str_find/logic\",\" 20.91%   65.094     99 Template:Str_left\",\" 11.89%   36.995      1 Template:Navbar\",\" 11.40%   35.480      2 Template:Navbox_subgroup\",\"  8.50%   26.444      1 Template:Str_len\"]},\"cachereport\":{\"timestamp\":\"20180715030024\",\"ttl\":86400,\"transientcontent\":false}}});});</script><script>\n",
    "  (function(i,s,o,g,r,a,m){i['GoogleAnalyticsObject']=r;i[r]=i[r]||function(){\n",
    "  (i[r].q=i[r].q||[]).push(arguments)},i[r].l=1*new Date();a=s.createElement(o),\n",
    "  m=s.getElementsByTagName(o)[0];a.async=1;a.src=g;m.parentNode.insertBefore(a,m)\n",
    "  })(window,document,'script','//www.google-analytics.com/analytics.js','ga');\n",
    "\n",
    "  ga('create', 'UA-18669495-4', 'moegirl.org');\n",
    "  ga('send', 'pageview');\n",
    "\n",
    "</script><script>(window.RLQ=window.RLQ||[]).push(function(){mw.config.set({\"wgBackendResponseTime\":1166});});</script>\n",
    "\t</body>\n",
    "</html>\n",
    "\"\"\""
   ]
  },
  {
   "cell_type": "code",
   "execution_count": 25,
   "metadata": {},
   "outputs": [],
   "source": [
    "soup2 = BeautifulSoup(html,'html5lib')"
   ]
  },
  {
   "cell_type": "code",
   "execution_count": 35,
   "metadata": {},
   "outputs": [],
   "source": [
    "a = soup2.select(\".firstHeading\")"
   ]
  },
  {
   "cell_type": "code",
   "execution_count": 36,
   "metadata": {},
   "outputs": [
    {
     "name": "stdout",
     "output_type": "stream",
     "text": [
      "扎古一世\n"
     ]
    }
   ],
   "source": [
    "for i in a:\n",
    "    print(i.get_text())"
   ]
  },
  {
   "cell_type": "code",
   "execution_count": 37,
   "metadata": {},
   "outputs": [],
   "source": [
    "b = soup2.select(\".mw-headline\")"
   ]
  },
  {
   "cell_type": "code",
   "execution_count": 38,
   "metadata": {},
   "outputs": [
    {
     "name": "stdout",
     "output_type": "stream",
     "text": [
      "机娘简介\n",
      "机娘参数\n",
      "武器装备\n",
      "外部链接与注释\n"
     ]
    }
   ],
   "source": [
    "for i in b:\n",
    "    print(i.get_text())"
   ]
  },
  {
   "cell_type": "code",
   "execution_count": 39,
   "metadata": {},
   "outputs": [
    {
     "data": {
      "text/plain": [
       "[<span class=\"mw-headline\" id=\".E6.9C.BA.E5.A8.98.E7.AE.80.E4.BB.8B\">机娘简介</span>,\n",
       " <span class=\"mw-headline\" id=\".E6.9C.BA.E5.A8.98.E5.8F.82.E6.95.B0\">机娘参数</span>,\n",
       " <span class=\"mw-headline\" id=\".E6.AD.A6.E5.99.A8.E8.A3.85.E5.A4.87\">武器装备</span>,\n",
       " <span class=\"mw-headline\" id=\".E5.A4.96.E9.83.A8.E9.93.BE.E6.8E.A5.E4.B8.8E.E6.B3.A8.E9.87.8A\">外部链接与注释</span>]"
      ]
     },
     "execution_count": 39,
     "metadata": {},
     "output_type": "execute_result"
    }
   ],
   "source": [
    "b"
   ]
  },
  {
   "cell_type": "code",
   "execution_count": 40,
   "metadata": {},
   "outputs": [],
   "source": [
    "c = soup2.select(\"h2\")"
   ]
  },
  {
   "cell_type": "code",
   "execution_count": 41,
   "metadata": {},
   "outputs": [
    {
     "data": {
      "text/plain": [
       "[<h2>目录</h2>,\n",
       " <h2><span class=\"mw-headline\" id=\".E6.9C.BA.E5.A8.98.E7.AE.80.E4.BB.8B\">机娘简介</span></h2>,\n",
       " <h2><span class=\"mw-headline\" id=\".E6.9C.BA.E5.A8.98.E5.8F.82.E6.95.B0\">机娘参数</span></h2>,\n",
       " <h2><span class=\"mw-headline\" id=\".E6.AD.A6.E5.99.A8.E8.A3.85.E5.A4.87\">武器装备</span></h2>,\n",
       " <h2><span class=\"mw-headline\" id=\".E5.A4.96.E9.83.A8.E9.93.BE.E6.8E.A5.E4.B8.8E.E6.B3.A8.E9.87.8A\">外部链接与注释</span></h2>,\n",
       " <h2>导航菜单</h2>]"
      ]
     },
     "execution_count": 41,
     "metadata": {},
     "output_type": "execute_result"
    }
   ],
   "source": [
    "c"
   ]
  },
  {
   "cell_type": "code",
   "execution_count": 45,
   "metadata": {},
   "outputs": [
    {
     "name": "stdout",
     "output_type": "stream",
     "text": [
      "<h2>目录</h2>\n",
      "<h2><span class=\"mw-headline\" id=\".E6.9C.BA.E5.A8.98.E7.AE.80.E4.BB.8B\">机娘简介</span></h2>\n",
      "<h2><span class=\"mw-headline\" id=\".E6.9C.BA.E5.A8.98.E5.8F.82.E6.95.B0\">机娘参数</span></h2>\n",
      "<h2><span class=\"mw-headline\" id=\".E6.AD.A6.E5.99.A8.E8.A3.85.E5.A4.87\">武器装备</span></h2>\n",
      "<h2><span class=\"mw-headline\" id=\".E5.A4.96.E9.83.A8.E9.93.BE.E6.8E.A5.E4.B8.8E.E6.B3.A8.E9.87.8A\">外部链接与注释</span></h2>\n",
      "<h2>导航菜单</h2>\n"
     ]
    }
   ],
   "source": [
    "for d in soup2.find_all(\"h2\"):\n",
    "    print(d)"
   ]
  },
  {
   "cell_type": "code",
   "execution_count": 46,
   "metadata": {},
   "outputs": [],
   "source": [
    "d = soup2.find_all(\"h2\")"
   ]
  },
  {
   "cell_type": "code",
   "execution_count": 49,
   "metadata": {},
   "outputs": [
    {
     "data": {
      "text/plain": [
       "bs4.element.Tag"
      ]
     },
     "execution_count": 49,
     "metadata": {},
     "output_type": "execute_result"
    }
   ],
   "source": [
    "type(d[2])"
   ]
  },
  {
   "cell_type": "code",
   "execution_count": 63,
   "metadata": {},
   "outputs": [],
   "source": [
    "e = d[1]"
   ]
  },
  {
   "cell_type": "code",
   "execution_count": 59,
   "metadata": {},
   "outputs": [
    {
     "name": "stdout",
     "output_type": "stream",
     "text": [
      "[]\n",
      "[]\n",
      "[]\n",
      "[]\n",
      "[]\n",
      "[]\n"
     ]
    }
   ],
   "source": [
    "for i in soup2.find_all(\"h2\"):\n",
    "    print(i.find_all(\"p\"))"
   ]
  },
  {
   "cell_type": "code",
   "execution_count": 61,
   "metadata": {},
   "outputs": [
    {
     "data": {
      "text/plain": [
       "<h2><span class=\"mw-headline\" id=\".E6.9C.BA.E5.A8.98.E5.8F.82.E6.95.B0\">机娘参数</span></h2>"
      ]
     },
     "execution_count": 61,
     "metadata": {},
     "output_type": "execute_result"
    }
   ],
   "source": [
    "e"
   ]
  },
  {
   "cell_type": "code",
   "execution_count": 65,
   "metadata": {},
   "outputs": [],
   "source": [
    "f = e.find_next_sibling()"
   ]
  },
  {
   "cell_type": "code",
   "execution_count": 66,
   "metadata": {
    "scrolled": true
   },
   "outputs": [
    {
     "data": {
      "text/plain": [
       "<p>“一年战争”初期，扎古一世被作为吉翁军的主力MS少女使用并投入到“大不列颠作战”中，取得了极大的战果。不过随着扎古二世的研发和生产，逐渐成为旧式MS少女退出了前线。大战中后期则主要被使用在运输资源等后勤工作上。至大战末期时，仍有部分扎古一世留存并被用于据点防御等军事任务。\n",
       "</p>"
      ]
     },
     "execution_count": 66,
     "metadata": {},
     "output_type": "execute_result"
    }
   ],
   "source": [
    "f.find_next_sibling()"
   ]
  },
  {
   "cell_type": "code",
   "execution_count": null,
   "metadata": {},
   "outputs": [],
   "source": []
  },
  {
   "cell_type": "code",
   "execution_count": 75,
   "metadata": {},
   "outputs": [],
   "source": [
    "a = soup2.select(\".firstHeading\")\n",
    "for i in a:\n",
    "    name = i.string\n",
    "point = soup2.find_all(\"h2\")\n",
    "desc1 = point[1].find_next_sibling() \n",
    "desc2 = desc1.find_next_sibling()\n",
    "desc = str(desc1)+str(desc2)\n",
    "desc = desc1.get_text()+desc2.get_text()"
   ]
  },
  {
   "cell_type": "code",
   "execution_count": 73,
   "metadata": {},
   "outputs": [
    {
     "data": {
      "text/plain": [
       "'扎古一世'"
      ]
     },
     "execution_count": 73,
     "metadata": {},
     "output_type": "execute_result"
    }
   ],
   "source": [
    "name"
   ]
  },
  {
   "cell_type": "code",
   "execution_count": 76,
   "metadata": {},
   "outputs": [
    {
     "data": {
      "text/plain": [
       "'该机娘为吉翁公国军最初的泛用量产型MS少女，也是人类历史上最初的量产型MS少女，是一代名姬MS-06“扎古二世”的原型姬。虽然与之后开发的扎古二世相比，该机娘的动力传达系统和推进剂容量等方面存在着诸多的问题，但作为一款战斗用MS少女已经具备了足够高的完成度。\\n“一年战争”初期，扎古一世被作为吉翁军的主力MS少女使用并投入到“大不列颠作战”中，取得了极大的战果。不过随着扎古二世的研发和生产，逐渐成为旧式MS少女退出了前线。大战中后期则主要被使用在运输资源等后勤工作上。至大战末期时，仍有部分扎古一世留存并被用于据点防御等军事任务。\\n'"
      ]
     },
     "execution_count": 76,
     "metadata": {},
     "output_type": "execute_result"
    }
   ],
   "source": [
    "desc"
   ]
  },
  {
   "cell_type": "code",
   "execution_count": null,
   "metadata": {},
   "outputs": [],
   "source": []
  }
 ],
 "metadata": {
  "kernelspec": {
   "display_name": "Python 3",
   "language": "python",
   "name": "python3"
  },
  "language_info": {
   "codemirror_mode": {
    "name": "ipython",
    "version": 3
   },
   "file_extension": ".py",
   "mimetype": "text/x-python",
   "name": "python",
   "nbconvert_exporter": "python",
   "pygments_lexer": "ipython3",
   "version": "3.7.0"
  }
 },
 "nbformat": 4,
 "nbformat_minor": 2
}
